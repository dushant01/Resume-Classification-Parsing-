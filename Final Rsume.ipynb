{
 "cells": [
  {
   "cell_type": "code",
   "execution_count": 2,
   "metadata": {},
   "outputs": [],
   "source": [
    "import os\n",
    "import docx2txt\n",
    "from pyresparser import ResumeParser\n",
    "\n",
    "# r=root, d=directories, f = files\n",
    "count=0\n",
    "doc_dir= os.path.join(r\"C:\\Users\\HP\\Documents\\Python_All\\Resume_parser\",\"resume_test_100/\")\n",
    "Res = []\n",
    "for r, d, f in os.walk(doc_dir):\n",
    "    for file in f:\n",
    "        if file.endswith(\"docx\") or file.endswith(\"Microsoft Word Document\") or file.endswith(\".docx\"):\n",
    "            path= (os.path.join( file))\n",
    "            #my_text= docx2txt.process(path)\n",
    "            count+=1\n",
    "            ResumePath = path\n",
    "            Res.append(ResumePath)\n",
    "            "
   ]
  },
  {
   "cell_type": "code",
   "execution_count": 3,
   "metadata": {},
   "outputs": [
    {
     "data": {
      "text/html": [
       "<div>\n",
       "<style scoped>\n",
       "    .dataframe tbody tr th:only-of-type {\n",
       "        vertical-align: middle;\n",
       "    }\n",
       "\n",
       "    .dataframe tbody tr th {\n",
       "        vertical-align: top;\n",
       "    }\n",
       "\n",
       "    .dataframe thead th {\n",
       "        text-align: right;\n",
       "    }\n",
       "</style>\n",
       "<table border=\"1\" class=\"dataframe\">\n",
       "  <thead>\n",
       "    <tr style=\"text-align: right;\">\n",
       "      <th></th>\n",
       "      <th>0</th>\n",
       "    </tr>\n",
       "  </thead>\n",
       "  <tbody>\n",
       "    <tr>\n",
       "      <th>0</th>\n",
       "      <td>0000 Program Mgr Abe Nasser NN Google  Resume ...</td>\n",
       "    </tr>\n",
       "    <tr>\n",
       "      <th>1</th>\n",
       "      <td>04-Swamy_Sarnala.docx</td>\n",
       "    </tr>\n",
       "    <tr>\n",
       "      <th>2</th>\n",
       "      <td>07-VamsiManoharBojjaResume java (1).docx</td>\n",
       "    </tr>\n",
       "    <tr>\n",
       "      <th>3</th>\n",
       "      <td>09-Sultana shaik-SAP Native HANA.docx</td>\n",
       "    </tr>\n",
       "    <tr>\n",
       "      <th>4</th>\n",
       "      <td>1.1.1.1 Solutions - Application Delivery - Sol...</td>\n",
       "    </tr>\n",
       "    <tr>\n",
       "      <th>...</th>\n",
       "      <td>...</td>\n",
       "    </tr>\n",
       "    <tr>\n",
       "      <th>93</th>\n",
       "      <td>Abhilash_Cyber Security.docx</td>\n",
       "    </tr>\n",
       "    <tr>\n",
       "      <th>94</th>\n",
       "      <td>Abhilash_Drools.docx</td>\n",
       "    </tr>\n",
       "    <tr>\n",
       "      <th>95</th>\n",
       "      <td>Abhilash_G (1).docx</td>\n",
       "    </tr>\n",
       "    <tr>\n",
       "      <th>96</th>\n",
       "      <td>Abhilash_G.docx</td>\n",
       "    </tr>\n",
       "    <tr>\n",
       "      <th>97</th>\n",
       "      <td>Abhi_DB2_DBA (1).docx</td>\n",
       "    </tr>\n",
       "  </tbody>\n",
       "</table>\n",
       "<p>98 rows × 1 columns</p>\n",
       "</div>"
      ],
      "text/plain": [
       "                                                    0\n",
       "0   0000 Program Mgr Abe Nasser NN Google  Resume ...\n",
       "1                               04-Swamy_Sarnala.docx\n",
       "2            07-VamsiManoharBojjaResume java (1).docx\n",
       "3               09-Sultana shaik-SAP Native HANA.docx\n",
       "4   1.1.1.1 Solutions - Application Delivery - Sol...\n",
       "..                                                ...\n",
       "93                       Abhilash_Cyber Security.docx\n",
       "94                               Abhilash_Drools.docx\n",
       "95                                Abhilash_G (1).docx\n",
       "96                                    Abhilash_G.docx\n",
       "97                              Abhi_DB2_DBA (1).docx\n",
       "\n",
       "[98 rows x 1 columns]"
      ]
     },
     "execution_count": 3,
     "metadata": {},
     "output_type": "execute_result"
    }
   ],
   "source": [
    "import pandas as pd\n",
    "resume_name= pd.DataFrame(Res)\n",
    "resume_name"
   ]
  },
  {
   "cell_type": "code",
   "execution_count": 4,
   "metadata": {
    "scrolled": false
   },
   "outputs": [
    {
     "name": "stderr",
     "output_type": "stream",
     "text": [
      "[nltk_data] Downloading package stopwords to\n",
      "[nltk_data]     C:\\Users\\HP\\AppData\\Roaming\\nltk_data...\n",
      "[nltk_data]   Package stopwords is already up-to-date!\n",
      "C:\\Users\\HP\\Documents\\Python_All\\Resume_parser\\Resume_env\\lib\\site-packages\\spacy\\util.py:275: UserWarning: [W031] Model 'en_training' (0.0.0) requires spaCy v2.1 and is incompatible with the current spaCy version (2.3.2). This may lead to unexpected results or runtime errors. To resolve this, download a newer compatible model or retrain your custom model with the current spaCy version. For more details and available updates, run: python -m spacy validate\n",
      "  warnings.warn(warn_msg)\n"
     ]
    },
    {
     "name": "stdout",
     "output_type": "stream",
     "text": [
      "done\n"
     ]
    }
   ],
   "source": [
    "from pyresparser import ResumeParser\n",
    "from pyresparser import ResumeParser\n",
    "import nltk\n",
    "import os\n",
    "import pandas as pd \n",
    "import numpy as np \n",
    "nltk.download('stopwords')\n",
    "import spacy\n",
    "nlp = spacy.load(\"en_core_web_sm\")\n",
    "R=[]\n",
    "df= pd.DataFrame(columns=['name', 'email', 'mobile_number','skills','college_name','designation','experience',\n",
    "                         'company_names','no_of_pages','total_experience'])\n",
    "for r, d, f in os.walk(r\"C:\\Users\\HP\\Documents\\Python_All\\Resume_parser\"):\n",
    "    for file in f:\n",
    "        if file.endswith(\"docx\") or file.endswith(\"Microsoft Word Document\") or file.endswith(\".docx\"):\n",
    "            path= (os.path.join(r, file))\n",
    "            #my_text= docx2txt.process(path)\n",
    "           # R= [\"Resume\"+path for i in path]\n",
    "            #R.append(R)\n",
    "            data = ResumeParser(path).get_extracted_data()\n",
    "            df= df.append(data,ignore_index=True)\n",
    "print(\"done\")"
   ]
  },
  {
   "cell_type": "code",
   "execution_count": 6,
   "metadata": {},
   "outputs": [
    {
     "data": {
      "text/html": [
       "<div>\n",
       "<style scoped>\n",
       "    .dataframe tbody tr th:only-of-type {\n",
       "        vertical-align: middle;\n",
       "    }\n",
       "\n",
       "    .dataframe tbody tr th {\n",
       "        vertical-align: top;\n",
       "    }\n",
       "\n",
       "    .dataframe thead th {\n",
       "        text-align: right;\n",
       "    }\n",
       "</style>\n",
       "<table border=\"1\" class=\"dataframe\">\n",
       "  <thead>\n",
       "    <tr style=\"text-align: right;\">\n",
       "      <th></th>\n",
       "      <th>name</th>\n",
       "      <th>email</th>\n",
       "      <th>mobile_number</th>\n",
       "      <th>skills</th>\n",
       "      <th>college_name</th>\n",
       "      <th>designation</th>\n",
       "      <th>experience</th>\n",
       "      <th>company_names</th>\n",
       "      <th>no_of_pages</th>\n",
       "      <th>total_experience</th>\n",
       "      <th>degree</th>\n",
       "    </tr>\n",
       "  </thead>\n",
       "  <tbody>\n",
       "    <tr>\n",
       "      <th>0</th>\n",
       "      <td>None</td>\n",
       "      <td>None</td>\n",
       "      <td>None</td>\n",
       "      <td>[]</td>\n",
       "      <td>None</td>\n",
       "      <td>None</td>\n",
       "      <td>None</td>\n",
       "      <td>None</td>\n",
       "      <td>None</td>\n",
       "      <td>0</td>\n",
       "      <td>None</td>\n",
       "    </tr>\n",
       "    <tr>\n",
       "      <th>1</th>\n",
       "      <td>San Jose</td>\n",
       "      <td>nasserjobs@gmail.com</td>\n",
       "      <td>552-2676</td>\n",
       "      <td>[Cloud, Audio, Business development, Tv, Repor...</td>\n",
       "      <td>None</td>\n",
       "      <td>[Director, QA Lead/Manager, Business Analyst &amp;...</td>\n",
       "      <td>None</td>\n",
       "      <td>[Hammer, Oracle, Amazon, Cisco, Microsoft]</td>\n",
       "      <td>None</td>\n",
       "      <td>0</td>\n",
       "      <td>None</td>\n",
       "    </tr>\n",
       "    <tr>\n",
       "      <th>2</th>\n",
       "      <td>Swamy Sarnala Contact</td>\n",
       "      <td>sarnalaswamy9@gmail.com</td>\n",
       "      <td>875-3748</td>\n",
       "      <td>[Workflow, C++, Css, Electrical, Migration, Li...</td>\n",
       "      <td>None</td>\n",
       "      <td>[Mule ESB Integration Consultant]</td>\n",
       "      <td>None</td>\n",
       "      <td>[Oracle]</td>\n",
       "      <td>None</td>\n",
       "      <td>0</td>\n",
       "      <td>[Bachelors of Technology in Electrical &amp; Elect...</td>\n",
       "    </tr>\n",
       "    <tr>\n",
       "      <th>3</th>\n",
       "      <td>Vamsi Manohar Bojja</td>\n",
       "      <td>vamsimanohar14@gmail.com</td>\n",
       "      <td>830-0647</td>\n",
       "      <td>[Css, Documentation, Governance, Presentation,...</td>\n",
       "      <td>None</td>\n",
       "      <td>None</td>\n",
       "      <td>None</td>\n",
       "      <td>[Oracle, JNTU]</td>\n",
       "      <td>None</td>\n",
       "      <td>0</td>\n",
       "      <td>None</td>\n",
       "    </tr>\n",
       "    <tr>\n",
       "      <th>4</th>\n",
       "      <td>SULTANA SHAIK</td>\n",
       "      <td>Sultanashaik673@gmail.com</td>\n",
       "      <td>636-7951</td>\n",
       "      <td>[Workflow, C++, Css, Compliance, Data analytic...</td>\n",
       "      <td>None</td>\n",
       "      <td>None</td>\n",
       "      <td>None</td>\n",
       "      <td>[Oracle, SAP]</td>\n",
       "      <td>None</td>\n",
       "      <td>0</td>\n",
       "      <td>None</td>\n",
       "    </tr>\n",
       "    <tr>\n",
       "      <th>...</th>\n",
       "      <td>...</td>\n",
       "      <td>...</td>\n",
       "      <td>...</td>\n",
       "      <td>...</td>\n",
       "      <td>...</td>\n",
       "      <td>...</td>\n",
       "      <td>...</td>\n",
       "      <td>...</td>\n",
       "      <td>...</td>\n",
       "      <td>...</td>\n",
       "      <td>...</td>\n",
       "    </tr>\n",
       "    <tr>\n",
       "      <th>94</th>\n",
       "      <td>Abhilash Maroju Mob</td>\n",
       "      <td>abhilash9.soc@gmail.com</td>\n",
       "      <td>288-5535</td>\n",
       "      <td>[Regulatory, Administration, Cloud, Investigat...</td>\n",
       "      <td>None</td>\n",
       "      <td>[Security Analyst, Cyber Security Engineer]</td>\n",
       "      <td>None</td>\n",
       "      <td>[Microsoft]</td>\n",
       "      <td>None</td>\n",
       "      <td>0</td>\n",
       "      <td>[Masters in Computer science &amp; Infosec + B. TE...</td>\n",
       "    </tr>\n",
       "    <tr>\n",
       "      <th>95</th>\n",
       "      <td>AbhilashBonala abhilashjava6@gmail.com</td>\n",
       "      <td>abhilashjava6@gmail.com</td>\n",
       "      <td>662-426-6252</td>\n",
       "      <td>[Css, Software development life cycle, Pivot, ...</td>\n",
       "      <td>None</td>\n",
       "      <td>None</td>\n",
       "      <td>None</td>\n",
       "      <td>[Oracle]</td>\n",
       "      <td>None</td>\n",
       "      <td>0</td>\n",
       "      <td>[Bachelors in Information Technology]</td>\n",
       "    </tr>\n",
       "    <tr>\n",
       "      <th>96</th>\n",
       "      <td>ABHILASH 201</td>\n",
       "      <td>abhilash023.cpp@gmail.com</td>\n",
       "      <td>201-639-4599</td>\n",
       "      <td>[Css, Regulatory, Administration, Software dev...</td>\n",
       "      <td>None</td>\n",
       "      <td>None</td>\n",
       "      <td>None</td>\n",
       "      <td>[Shell, Oracle]</td>\n",
       "      <td>None</td>\n",
       "      <td>0</td>\n",
       "      <td>None</td>\n",
       "    </tr>\n",
       "    <tr>\n",
       "      <th>97</th>\n",
       "      <td>ABHILASH 201</td>\n",
       "      <td>abhilash023.cpp@gmail.com</td>\n",
       "      <td>201-639-4599</td>\n",
       "      <td>[Css, Regulatory, Administration, Software dev...</td>\n",
       "      <td>None</td>\n",
       "      <td>None</td>\n",
       "      <td>None</td>\n",
       "      <td>[Shell, Oracle]</td>\n",
       "      <td>None</td>\n",
       "      <td>0</td>\n",
       "      <td>None</td>\n",
       "    </tr>\n",
       "    <tr>\n",
       "      <th>98</th>\n",
       "      <td>Abhi                                          ...</td>\n",
       "      <td>abhinav.db2dba@gmail.com</td>\n",
       "      <td>832-551-4723</td>\n",
       "      <td>[Workflow, Supply chain management, Migration,...</td>\n",
       "      <td>None</td>\n",
       "      <td>[Database Administrator]</td>\n",
       "      <td>None</td>\n",
       "      <td>[Oracle]</td>\n",
       "      <td>None</td>\n",
       "      <td>0</td>\n",
       "      <td>None</td>\n",
       "    </tr>\n",
       "  </tbody>\n",
       "</table>\n",
       "<p>99 rows × 11 columns</p>\n",
       "</div>"
      ],
      "text/plain": [
       "                                                 name  \\\n",
       "0                                                None   \n",
       "1                                            San Jose   \n",
       "2                               Swamy Sarnala Contact   \n",
       "3                                 Vamsi Manohar Bojja   \n",
       "4                                       SULTANA SHAIK   \n",
       "..                                                ...   \n",
       "94                                Abhilash Maroju Mob   \n",
       "95             AbhilashBonala abhilashjava6@gmail.com   \n",
       "96                                       ABHILASH 201   \n",
       "97                                       ABHILASH 201   \n",
       "98  Abhi                                          ...   \n",
       "\n",
       "                        email mobile_number  \\\n",
       "0                        None          None   \n",
       "1        nasserjobs@gmail.com      552-2676   \n",
       "2     sarnalaswamy9@gmail.com      875-3748   \n",
       "3    vamsimanohar14@gmail.com      830-0647   \n",
       "4   Sultanashaik673@gmail.com      636-7951   \n",
       "..                        ...           ...   \n",
       "94    abhilash9.soc@gmail.com      288-5535   \n",
       "95    abhilashjava6@gmail.com  662-426-6252   \n",
       "96  abhilash023.cpp@gmail.com  201-639-4599   \n",
       "97  abhilash023.cpp@gmail.com  201-639-4599   \n",
       "98   abhinav.db2dba@gmail.com  832-551-4723   \n",
       "\n",
       "                                               skills college_name  \\\n",
       "0                                                  []         None   \n",
       "1   [Cloud, Audio, Business development, Tv, Repor...         None   \n",
       "2   [Workflow, C++, Css, Electrical, Migration, Li...         None   \n",
       "3   [Css, Documentation, Governance, Presentation,...         None   \n",
       "4   [Workflow, C++, Css, Compliance, Data analytic...         None   \n",
       "..                                                ...          ...   \n",
       "94  [Regulatory, Administration, Cloud, Investigat...         None   \n",
       "95  [Css, Software development life cycle, Pivot, ...         None   \n",
       "96  [Css, Regulatory, Administration, Software dev...         None   \n",
       "97  [Css, Regulatory, Administration, Software dev...         None   \n",
       "98  [Workflow, Supply chain management, Migration,...         None   \n",
       "\n",
       "                                          designation experience  \\\n",
       "0                                                None       None   \n",
       "1   [Director, QA Lead/Manager, Business Analyst &...       None   \n",
       "2                   [Mule ESB Integration Consultant]       None   \n",
       "3                                                None       None   \n",
       "4                                                None       None   \n",
       "..                                                ...        ...   \n",
       "94        [Security Analyst, Cyber Security Engineer]       None   \n",
       "95                                               None       None   \n",
       "96                                               None       None   \n",
       "97                                               None       None   \n",
       "98                           [Database Administrator]       None   \n",
       "\n",
       "                                 company_names no_of_pages total_experience  \\\n",
       "0                                         None        None                0   \n",
       "1   [Hammer, Oracle, Amazon, Cisco, Microsoft]        None                0   \n",
       "2                                     [Oracle]        None                0   \n",
       "3                               [Oracle, JNTU]        None                0   \n",
       "4                                [Oracle, SAP]        None                0   \n",
       "..                                         ...         ...              ...   \n",
       "94                                 [Microsoft]        None                0   \n",
       "95                                    [Oracle]        None                0   \n",
       "96                             [Shell, Oracle]        None                0   \n",
       "97                             [Shell, Oracle]        None                0   \n",
       "98                                    [Oracle]        None                0   \n",
       "\n",
       "                                               degree  \n",
       "0                                                None  \n",
       "1                                                None  \n",
       "2   [Bachelors of Technology in Electrical & Elect...  \n",
       "3                                                None  \n",
       "4                                                None  \n",
       "..                                                ...  \n",
       "94  [Masters in Computer science & Infosec + B. TE...  \n",
       "95              [Bachelors in Information Technology]  \n",
       "96                                               None  \n",
       "97                                               None  \n",
       "98                                               None  \n",
       "\n",
       "[99 rows x 11 columns]"
      ]
     },
     "execution_count": 6,
     "metadata": {},
     "output_type": "execute_result"
    }
   ],
   "source": [
    "df"
   ]
  },
  {
   "cell_type": "code",
   "execution_count": 10,
   "metadata": {
    "scrolled": true
   },
   "outputs": [],
   "source": [
    "#A= df.drop(0,axis=0,inplace=True)\n",
    "A= df\n",
    "A.drop([1],axis=0,inplace=True)\n",
    "A.index=range(1,98)"
   ]
  },
  {
   "cell_type": "code",
   "execution_count": 11,
   "metadata": {},
   "outputs": [
    {
     "data": {
      "text/html": [
       "<div>\n",
       "<style scoped>\n",
       "    .dataframe tbody tr th:only-of-type {\n",
       "        vertical-align: middle;\n",
       "    }\n",
       "\n",
       "    .dataframe tbody tr th {\n",
       "        vertical-align: top;\n",
       "    }\n",
       "\n",
       "    .dataframe thead th {\n",
       "        text-align: right;\n",
       "    }\n",
       "</style>\n",
       "<table border=\"1\" class=\"dataframe\">\n",
       "  <thead>\n",
       "    <tr style=\"text-align: right;\">\n",
       "      <th></th>\n",
       "      <th>name</th>\n",
       "      <th>email</th>\n",
       "      <th>mobile_number</th>\n",
       "      <th>skills</th>\n",
       "      <th>college_name</th>\n",
       "      <th>designation</th>\n",
       "      <th>experience</th>\n",
       "      <th>company_names</th>\n",
       "      <th>no_of_pages</th>\n",
       "      <th>total_experience</th>\n",
       "      <th>degree</th>\n",
       "    </tr>\n",
       "  </thead>\n",
       "  <tbody>\n",
       "    <tr>\n",
       "      <th>1</th>\n",
       "      <td>Swamy Sarnala Contact</td>\n",
       "      <td>sarnalaswamy9@gmail.com</td>\n",
       "      <td>875-3748</td>\n",
       "      <td>[Workflow, C++, Css, Electrical, Migration, Li...</td>\n",
       "      <td>None</td>\n",
       "      <td>[Mule ESB Integration Consultant]</td>\n",
       "      <td>None</td>\n",
       "      <td>[Oracle]</td>\n",
       "      <td>None</td>\n",
       "      <td>0</td>\n",
       "      <td>[Bachelors of Technology in Electrical &amp; Elect...</td>\n",
       "    </tr>\n",
       "    <tr>\n",
       "      <th>2</th>\n",
       "      <td>Vamsi Manohar Bojja</td>\n",
       "      <td>vamsimanohar14@gmail.com</td>\n",
       "      <td>830-0647</td>\n",
       "      <td>[Css, Documentation, Governance, Presentation,...</td>\n",
       "      <td>None</td>\n",
       "      <td>None</td>\n",
       "      <td>None</td>\n",
       "      <td>[Oracle, JNTU]</td>\n",
       "      <td>None</td>\n",
       "      <td>0</td>\n",
       "      <td>None</td>\n",
       "    </tr>\n",
       "    <tr>\n",
       "      <th>3</th>\n",
       "      <td>SULTANA SHAIK</td>\n",
       "      <td>Sultanashaik673@gmail.com</td>\n",
       "      <td>636-7951</td>\n",
       "      <td>[Workflow, C++, Css, Compliance, Data analytic...</td>\n",
       "      <td>None</td>\n",
       "      <td>None</td>\n",
       "      <td>None</td>\n",
       "      <td>[Oracle, SAP]</td>\n",
       "      <td>None</td>\n",
       "      <td>0</td>\n",
       "      <td>None</td>\n",
       "    </tr>\n",
       "    <tr>\n",
       "      <th>4</th>\n",
       "      <td>ABCD Job</td>\n",
       "      <td>None</td>\n",
       "      <td>None</td>\n",
       "      <td>[Workflow, Css, Documentation, Communication, ...</td>\n",
       "      <td>None</td>\n",
       "      <td>[Technical/Solutions Architect Minimum]</td>\n",
       "      <td>None</td>\n",
       "      <td>None</td>\n",
       "      <td>None</td>\n",
       "      <td>0</td>\n",
       "      <td>None</td>\n",
       "    </tr>\n",
       "    <tr>\n",
       "      <th>5</th>\n",
       "      <td>ABCD Job</td>\n",
       "      <td>None</td>\n",
       "      <td>None</td>\n",
       "      <td>[Workflow, Documentation, Communication, Testi...</td>\n",
       "      <td>None</td>\n",
       "      <td>[Technical/Solutions Architect Minimum]</td>\n",
       "      <td>None</td>\n",
       "      <td>None</td>\n",
       "      <td>None</td>\n",
       "      <td>0</td>\n",
       "      <td>None</td>\n",
       "    </tr>\n",
       "    <tr>\n",
       "      <th>...</th>\n",
       "      <td>...</td>\n",
       "      <td>...</td>\n",
       "      <td>...</td>\n",
       "      <td>...</td>\n",
       "      <td>...</td>\n",
       "      <td>...</td>\n",
       "      <td>...</td>\n",
       "      <td>...</td>\n",
       "      <td>...</td>\n",
       "      <td>...</td>\n",
       "      <td>...</td>\n",
       "    </tr>\n",
       "    <tr>\n",
       "      <th>93</th>\n",
       "      <td>Abhilash Maroju Mob</td>\n",
       "      <td>abhilash9.soc@gmail.com</td>\n",
       "      <td>288-5535</td>\n",
       "      <td>[Regulatory, Administration, Cloud, Investigat...</td>\n",
       "      <td>None</td>\n",
       "      <td>[Security Analyst, Cyber Security Engineer]</td>\n",
       "      <td>None</td>\n",
       "      <td>[Microsoft]</td>\n",
       "      <td>None</td>\n",
       "      <td>0</td>\n",
       "      <td>[Masters in Computer science &amp; Infosec + B. TE...</td>\n",
       "    </tr>\n",
       "    <tr>\n",
       "      <th>94</th>\n",
       "      <td>AbhilashBonala abhilashjava6@gmail.com</td>\n",
       "      <td>abhilashjava6@gmail.com</td>\n",
       "      <td>662-426-6252</td>\n",
       "      <td>[Css, Software development life cycle, Pivot, ...</td>\n",
       "      <td>None</td>\n",
       "      <td>None</td>\n",
       "      <td>None</td>\n",
       "      <td>[Oracle]</td>\n",
       "      <td>None</td>\n",
       "      <td>0</td>\n",
       "      <td>[Bachelors in Information Technology]</td>\n",
       "    </tr>\n",
       "    <tr>\n",
       "      <th>95</th>\n",
       "      <td>ABHILASH 201</td>\n",
       "      <td>abhilash023.cpp@gmail.com</td>\n",
       "      <td>201-639-4599</td>\n",
       "      <td>[Css, Regulatory, Administration, Software dev...</td>\n",
       "      <td>None</td>\n",
       "      <td>None</td>\n",
       "      <td>None</td>\n",
       "      <td>[Shell, Oracle]</td>\n",
       "      <td>None</td>\n",
       "      <td>0</td>\n",
       "      <td>None</td>\n",
       "    </tr>\n",
       "    <tr>\n",
       "      <th>96</th>\n",
       "      <td>ABHILASH 201</td>\n",
       "      <td>abhilash023.cpp@gmail.com</td>\n",
       "      <td>201-639-4599</td>\n",
       "      <td>[Css, Regulatory, Administration, Software dev...</td>\n",
       "      <td>None</td>\n",
       "      <td>None</td>\n",
       "      <td>None</td>\n",
       "      <td>[Shell, Oracle]</td>\n",
       "      <td>None</td>\n",
       "      <td>0</td>\n",
       "      <td>None</td>\n",
       "    </tr>\n",
       "    <tr>\n",
       "      <th>97</th>\n",
       "      <td>Abhi                                          ...</td>\n",
       "      <td>abhinav.db2dba@gmail.com</td>\n",
       "      <td>832-551-4723</td>\n",
       "      <td>[Workflow, Supply chain management, Migration,...</td>\n",
       "      <td>None</td>\n",
       "      <td>[Database Administrator]</td>\n",
       "      <td>None</td>\n",
       "      <td>[Oracle]</td>\n",
       "      <td>None</td>\n",
       "      <td>0</td>\n",
       "      <td>None</td>\n",
       "    </tr>\n",
       "  </tbody>\n",
       "</table>\n",
       "<p>97 rows × 11 columns</p>\n",
       "</div>"
      ],
      "text/plain": [
       "                                                 name  \\\n",
       "1                               Swamy Sarnala Contact   \n",
       "2                                 Vamsi Manohar Bojja   \n",
       "3                                       SULTANA SHAIK   \n",
       "4                                            ABCD Job   \n",
       "5                                            ABCD Job   \n",
       "..                                                ...   \n",
       "93                                Abhilash Maroju Mob   \n",
       "94             AbhilashBonala abhilashjava6@gmail.com   \n",
       "95                                       ABHILASH 201   \n",
       "96                                       ABHILASH 201   \n",
       "97  Abhi                                          ...   \n",
       "\n",
       "                        email mobile_number  \\\n",
       "1     sarnalaswamy9@gmail.com      875-3748   \n",
       "2    vamsimanohar14@gmail.com      830-0647   \n",
       "3   Sultanashaik673@gmail.com      636-7951   \n",
       "4                        None          None   \n",
       "5                        None          None   \n",
       "..                        ...           ...   \n",
       "93    abhilash9.soc@gmail.com      288-5535   \n",
       "94    abhilashjava6@gmail.com  662-426-6252   \n",
       "95  abhilash023.cpp@gmail.com  201-639-4599   \n",
       "96  abhilash023.cpp@gmail.com  201-639-4599   \n",
       "97   abhinav.db2dba@gmail.com  832-551-4723   \n",
       "\n",
       "                                               skills college_name  \\\n",
       "1   [Workflow, C++, Css, Electrical, Migration, Li...         None   \n",
       "2   [Css, Documentation, Governance, Presentation,...         None   \n",
       "3   [Workflow, C++, Css, Compliance, Data analytic...         None   \n",
       "4   [Workflow, Css, Documentation, Communication, ...         None   \n",
       "5   [Workflow, Documentation, Communication, Testi...         None   \n",
       "..                                                ...          ...   \n",
       "93  [Regulatory, Administration, Cloud, Investigat...         None   \n",
       "94  [Css, Software development life cycle, Pivot, ...         None   \n",
       "95  [Css, Regulatory, Administration, Software dev...         None   \n",
       "96  [Css, Regulatory, Administration, Software dev...         None   \n",
       "97  [Workflow, Supply chain management, Migration,...         None   \n",
       "\n",
       "                                    designation experience    company_names  \\\n",
       "1             [Mule ESB Integration Consultant]       None         [Oracle]   \n",
       "2                                          None       None   [Oracle, JNTU]   \n",
       "3                                          None       None    [Oracle, SAP]   \n",
       "4       [Technical/Solutions Architect Minimum]       None             None   \n",
       "5       [Technical/Solutions Architect Minimum]       None             None   \n",
       "..                                          ...        ...              ...   \n",
       "93  [Security Analyst, Cyber Security Engineer]       None      [Microsoft]   \n",
       "94                                         None       None         [Oracle]   \n",
       "95                                         None       None  [Shell, Oracle]   \n",
       "96                                         None       None  [Shell, Oracle]   \n",
       "97                     [Database Administrator]       None         [Oracle]   \n",
       "\n",
       "   no_of_pages total_experience  \\\n",
       "1         None                0   \n",
       "2         None                0   \n",
       "3         None                0   \n",
       "4         None                0   \n",
       "5         None                0   \n",
       "..         ...              ...   \n",
       "93        None                0   \n",
       "94        None                0   \n",
       "95        None                0   \n",
       "96        None                0   \n",
       "97        None                0   \n",
       "\n",
       "                                               degree  \n",
       "1   [Bachelors of Technology in Electrical & Elect...  \n",
       "2                                                None  \n",
       "3                                                None  \n",
       "4                                                None  \n",
       "5                                                None  \n",
       "..                                                ...  \n",
       "93  [Masters in Computer science & Infosec + B. TE...  \n",
       "94              [Bachelors in Information Technology]  \n",
       "95                                               None  \n",
       "96                                               None  \n",
       "97                                               None  \n",
       "\n",
       "[97 rows x 11 columns]"
      ]
     },
     "execution_count": 11,
     "metadata": {},
     "output_type": "execute_result"
    }
   ],
   "source": [
    "A"
   ]
  },
  {
   "cell_type": "code",
   "execution_count": 7,
   "metadata": {},
   "outputs": [
    {
     "data": {
      "text/html": [
       "<div>\n",
       "<style scoped>\n",
       "    .dataframe tbody tr th:only-of-type {\n",
       "        vertical-align: middle;\n",
       "    }\n",
       "\n",
       "    .dataframe tbody tr th {\n",
       "        vertical-align: top;\n",
       "    }\n",
       "\n",
       "    .dataframe thead th {\n",
       "        text-align: right;\n",
       "    }\n",
       "</style>\n",
       "<table border=\"1\" class=\"dataframe\">\n",
       "  <thead>\n",
       "    <tr style=\"text-align: right;\">\n",
       "      <th></th>\n",
       "      <th>0</th>\n",
       "    </tr>\n",
       "  </thead>\n",
       "  <tbody>\n",
       "    <tr>\n",
       "      <th>1</th>\n",
       "      <td>04-Swamy_Sarnala.docx</td>\n",
       "    </tr>\n",
       "    <tr>\n",
       "      <th>2</th>\n",
       "      <td>07-VamsiManoharBojjaResume java (1).docx</td>\n",
       "    </tr>\n",
       "    <tr>\n",
       "      <th>3</th>\n",
       "      <td>09-Sultana shaik-SAP Native HANA.docx</td>\n",
       "    </tr>\n",
       "    <tr>\n",
       "      <th>4</th>\n",
       "      <td>1.1.1.1 Solutions - Application Delivery - Sol...</td>\n",
       "    </tr>\n",
       "    <tr>\n",
       "      <th>5</th>\n",
       "      <td>1.1.1.1 Solutions - Application Delivery - Sol...</td>\n",
       "    </tr>\n",
       "    <tr>\n",
       "      <th>...</th>\n",
       "      <td>...</td>\n",
       "    </tr>\n",
       "    <tr>\n",
       "      <th>93</th>\n",
       "      <td>Abhilash_Cyber Security.docx</td>\n",
       "    </tr>\n",
       "    <tr>\n",
       "      <th>94</th>\n",
       "      <td>Abhilash_Drools.docx</td>\n",
       "    </tr>\n",
       "    <tr>\n",
       "      <th>95</th>\n",
       "      <td>Abhilash_G (1).docx</td>\n",
       "    </tr>\n",
       "    <tr>\n",
       "      <th>96</th>\n",
       "      <td>Abhilash_G.docx</td>\n",
       "    </tr>\n",
       "    <tr>\n",
       "      <th>97</th>\n",
       "      <td>Abhi_DB2_DBA (1).docx</td>\n",
       "    </tr>\n",
       "  </tbody>\n",
       "</table>\n",
       "<p>97 rows × 1 columns</p>\n",
       "</div>"
      ],
      "text/plain": [
       "                                                    0\n",
       "1                               04-Swamy_Sarnala.docx\n",
       "2            07-VamsiManoharBojjaResume java (1).docx\n",
       "3               09-Sultana shaik-SAP Native HANA.docx\n",
       "4   1.1.1.1 Solutions - Application Delivery - Sol...\n",
       "5   1.1.1.1 Solutions - Application Delivery - Sol...\n",
       "..                                                ...\n",
       "93                       Abhilash_Cyber Security.docx\n",
       "94                               Abhilash_Drools.docx\n",
       "95                                Abhilash_G (1).docx\n",
       "96                                    Abhilash_G.docx\n",
       "97                              Abhi_DB2_DBA (1).docx\n",
       "\n",
       "[97 rows x 1 columns]"
      ]
     },
     "execution_count": 7,
     "metadata": {},
     "output_type": "execute_result"
    }
   ],
   "source": [
    "final_df = resume_name.drop(0)\n",
    "final_df"
   ]
  },
  {
   "cell_type": "code",
   "execution_count": 12,
   "metadata": {},
   "outputs": [],
   "source": [
    "final_df[\"skills\"] = A[\"skills\"]"
   ]
  },
  {
   "cell_type": "code",
   "execution_count": 13,
   "metadata": {
    "scrolled": true
   },
   "outputs": [
    {
     "data": {
      "text/html": [
       "<div>\n",
       "<style scoped>\n",
       "    .dataframe tbody tr th:only-of-type {\n",
       "        vertical-align: middle;\n",
       "    }\n",
       "\n",
       "    .dataframe tbody tr th {\n",
       "        vertical-align: top;\n",
       "    }\n",
       "\n",
       "    .dataframe thead th {\n",
       "        text-align: right;\n",
       "    }\n",
       "</style>\n",
       "<table border=\"1\" class=\"dataframe\">\n",
       "  <thead>\n",
       "    <tr style=\"text-align: right;\">\n",
       "      <th></th>\n",
       "      <th>0</th>\n",
       "      <th>skills</th>\n",
       "    </tr>\n",
       "  </thead>\n",
       "  <tbody>\n",
       "    <tr>\n",
       "      <th>1</th>\n",
       "      <td>04-Swamy_Sarnala.docx</td>\n",
       "      <td>[Workflow, C++, Css, Electrical, Migration, Li...</td>\n",
       "    </tr>\n",
       "    <tr>\n",
       "      <th>2</th>\n",
       "      <td>07-VamsiManoharBojjaResume java (1).docx</td>\n",
       "      <td>[Css, Documentation, Governance, Presentation,...</td>\n",
       "    </tr>\n",
       "    <tr>\n",
       "      <th>3</th>\n",
       "      <td>09-Sultana shaik-SAP Native HANA.docx</td>\n",
       "      <td>[Workflow, C++, Css, Compliance, Data analytic...</td>\n",
       "    </tr>\n",
       "    <tr>\n",
       "      <th>4</th>\n",
       "      <td>1.1.1.1 Solutions - Application Delivery - Sol...</td>\n",
       "      <td>[Workflow, Css, Documentation, Communication, ...</td>\n",
       "    </tr>\n",
       "    <tr>\n",
       "      <th>5</th>\n",
       "      <td>1.1.1.1 Solutions - Application Delivery - Sol...</td>\n",
       "      <td>[Workflow, Documentation, Communication, Testi...</td>\n",
       "    </tr>\n",
       "    <tr>\n",
       "      <th>...</th>\n",
       "      <td>...</td>\n",
       "      <td>...</td>\n",
       "    </tr>\n",
       "    <tr>\n",
       "      <th>93</th>\n",
       "      <td>Abhilash_Cyber Security.docx</td>\n",
       "      <td>[Regulatory, Administration, Cloud, Investigat...</td>\n",
       "    </tr>\n",
       "    <tr>\n",
       "      <th>94</th>\n",
       "      <td>Abhilash_Drools.docx</td>\n",
       "      <td>[Css, Software development life cycle, Pivot, ...</td>\n",
       "    </tr>\n",
       "    <tr>\n",
       "      <th>95</th>\n",
       "      <td>Abhilash_G (1).docx</td>\n",
       "      <td>[Css, Regulatory, Administration, Software dev...</td>\n",
       "    </tr>\n",
       "    <tr>\n",
       "      <th>96</th>\n",
       "      <td>Abhilash_G.docx</td>\n",
       "      <td>[Css, Regulatory, Administration, Software dev...</td>\n",
       "    </tr>\n",
       "    <tr>\n",
       "      <th>97</th>\n",
       "      <td>Abhi_DB2_DBA (1).docx</td>\n",
       "      <td>[Workflow, Supply chain management, Migration,...</td>\n",
       "    </tr>\n",
       "  </tbody>\n",
       "</table>\n",
       "<p>97 rows × 2 columns</p>\n",
       "</div>"
      ],
      "text/plain": [
       "                                                    0  \\\n",
       "1                               04-Swamy_Sarnala.docx   \n",
       "2            07-VamsiManoharBojjaResume java (1).docx   \n",
       "3               09-Sultana shaik-SAP Native HANA.docx   \n",
       "4   1.1.1.1 Solutions - Application Delivery - Sol...   \n",
       "5   1.1.1.1 Solutions - Application Delivery - Sol...   \n",
       "..                                                ...   \n",
       "93                       Abhilash_Cyber Security.docx   \n",
       "94                               Abhilash_Drools.docx   \n",
       "95                                Abhilash_G (1).docx   \n",
       "96                                    Abhilash_G.docx   \n",
       "97                              Abhi_DB2_DBA (1).docx   \n",
       "\n",
       "                                               skills  \n",
       "1   [Workflow, C++, Css, Electrical, Migration, Li...  \n",
       "2   [Css, Documentation, Governance, Presentation,...  \n",
       "3   [Workflow, C++, Css, Compliance, Data analytic...  \n",
       "4   [Workflow, Css, Documentation, Communication, ...  \n",
       "5   [Workflow, Documentation, Communication, Testi...  \n",
       "..                                                ...  \n",
       "93  [Regulatory, Administration, Cloud, Investigat...  \n",
       "94  [Css, Software development life cycle, Pivot, ...  \n",
       "95  [Css, Regulatory, Administration, Software dev...  \n",
       "96  [Css, Regulatory, Administration, Software dev...  \n",
       "97  [Workflow, Supply chain management, Migration,...  \n",
       "\n",
       "[97 rows x 2 columns]"
      ]
     },
     "execution_count": 13,
     "metadata": {},
     "output_type": "execute_result"
    }
   ],
   "source": [
    "final_df"
   ]
  },
  {
   "cell_type": "code",
   "execution_count": 14,
   "metadata": {
    "scrolled": true
   },
   "outputs": [
    {
     "data": {
      "text/plain": [
       "\"['Workflow', 'C++', 'Css', 'Electrical', 'Migration', 'Linux', 'Administration', 'Oracle', 'Scrum', 'Aws', 'Cloud', 'Testing', 'Unix', 'Servers', 'Logging', 'Rest', 'Database', 'Investigation', 'Transport', 'Js', 'Sdlc', 'Apis', 'Specifications', 'Ui', 'Db2', 'Threading', 'Process', 'Web services', 'Test cases', 'Jsp', 'Iso', 'Security', 'System', 'Operations', 'Sql', 'Html', 'Javascript', 'Agile', 'Github', 'Design', 'Engineering', 'Api', 'Access', 'C', 'Analysis', 'Workflows', 'Android', 'Technical', 'Writing', 'User stories', 'Routing', 'Xml', 'Architecture', 'Sap', 'Electronics', 'Salesforce', 'Soap', 'Research', 'Ios', 'Jira', 'Analyze', 'Sales', 'Ibm', 'Java']['Css', 'Documentation', 'Governance', 'Presentation', 'Linux', 'Software development life cycle', 'Administration', 'Oracle', 'Policies', 'Unix', 'Filing', 'Testing', 'Html5', 'Logging', 'Rest', 'Database', 'Reporting', 'Json', 'Automation', 'Apis', 'Ui', 'Pattern', 'Schedule', 'Threading', 'Process', 'Payments', 'Jsp', 'System', 'Plan', 'Html', 'Sql', 'Javascript', 'Agile', 'Web services', 'Design', 'Access', 'Programming', 'Analysis', 'Technical', 'C', 'Queries', 'Writing', 'Xml', 'Windows', 'Mysql', 'Soap', 'Scripting', 'Reports', 'Troubleshooting', 'Jira', 'Distribution', 'Analyze', 'Pl/sql', 'Improvement', 'Ibm', 'Java']['Workflow', 'C++', 'Css', 'Compliance', 'Data analytics', 'Electrical', 'Telecom', 'Migration', 'Lifecycle', 'Coding', 'Billing', 'Mobile', 'Engagement', 'Administration', 'Communication', 'Excel', 'Operating systems', 'Oracle', 'Cloud', 'Unix', 'Testing', 'Database', 'Reporting', 'Etl', 'Crm', 'Conversion', 'Modeling', 'Matrix', 'Shell', 'Vendors', 'Db2', 'Process', 'Inventory', 'Security', 'System', 'Analytical', 'Sql', 'Html', 'Engineering', 'Retail', 'Design', 'Access', 'Programming', 'Analysis', 'Technical', 'Queries', 'C', 'Strategy', 'Analytics', 'Electronics', 'Architecture', 'Sap', 'Windows', 'Safety', 'Mysql', 'Warehouse', 'Health', 'Email', 'Purchasing', 'Reports', 'Content', 'Finance', 'Distribution', 'Scheduling', 'Erp', 'Sales', 'Java', 'Ibm', 'Inventory management', 'Procurement']['Workflow', 'Css', 'Documentation', 'Communication', 'Cloud', 'Testing', 'Database', 'Reporting', 'Tfs', 'International', 'Training', 'Computer science', 'Plan', 'Sql', 'Web services', 'Javascript', 'Design', 'Travel', 'C', 'Technical', 'Sharepoint', '.net', 'Xml', 'Windows', 'Visual', 'Reports', 'Sql server', 'Architectures']['Workflow', 'Documentation', 'Communication', 'Testing', 'Database', 'Reporting', 'International', 'Training', 'Computer science', 'System', 'Plan', 'Sql', 'Web services', 'Design', 'Travel', 'Technical', 'Sharepoint', '.net', 'Windows', 'Reports', 'Sql server', 'Architectures']['Css', 'Software development life cycle', 'Scrum', 'Business development', 'Reporting', 'Automation', 'Schedule', 'Ecommerce', 'Engineering', 'Web services', 'Design', 'Keyboard', 'Access', 'Programming', 'Analysis', 'Queries', 'Strategy', 'Xml', 'Sql server', 'Pharmacy', 'Hp alm', 'Selenium', 'Oracle', 'Policies', 'Unix', 'Process', 'Analytical', 'Android', 'Writing', 'Schedules', 'Project management', 'Soap', 'Warehouse', 'Health', 'Content', 'Jira', 'Test case', 'Improvement', 'C++', 'Metrics', 'Mobile', 'Communication', 'Data quality', 'Transportation', 'Debugging', 'Database', 'Logistics', 'Crm', 'Modeling', 'Payments', 'System', 'Technical issues', 'Api', 'C', 'Marketing', 'Mouse', 'Scheduling', 'C#', 'Java', 'Forecasting', 'Documentation', 'Lifecycle', 'Perl', 'Excel', 'Testing', 'Test plans', 'Specifications', 'Ui', 'Interactive', 'Training', 'Test cases', 'Plan', 'Operations', 'Html', 'Sql', 'Retail', 'Agile', 'Technical', 'Windows', 'Email', 'Reports', 'Ios', 'Sdlc']['Css', 'Presentation', 'Software development life cycle', 'Cloud', 'Scrum', 'Postgresql', 'P', 'Json', 'Js', 'Matrix', 'Engineering', 'Web services', 'Github', 'Design', 'Access', 'Analysis', 'Queries', 'Prototyping', 'Xml', 'Visual', 'Sap', 'Troubleshooting', 'Sql server', 'Pl/sql', 'Workflow', 'Linux', 'Oracle', 'Aws', 'Unix', 'Servers', 'Logging', 'Pattern', 'Process', 'Inventory', 'Jsp', 'Security', 'Analytical', 'Workflows', 'Writing', 'Architecture', 'Salesforce', 'Soap', 'Health', 'Sales', 'Ibm', 'Coding', 'Communication', 'Engagement', 'Debugging', 'Visio', 'Database', 'Crm', 'Proposal', 'Modeling', 'Apis', 'Db2', 'System', 'Javascript', 'Saas', 'Api', 'Docker', 'Routing', 'Marketing', 'Scripting', 'Installation', 'Analyze', 'Tfs', 'Java', 'Documentation', 'Testing', 'Rest', 'Transport', 'Specifications', 'Ansible', 'Ui', 'Test cases', 'Operations', 'Html', 'Sql', 'Agile', 'Technical skills', 'Mortgage', 'Technical', 'Windows', 'Reports', 'Sdlc']['Css', 'Analytical', 'Django', 'Sql', 'Javascript', 'Github', 'Design', 'Flask', 'Python', 'Communication', 'Engagement', 'Html5', 'Technical', 'Interactive', 'Big data', 'Analytics', 'Algorithms', 'Architecture']['Css', 'Presentation', 'Statistical analysis', 'Scrum', 'Reporting', 'Json', 'Js', 'Ecommerce', 'Engineering', 'Web services', 'Invoices', 'Design', 'Access', 'Programming', 'Queries', 'Analysis', 'Microsoft sql', 'Microsoft visio', 'Xml', 'Visual', 'End user', 'Asp', 'Troubleshooting', 'Construction', 'Sql server', 'Workflow', 'Servers', 'Process', 'Inventory', 'Security', 'Workflows', 'Writing', 'Architecture', 'Warehouse', 'Sales', 'Assembly', 'Coding', 'Communication', 'Debugging', 'Visio', 'Database', 'Etl', 'Crm', 'Modeling', 'System', 'Javascript', 'Api', 'C', '.net', 'Marketing', 'Scheduling', 'Accounting', 'C#', 'Tfs', 'Java', 'Migration', 'Documentation', 'Controls', 'Testing', 'Transactions', 'Solution architecture', 'Pdf', 'Specifications', 'Ui', 'Interactive', 'Training', 'Computer science', 'Operations', 'Html', 'Sql', 'Agile', 'Technical skills', 'Mortgage', 'Technical', 'Presentations', 'Windows', 'Email', 'Reports', 'Finance', 'Updates', 'Sdlc']['Service delivery', 'Compliance', 'Migration', 'Documentation', 'Usability', 'Microsoft office', 'Mobile', 'Administration', 'Operating systems', 'Policies', 'Application support', 'Testing', 'Servers', 'Active directory', 'Logging', 'Database', 'Reporting', 'Automation', 'Gmail', 'Requests', 'User experience', 'Hospital', 'Conversion', 'Crm', 'Specifications', 'Sports', 'Customer service', 'Vendors', 'Iphone', 'Process', 'Training', 'Inventory', 'Security', 'System', 'Hardware', 'Config', 'Cisco', 'Operations', 'Plan', 'Engineering', 'Business plans', 'Website', 'Adobe', 'Design', 'Repairs', 'Access', 'Analysis', 'Technical', 'Android', 'Queries', 'Sharepoint', 'Networking', 'Architecture', 'Windows', 'Lan', 'Wifi', 'Licensing', 'Procurement', 'Os', 'Installation', 'Acquisition', 'Email', 'Purchasing', 'Reports', 'Research', 'Troubleshooting', 'Scheduling', 'Dns', 'Analyze', 'Video', 'Updates', 'Ibm', 'Dhcp']['Security', 'Database', 'Reporting', 'Sql', 'Rest', 'Certification', 'Reports', 'Api', 'Access', 'Apis', 'Queries', 'Technical', 'Peoplesoft', 'Ui', 'Troubleshooting', 'Sap', 'Java']['Compliance', 'Documentation', 'Linux', 'Mobile', 'Communication', 'Controls', 'Administration', 'Oracle', 'Unix', 'Testing', 'Servers', 'Active directory', 'Outsourcing', 'Database', 'Reporting', 'Automation', 'Requests', 'Transport', 'Crm', 'Specifications', 'Schedule', 'Reconcile', 'Db2', 'Process', 'Audit', 'Training', 'Iso', 'Security', 'System', 'Plan', 'Operations', 'Engineering', 'Retail', 'Sql', 'Solaris', 'Design', 'Access', 'Analysis', 'Technical', 'Electronics', 'Windows', 'Sap', 'Lan', 'Visual', 'Installation', 'Health', 'Acquisition', 'Email', 'Reports', 'Scheduling', 'Dns', 'Sql server', 'Updates', 'Improvement', 'Architectures', 'Ibm', 'Lean']['Ubuntu', 'Linux', 'Mobile', 'Administration', 'Redhat', 'Protocols', 'Operating systems', 'Policies', 'Cloud', 'Aws', 'Servers', 'Active directory', 'Debugging', 'Database', 'Reporting', 'Automation', 'Shell', 'Audit', 'Security', 'System', 'Hardware', 'Cisco', 'Sql', 'Website', 'Analysis', 'Strategy', 'Networking', 'Architecture', 'Windows', 'Lan', 'Mysql', 'Scripting', 'Os', 'Email', 'Troubleshooting', 'Jira', 'Dns', 'Sql server', 'Dhcp']['Css', 'Software development life cycle', 'Statistical analysis', 'Cloud', 'Scrum', 'Postgresql', 'Html5', 'Spyder', 'Reporting', 'Json', 'Automation', 'Js', 'Conversion', 'Scala', 'Web services', 'Matlab', 'Github', 'Design', 'Access', 'Programming', 'Queries', 'Analysis', 'Twitter', 'Pycharm', 'Xml', 'Mysql', 'Django', 'Troubleshooting', 'Pl/sql', 'Matplotlib', 'Linux', 'Oracle', 'Unix', 'Aws', 'Risk management', 'Servers', 'Logging', 'Requests', 'Process', 'Pandas', 'Jsp', 'Security', 'Analytical', 'Website', 'Mock', 'Writing', 'Architecture', 'Soap', 'Datasets', 'Content', 'Jira', 'Scipy', 'Php', 'C++', 'Sublime', 'Coding', 'Communication', 'Protocols', 'Debugging', 'Database', 'Front-end', 'Apis', 'Vendors', 'System', 'Celery', 'Javascript', 'Api', 'Docker', 'Analytics', 'Scripting', 'Os', 'Pyqt', 'Analyze', 'Information technology', 'Architectures', 'Tfs', 'Java', 'Ubuntu', 'Perl', 'Flask', 'Excel', 'Numpy', 'Testing', 'Statistics', 'Rest', 'Specifications', 'Python', 'Shell', 'Ui', 'Interactive', 'International', 'Computer science', 'Operations', 'Html', 'Sql', 'Agile', 'Technical skills', 'Technical', 'Networking', 'Windows', 'Email', 'Reports', 'Emacs', 'Photoshop', 'Sdlc']['Workflow', 'Css', 'Migration', 'Presentation', 'Software development life cycle', 'Communication', 'Oracle', 'Scrum', 'Testing', 'Servers', 'Debugging', 'Prototype', 'Rest', 'Visio', 'Database', 'Specifications', 'Customer requirements', 'Ui', 'Process', 'Customer experience', 'Test cases', 'Jsp', 'Security', 'System', 'Technical issues', 'Sql', 'Html', 'Javascript', 'Agile', 'Engineering', 'Design', 'Api', 'Healthcare', 'Mortgage', 'Analysis', 'Technical', 'Access', 'Workflows', 'Writing', 'Technical skills', 'Microsoft visio', 'Xml', 'Architecture', 'Windows', 'Electronics', 'Soap', 'Health', 'Reports', 'Ibm', 'Java']['Compliance', 'Migration', 'Documentation', 'Technical skills', 'Communication', 'Administration', 'Excel', 'Oracle', 'Aws', 'Testing', 'Servers', 'Statistics', 'Debugging', 'Prototype', 'Database', 'Reporting', 'Etl', 'Money', 'Modeling', 'Shell', 'Schedule', 'Process', 'Audit', 'Security', 'System', 'Hardware', 'Analytical', 'Regulations', 'Plan', 'Operations', 'Sql', 'Html', 'Retail', 'Design', 'Banking', 'Mortgage', 'Analysis', 'Queries', 'Programming', 'C', 'Schedules', 'Technical', 'Access', 'Healthcare', 'Business intelligence', '.net', 'Marketing', 'Architecture', 'Windows', 'Xml', 'Visual', 'Datasets', 'Scripting', 'Health', 'Reports', 'Asp', 'Troubleshooting', 'Analyze', 'Sql server', 'C#', 'Pl/sql', 'Java']['Css', 'Scrum', 'Cloud', 'Cms', 'Postgresql', 'Html5', 'Spyder', 'Json', 'Automation', 'Nosql', 'Js', 'Web2py', 'Threading', 'Geodjango', 'Web services', 'Github', 'Design', 'Access', 'Programming', 'Queries', 'Analysis', 'Circuits', 'Twitter', 'Pycharm', 'Xml', 'Mysql', 'Django', 'Jython', 'Troubleshooting', 'Asp', 'Pl/sql', 'Matplotlib', 'Parser', 'Linux', 'Selenium', 'Oracle', 'Unix', 'Aws', 'Risk management', 'Servers', 'Requests', 'Pattern', 'Process', 'Pandas', 'Jsp', 'Security', 'Website', 'Writing', 'Vmware', 'Electronics', 'Architecture', 'Soap', 'Datasets', 'Content', 'Jira', 'Scipy', 'Php', 'C++', 'Sublime', 'Communication', 'Protocols', 'Consulting', 'Debugging', 'Database', 'Modeling', 'Apis', 'Db2', 'Algorithms', 'System', 'Javascript', 'Api', 'Docker', 'Pyramid', 'Analytics', 'Networkx', 'Scripting', 'Analyze', 'Pyside', 'Video', 'Tfs', 'Architectures', 'Java', 'Jose', 'Data analytics', 'Documentation', 'Lifecycle', 'Flask', 'Django-tastypie', 'Excel', 'Numpy', 'Testing', 'Test plans', 'Statistics', 'Rest', 'Tkinter', 'Python', 'Ui', 'Shell', 'Business process', 'Operations', 'Html', 'Sql', 'Agile', 'Technical skills', 'Technical', 'Windows', 'Email', 'Updates', 'Photoshop', 'Sdlc', 'Adobe']['Css', 'Presentation', 'Administration', 'Scrum', 'Cms', 'Html5', 'Automation', 'Json', 'Js', 'Threading', 'Web services', 'Design', 'Access', 'Programming', 'Analysis', 'Queries', 'Twitter', 'Xml', 'Mysql', 'Sql server', 'Pl/sql', 'Workflow', 'Linux', 'Oracle', 'Unix', 'Aws', 'Servers', 'Logging', 'Pattern', 'Process', 'Inventory', 'Jsp', 'Analytical', 'Program development', 'Website', 'Workflows', 'Project management', 'Technical knowledge', 'Soap', 'Content', 'Ibm', 'Coding', 'Mobile', 'Communication', 'Editing', 'Database', 'System', 'Javascript', 'Solaris', 'Api', 'Scripting', 'Os', 'Architectures', 'Java', 'Migration', 'Perl', 'Lifecycle', 'Testing', 'Rest', 'Publishing', 'Specifications', 'Ui', 'Shell', 'Training', 'Computer science', 'Plan', 'Html', 'Sql', 'Agile', 'Technical skills', 'Technical', 'Windows', 'Email', 'Reports', 'Updates', 'Sdlc', 'Adobe']['Css', 'Cloud', 'Scrum', 'Cms', 'Postgresql', 'Html5', 'Spyder', 'Json', 'Automation', 'Nosql', 'Js', 'Web2py', 'Threading', 'Web services', 'Matlab', 'Github', 'Design', 'Access', 'Programming', 'Queries', 'Analysis', 'Circuits', 'Twitter', 'Xml', 'Pycharm', 'Visual', 'Mysql', 'Django', 'Troubleshooting', 'Asp', 'Pl/sql', 'Matplotlib', 'Parser', 'Linux', 'Selenium', 'Oracle', 'Aws', 'Unix', 'Risk management', 'Servers', 'Requests', 'Pattern', 'Process', 'Pandas', 'Jsp', 'Analytical', 'Website', 'Writing', 'Vmware', 'Electronics', 'Architecture', 'Soap', 'Datasets', 'Content', 'Jira', 'Scipy', 'Php', 'C++', 'Sublime', 'Coding', 'Communication', 'Protocols', 'Debugging', 'Database', 'Apis', 'System', 'Celery', 'Javascript', 'Api', 'Docker', 'Analytics', 'Networkx', 'Scripting', 'Analyze', 'Video', 'Architectures', 'Tfs', 'Java', 'Jose', 'Ubuntu', 'Documentation', 'Lifecycle', 'Flask', 'Numpy', 'Testing', 'Test plans', 'Statistics', 'Rest', 'Tkinter', 'Python', 'Shell', 'Ui', 'Operations', 'Html', 'Sql', 'Agile', 'Technical skills', 'Technical', 'Windows', 'Email', 'Emacs', 'Photoshop', 'Adobe']['Css', 'C++', 'Compliance', 'Migration', 'Presentation', 'Sublime', 'Linux', 'Coding', 'Mobile', 'Selenium', 'Communication', 'Administration', 'Software development life cycle', 'Oracle', 'Scrum', 'Aws', 'Cloud', 'Testing', 'Html5', 'Servers', 'Unix', 'Logging', 'Prototype', 'Rest', 'Debugging', 'Database', 'Automation', 'Json', 'Requests', 'Front-end', 'Js', 'Specifications', 'Apis', 'Ui', 'Quality assurance', 'Interactive', 'Process', 'Customer experience', 'Web services', 'Computer science', 'Jsp', 'System', 'Analytical', 'Plan', 'Html', 'Sql', 'Javascript', 'Agile', 'Engineering', 'Design', 'Invoices', 'Api', 'Access', 'C', 'Analysis', 'Healthcare', 'Android', 'Banking', 'Writing', 'Queries', 'Technical', 'Xml', 'Windows', 'Architecture', 'Mysql', 'Soap', 'Os', 'Installation', 'Health', 'Email', 'Troubleshooting', 'Pl/sql', 'Test case', 'Sdlc', 'Java']['Css', 'C++', 'Compliance', 'Migration', 'Presentation', 'Sublime', 'Linux', 'Coding', 'Mobile', 'Selenium', 'Communication', 'Administration', 'Software development life cycle', 'Oracle', 'Scrum', 'Aws', 'Cloud', 'Testing', 'Html5', 'Servers', 'Unix', 'Logging', 'Prototype', 'Rest', 'Debugging', 'Database', 'Automation', 'Json', 'Requests', 'Front-end', 'Js', 'Specifications', 'Apis', 'Ui', 'Quality assurance', 'Interactive', 'Process', 'Customer experience', 'Web services', 'Computer science', 'Jsp', 'System', 'Analytical', 'Plan', 'Html', 'Sql', 'Javascript', 'Agile', 'Engineering', 'Design', 'Invoices', 'Api', 'Access', 'C', 'Analysis', 'Healthcare', 'Android', 'Banking', 'Writing', 'Queries', 'Technical', 'Xml', 'Windows', 'Architecture', 'Mysql', 'Soap', 'Os', 'Installation', 'Health', 'Email', 'Troubleshooting', 'Pl/sql', 'Test case', 'Sdlc', 'Java']['Css', 'Spark', 'Software development life cycle', 'Administration', 'Cloud', 'Scrum', 'Cms', 'Postgresql', 'Swift', 'Spyder', 'Reporting', 'Automation', 'Json', 'Js', 'Scala', 'Engineering', 'Web services', 'Github', 'Design', 'Access', 'Programming', 'Analysis', 'Queries', 'Twitter', 'Pycharm', 'Xml', 'Visual', 'Mysql', 'Django', 'Troubleshooting', 'Sql server', 'Internal customers', 'Pl/sql', 'Matplotlib', 'Linux', 'Selenium', 'Oracle', 'Policies', 'Aws', 'Unix', 'Risk management', 'Servers', 'Logging', 'Requests', 'Pattern', 'Process', 'Pandas', 'Jsp', 'Security', 'Website', 'Writing', 'Architecture', 'Soap', 'Datasets', 'Research', 'Content', 'Jira', 'Hive', 'Scipy', 'Php', 'C++', 'Sublime', 'Openstack', 'Sqlalchemy', 'Coding', 'Protocols', 'Debugging', 'Robot', 'Database', 'Pyspark', 'Etl', 'Crm', 'Modeling', 'Apis', 'Algorithms', 'Data analysis', 'System', 'Javascript', 'Api', 'C', 'Pyramid', 'Twisted', 'Analytics', '.net', 'Marketing', 'Scripting', 'Os', 'Installation', 'Hadoop', 'Pyqt', 'Analyze', 'Microsoft excel', 'Java', 'Ubuntu', 'Data analytics', 'Migration', 'Documentation', 'Reportlab', 'Flask', 'Perl', 'Excel', 'Numpy', 'Testing', 'Lxml', 'Rest', 'Saltstack', 'Wxpython', 'Pdf', 'Specifications', 'Python', 'Ui', 'Shell', 'Plan', 'Operations', 'Html', 'Sql', 'Agile', 'Repairs', 'Healthcare', 'Technical skills', 'Technical', 'Windows', 'Reports', 'Cryptography', 'Emacs', 'Mysql-python', 'Sdlc']['Workflow', 'Css', 'Migration', 'Presentation', 'Software development life cycle', 'Communication', 'Oracle', 'Scrum', 'Testing', 'Servers', 'Debugging', 'Prototype', 'Rest', 'Visio', 'Database', 'Specifications', 'Customer requirements', 'Ui', 'Process', 'Customer experience', 'Test cases', 'Jsp', 'Security', 'System', 'Technical issues', 'Sql', 'Html', 'Javascript', 'Agile', 'Engineering', 'Design', 'Api', 'Healthcare', 'Mortgage', 'Analysis', 'Technical', 'Access', 'Workflows', 'Writing', 'Technical skills', 'Microsoft visio', 'Xml', 'Architecture', 'Windows', 'Electronics', 'Soap', 'Health', 'Reports', 'Ibm', 'Java']['Css', 'Presentation', 'Spark', 'Software development life cycle', 'Administration', 'Cloud', 'Postgresql', 'Html5', 'Spyder', 'Reporting', 'Json', 'Automation', 'Intranet', 'Js', 'Web services', 'Github', 'Design', 'Access', 'Programming', 'Queries', 'Analysis', 'Xml', 'Pycharm', 'Visual', 'Mysql', 'Django', 'Jython', 'System administration', 'Troubleshooting', 'Sql server', 'Pl/sql', 'Matplotlib', 'E-commerce', 'Linux', 'Oracle', 'Aws', 'Risk management', 'Sas', 'Servers', 'Requests', 'Pandas', 'Jsp', 'Sh', 'Analytical', 'Website', 'Workflows', 'Writing', 'Vmware', 'Architecture', 'Datasets', 'Soap', 'Content', 'Jira', 'Php', 'C++', 'Sublime', 'Openstack', 'Coding', 'Communication', 'Protocols', 'Transportation', 'Debugging', 'Database', 'Modeling', 'Apis', 'Vendors', 'System', 'Celery', 'Javascript', 'Api', 'Docker', 'C', 'Pyramid', 'Analytics', '.net', 'Scripting', 'Hadoop', 'Tfs', 'Java', 'Jose', 'Ubuntu', 'Migration', 'Documentation', 'Perl', 'Flask', 'Testing', 'Rest', 'Python', 'Ui', 'Shell', 'Interactive', 'Computer science', 'Html', 'Sql', 'Agile', 'Tableau', 'Technical skills', 'Technical', 'Windows', 'Email', 'Reports', 'Sdlc']['Documentation', 'Governance', 'Technical skills', 'Lifecycle', 'Hp alm', 'Selenium', 'Communication', 'Mobile', 'Excel', 'Consulting', 'Controls', 'Oracle', 'Scrum', 'Unix', 'Pivot', 'Testing', 'Operating systems', 'Application support', 'Test plans', 'Rest', 'Database', 'Reporting', 'Automation', 'Etl', 'Business analysis', 'Crm', 'Matrix', 'Specifications', 'Ui', 'Schedule', 'Spreadsheets', 'Iphone', 'Shell', 'Process', 'Training', 'Test cases', 'Computer science', 'System', 'Plan', 'Sql', 'Html', 'Agile', 'Github', 'Design', 'Api', 'Access', 'Programming', 'Queries', 'Analysis', 'Android', 'Technical', 'Writing', 'C', 'Networking', 'Strategy', 'Project management', 'Xml', 'Windows', 'Tablets', 'Pivot tables', 'Salesforce', 'Mysql', 'Soap', 'Health', 'Ms excel', 'Reports', 'Ios', 'Jira', 'Powerpoint', 'Sales', 'Java', 'Tfs', 'Sdlc', 'Word']['Css', 'Presentation', 'Regulatory', 'Software development life cycle', 'Scrum', 'Cloud', 'Quality control', 'Reporting', 'Automation', 'Json', 'Intranet', 'Js', 'Schedule', 'Audit', 'Hardware', 'Engineering', 'Web services', 'Design', 'Access', 'Programming', 'Analysis', 'Queries', 'Xml', 'Visual', 'Investigate', 'Troubleshooting', 'Sql server', 'Vendor management', 'Workflow', 'Process improvement', 'Project planning', 'Oracle', 'Policies', 'Risk management', 'Product development', 'Servers', 'Requests', 'Pattern', 'Process', 'Product owner', 'Security', 'Analytical', 'Writing', 'Schedules', 'Budget', 'Electronics', 'Architecture', 'Soap', 'Change management', 'Health', 'Content', 'Dns', 'Improvement', 'C++', 'Coding', 'Mobile', 'Communication', 'Database', 'Etl', 'Hospital', 'Apis', 'System', 'Fda', 'Javascript', 'Saas', 'Api', 'C', 'Routing', '.net', 'Scripting', 'Data collection', 'Scheduling', 'C#', 'Information technology', 'Tfs', 'Java', 'Compliance', 'Forecasting', 'Migration', 'Documentation', 'Controls', 'Testing', 'Test plans', 'Transactions', 'Rest', 'French', 'Pr', 'Transport', 'Specifications', 'Ui', 'Training', 'Test cases', 'Instrumentation', 'Operations', 'Html', 'Sql', 'Agile', 'Technical', 'Windows', 'Reports', 'Sdlc', 'Dhcp']['Workflow', 'Css', 'Electrical', 'Migration', 'Documentation', 'Presentation', 'Usability', 'Lifecycle', 'Billing', 'Coaching', 'Mobile', 'Communication', 'Software development life cycle', 'Microsoft office', 'Consulting', 'Microsoft office suite', 'Scrum', 'Testing', 'Servers', 'Visio', 'Database', 'Reporting', 'Business stakeholders', 'Crm', 'Specifications', 'Ui', 'Schedule', 'Quality assurance', 'Process', 'Training', 'Test cases', 'Security', 'System', 'Operations', 'Sql', 'Engineering', 'Html', 'Javascript', 'Agile', 'Design', 'Ms project', 'Access', 'Programming', 'Analysis', 'Technical', 'Mock', 'Workflows', 'Sharepoint', 'Microsoft visio', 'Electronics', 'Visual', 'Windows', 'Marketing', 'Scripting', 'Installation', 'Email', 'Reports', 'Social media', 'Sql server', 'Sdlc', 'Project planning']['C++', 'Ubuntu', 'Perl', 'Coding', 'Linux', 'Selenium', 'Communication', 'Redhat', 'Protocols', 'Administration', 'Controls', 'Oracle', 'Cloud', 'Aws', 'Unix', 'Testing', 'Postgresql', 'Servers', 'Scrum', 'Active directory', 'Prototype', 'Automation', 'Nosql', 'Ruby', 'Dhcp', 'Ansible', 'Python', 'Yaml', 'Shell', 'Process', 'Training', 'Inventory', 'Jsp', 'Security', 'System', 'Hardware', 'Config', 'Sql', 'Html', 'Engineering', 'Agile', 'Solaris', 'Design', 'Saas', 'Technical skills', 'Docker', 'Analysis', 'Technical', 'Programming', 'C', 'Sharepoint', 'Strategy', 'Networking', 'Vmware', 'Workflows', 'Routing', 'Itil', 'Xml', 'Windows', '.net', 'Software development life cycle', 'Mysql', 'Scripting', 'Os', 'Installation', 'Reports', 'Troubleshooting', 'Jira', 'Dns', 'Updates', 'Sdlc', 'Php', 'Java']['Regulatory', 'Scrum', 'Cloud', 'Reporting', 'Automation', 'Investigation', 'Web services', 'Design', 'Access', 'Analysis', 'Queries', 'Performance metrics', 'Strategy', 'Itil', 'Sops', 'Visual', 'Xml', 'Sap', 'Asp', 'Troubleshooting', 'Sql server', 'Linux', 'Selenium', 'Oracle', 'Policies', 'Unix', 'Aws', 'Sas', 'Requests', 'Process', 'Iso', 'Security', 'Program management', 'Banking', 'Android', 'Writing', 'Sharepoint', 'Warehouse', 'Health', 'Content', 'Sales', 'Ibm', 'C++', 'Metrics', 'Hospitality', 'Usability', 'Mobile', 'Robot', 'Visio', 'Database', 'Etl', 'Apis', 'System', 'Javascript', 'C', '.net', 'Scripting', 'Analyze', 'Accounting', 'C#', 'Tfs', 'Word', 'Java', 'Jose', 'Compliance', 'Documentation', 'Gap analysis', 'Lifecycle', 'Testing', 'Test plans', 'Transactions', 'Specifications', 'Shell', 'Interactive', 'Legal', 'Training', 'Test cases', 'Regulations', 'Plan', 'Sql', 'Html', 'Agile', 'Tax', 'Mortgage', 'Technical', 'Windows', 'Standard operating procedures', 'Reports', 'Ios', 'Updates', 'Sdlc']['Software development life cycle', 'Purchase orders', 'Scrum', 'Cms', 'Reporting', 'Customer requirements', 'Schedule', 'Engineering', 'Design', 'Access', 'Programming', 'Analysis', 'Queries', 'Mining', 'Strategy', 'Xml', 'Visual', 'Troubleshooting', 'Construction', 'Sql server', 'Pl/sql', 'Workflow', 'Linux', 'Oracle', 'Unix', 'Servers', 'Requests', 'Process', 'Banking', 'Workflows', 'Writing', 'Schedules', 'Architecture', 'Warehouse', 'Health', 'Content', 'Ibm', 'Mobile', 'Communication', 'Peoplesoft', 'Transportation', 'Active directory', 'Visio', 'Database', 'Etl', 'Logistics', 'Certification', 'Modeling', 'Vendors', 'Db2', 'System', 'Solaris', 'Travel', 'Business intelligence', 'Marketing', 'Scripting', 'Scheduling', 'Migration', 'Documentation', 'Lifecycle', 'Application support', 'Gis', 'Testing', 'Shell', 'Ui', 'International', 'Operations', 'Sql', 'Retail', 'Agile', 'Asset management', 'Technical', 'Windows', 'Diesel', 'Reports', 'Computer applications', 'Sdlc']['Regulatory', 'Scrum', 'Cloud', 'Reporting', 'Automation', 'Investigation', 'Web services', 'Design', 'Access', 'Analysis', 'Queries', 'Performance metrics', 'Strategy', 'Itil', 'Sops', 'Visual', 'Xml', 'Sap', 'Asp', 'Troubleshooting', 'Sql server', 'Linux', 'Selenium', 'Oracle', 'Policies', 'Unix', 'Aws', 'Sas', 'Requests', 'Process', 'Iso', 'Security', 'Program management', 'Banking', 'Android', 'Writing', 'Sharepoint', 'Warehouse', 'Health', 'Content', 'Sales', 'Ibm', 'C++', 'Metrics', 'Hospitality', 'Usability', 'Mobile', 'Robot', 'Visio', 'Database', 'Etl', 'Apis', 'System', 'Javascript', 'C', '.net', 'Scripting', 'Analyze', 'Accounting', 'C#', 'Tfs', 'Word', 'Java', 'Jose', 'Compliance', 'Documentation', 'Gap analysis', 'Lifecycle', 'Testing', 'Test plans', 'Transactions', 'Specifications', 'Shell', 'Interactive', 'Legal', 'Training', 'Test cases', 'Regulations', 'Plan', 'Sql', 'Html', 'Agile', 'Tax', 'Mortgage', 'Technical', 'Windows', 'Standard operating procedures', 'Reports', 'Ios', 'Updates', 'Sdlc']['C++', 'Ubuntu', 'Perl', 'Coding', 'Linux', 'Selenium', 'Communication', 'Redhat', 'Protocols', 'Administration', 'Controls', 'Oracle', 'Cloud', 'Aws', 'Unix', 'Testing', 'Postgresql', 'Servers', 'Scrum', 'Active directory', 'Prototype', 'Automation', 'Nosql', 'Ruby', 'Dhcp', 'Ansible', 'Python', 'Yaml', 'Shell', 'Process', 'Training', 'Inventory', 'Jsp', 'Security', 'System', 'Hardware', 'Config', 'Sql', 'Html', 'Engineering', 'Agile', 'Solaris', 'Design', 'Saas', 'Technical skills', 'Docker', 'Analysis', 'Technical', 'Programming', 'C', 'Sharepoint', 'Strategy', 'Networking', 'Vmware', 'Workflows', 'Routing', 'Itil', 'Xml', 'Windows', '.net', 'Software development life cycle', 'Mysql', 'Scripting', 'Os', 'Installation', 'Reports', 'Troubleshooting', 'Jira', 'Dns', 'Updates', 'Sdlc', 'Php', 'Java']['Spark', 'Statistical analysis', 'Big data', 'Scrum', 'Reporting', 'Automation', 'Forecasts', 'Engineering', 'Matlab', 'Design', 'Access', 'Analysis', 'Mining', 'Strategy', 'Prototyping', 'Visual', 'Ms excel', 'Troubleshooting', 'Pharmacy', 'Oracle', 'Sas', 'Process', 'Inventory', 'Analytical', 'Risk assessment', 'Sharepoint', 'Project management', 'Architecture', 'Safety', 'Datasets', 'Warehouse', 'Health', 'Research', 'Hive', 'Sales', 'Improvement', 'Procurement', 'C++', 'R', 'Metrics', 'Communication', 'Expenses', 'Visio', 'Database', 'Machine learning', 'Etl', 'Business analysis', 'Modeling', 'Data analysis', 'C', 'Analytics', 'Marketing', 'Hadoop', 'Budgeting', 'Data analytics', 'Forecasting', 'Controls', 'Excel', 'Experiments', 'Testing', 'Statistics', 'Segmentation', 'Specifications', 'Training', 'Business process', 'Operations', 'Plan', 'Sql', 'Agile', 'Healthcare', 'Profiling', 'Technical', 'Presentations', 'Windows', 'Strategic initiatives', 'Email', 'Reports', 'Finance', 'Distribution', 'Predictive analytics', 'Sdlc']['Matplotlib', 'Nltk', 'R', 'Spark', 'Communication', 'Administration', 'Excel', 'Oracle', 'Numpy', 'Sas', 'Spyder', 'Pyspark', 'Jupyter', 'Database', 'Segmentation', 'Nosql', 'Etl', 'Hospital', 'Anaconda', 'Modeling', 'Matrix', 'Python', 'Hbase', 'Process', 'Algorithms', 'International', 'Pandas', 'Data analysis', 'System', 'Analytical', 'Sql', 'Matlab', 'Tableau', 'Programming', 'Analysis', 'Technical', 'Queries', 'Analytics', 'Twitter', 'Marketing', 'Hypothesis', 'Windows', 'Mysql', 'Datasets', 'Os', 'Hadoop', 'Health', 'Purchasing', 'Reports', 'Content', 'Computer applications', 'Hive', 'Scipy', 'Powerpoint', 'Sql server']['Regulatory', 'Scrum', 'Html5', 'Reporting', 'Intranet', 'Matrix', 'Customer requirements', 'Schedule', 'Hardware', 'Engineering', 'Ms project', 'Design', 'Analysis', 'Mining', 'Microsoft visio', 'Prototyping', 'Xml', 'Visual', 'Ms excel', 'Sql server', 'Pl/sql', 'Workflow', 'Swot analysis', 'Responses', 'Hp alm', 'Linux', 'Coaching', 'Analytical skills', 'Oracle', 'Unix', 'Sas', 'Process', 'Analytical', 'Banking', 'Writing', 'Sharepoint', 'Schedules', 'Budget', 'Green', 'Soap', 'Change management', 'Health', 'Jira', 'Powerpoint', 'Improvement', 'Ibm', 'Php', 'Governance', 'Communication', 'Protocols', 'Debugging', 'Visio', 'Database', 'Etl', 'Business analysis', 'Modeling', 'Data analysis', 'System', 'Javascript', 'Solaris', 'C', 'User stories', 'Installation', 'Analyze', 'Scheduling', 'C#', 'Architectures', 'Word', 'Jad', 'Java', 'Compliance', 'Documentation', 'Gap analysis', 'Excel', 'Testing', 'Test plans', 'Rest', 'Partnership', 'Specifications', 'Ui', 'Training', 'Regulations', 'Operations', 'Plan', 'Sql', 'Html', 'Agile', 'Tableau', 'Technical', 'Aviation', 'Windows', 'Reports', 'Finance', 'Sdlc', 'Adobe']['Jad', 'Workflow', 'Css', 'Forecasting', 'Underwriting', 'Migration', 'Documentation', 'Gap analysis', 'Project plan', 'Excel', 'Microsoft office suite', 'Oracle', 'Scrum', 'Unix', 'Expenses', 'Testing', 'Cloud', 'Advertising', 'Test plans', 'Prototype', 'Visio', 'Database', 'Reporting', 'Automation', 'Requests', 'Partnership', 'Industry trends', 'Crm', 'Schedule', 'Process', 'Ecommerce', 'Journal entries', 'Software engineering', 'Training', 'Payments', 'Test cases', 'Jsp', 'Data analysis', 'Business process', 'System', 'Analytical', 'Plan', 'Sql', 'Html', 'Engineering', 'Agile', 'Ms project', 'Design', 'Banking', 'Access', 'Analysis', 'Technical', 'Mock', 'Strategy', 'Writing', 'Schedules', 'Analytics', 'Budget', 'Mortgage', 'User stories', 'Xml', 'Windows', 'Marketing', 'Warehouse', 'Ms excel', 'Staffing', 'Reports', 'Content', 'Finance', 'Jira', 'Accounting', 'Sales', 'Java', 'Improvement', 'Sdlc', 'Word']['Workflow', 'C++', 'Ubuntu', 'Metrics', 'Migration', 'Linux', 'Mobile', 'Redhat', 'Oracle', 'Cloud', 'Aws', 'Scrum', 'Unix', 'Testing', 'Servers', 'Click', 'Debugging', 'Transactions', 'Editing', 'Saltstack', 'Database', 'Automation', 'Requests', 'Ruby', 'Python', 'Shell', 'Schedule', 'Quality assurance', 'Process', 'Security', 'System', 'Config', 'Operations', 'Sql', 'Retail', 'Engineering', 'Agile', 'Solaris', 'Design', 'Api', 'Access', 'C', 'Analysis', 'Technical', 'Android', 'Programming', 'Writing', 'Docker', 'Analytics', 'Vmware', 'Ai', 'Itil', '.net', 'Windows', 'Architecture', 'Policies', 'Scripting', 'Installation', 'Ux', 'Email', 'Jython', 'Reports', 'Ios', 'Jira', 'Troubleshooting', 'Analyze', 'Dns', 'Scheduling', 'Ibm', 'Java']['Workflow', 'C++', 'Ubuntu', 'Metrics', 'Migration', 'Linux', 'Mobile', 'Redhat', 'Oracle', 'Cloud', 'Aws', 'Scrum', 'Unix', 'Testing', 'Servers', 'Click', 'Debugging', 'Transactions', 'Editing', 'Saltstack', 'Database', 'Automation', 'Requests', 'Ruby', 'Python', 'Shell', 'Schedule', 'Quality assurance', 'Process', 'Security', 'System', 'Config', 'Operations', 'Sql', 'Retail', 'Engineering', 'Agile', 'Solaris', 'Design', 'Api', 'Access', 'C', 'Analysis', 'Technical', 'Android', 'Programming', 'Writing', 'Docker', 'Analytics', 'Vmware', 'Ai', 'Itil', '.net', 'Windows', 'Architecture', 'Policies', 'Scripting', 'Installation', 'Ux', 'Email', 'Jython', 'Reports', 'Ios', 'Jira', 'Troubleshooting', 'Analyze', 'Dns', 'Scheduling', 'Ibm', 'Java']['C++', 'Css', 'Responses', 'Metrics', 'Presentation', 'Perl', 'Linux', 'Coding', 'Communication', 'Protocols', 'Oracle', 'Scrum', 'Unix', 'Testing', 'Html5', 'Servers', 'Audio', 'Prototype', 'Logging', 'Rest', 'Database', 'Debugging', 'Reporting', 'Json', 'Certification', 'Js', 'Specifications', 'Shell', 'Financing', 'Ui', 'Db2', 'Process', 'Jsp', 'Security', 'System', 'Sql', 'Html', 'Javascript', 'Agile', 'Website', 'Design', 'Web services', 'Api', 'Access', 'C', 'Analysis', 'Queries', 'Technical', 'Banking', 'Writing', 'Technical skills', 'Project management', 'Xml', 'Windows', 'Architecture', 'Marketing', 'Mysql', 'Soap', 'Scripting', 'Installation', 'Warehouse', 'Research', 'Content', 'Jira', 'Pl/sql', 'Sql server', 'Sdlc', 'Php', 'Java']['Presentation', 'Scrum', 'Reporting', 'Automation', 'Matrix', 'Process improvements', 'Ecommerce', 'Engineering', 'Ms project', 'Design', 'Access', 'Analysis', 'Queries', 'Microsoft visio', 'Strategy', 'Prototyping', 'Performance metrics', 'Ux', 'Sql server', 'Six sigma', 'Workflow', 'Swot analysis', 'Product quality', 'Oracle', 'Unix', 'Financial reports', 'Process', 'Iso', 'Banking', 'Sharepoint', 'Writing', 'Electronics', 'Soap', 'Jira', 'Powerpoint', 'Sales', 'Improvement', 'Metrics', 'Mobile', 'Communication', 'Researching', 'Expenses', 'Visio', 'Certification', 'Modeling', 'Apis', 'Vendors', 'Db2', 'System', 'Travel', 'Api', 'C', 'Os', 'Analyze', 'Product design', 'Word', 'Jad', 'Documentation', 'Gap analysis', 'Lifecycle', 'Excel', 'Testing', 'Rest', 'Ui', 'Legal', 'Training', 'Test cases', 'Business process', 'Plan', 'Operations', 'Sql', 'Agile', 'Tableau', 'Technical skills', 'Healthcare', 'Technical', 'Windows', 'Email', 'Reports', 'Kpi', 'Distribution', 'Sdlc', 'Project planning']['Cloud', 'Scrum', 'Html5', 'Reporting', 'Automation', 'Vb script', 'Matrix', 'Schedule', 'Ecommerce', 'Ms project', 'Web services', 'Design', 'Access', 'Programming', 'Analysis', 'Queries', 'Strategy', 'Itil', 'Xml', 'Visual', 'Sql server', 'Pl/sql', 'Underwriting', 'Hp alm', 'Linux', 'Selenium', 'Oracle', 'Unix', 'Prototype', 'Requests', 'Pattern', 'Customer service', 'Process', 'Security', 'Analytical', 'Config', 'Website', 'Banking', 'Workflows', 'Android', 'Writing', 'Schedules', 'Budget', 'Project management', 'Salesforce', 'Soap', 'Health', 'Jira', 'Powerpoint', 'Sales', 'Improvement', 'Ibm', 'Php', 'C++', 'Mobile', 'Communication', 'Protocols', 'Visio', 'Database', 'Business analysis', 'Certification', 'Crm', 'Modeling', 'Apis', 'Vendors', 'Db2', 'System', 'Api', 'C', 'Business intelligence', '.net', 'Scripting', 'Scheduling', 'Analyze', 'Accounting', 'Quality management', 'C#', 'Tfs', 'Java', 'Jad', 'Compliance', 'Migration', 'Documentation', 'Gap analysis', 'Perl', 'Controls', 'Testing', 'Test plans', 'Rest', 'Specifications', 'Python', 'Ui', 'International', 'Training', 'Test cases', 'Plan', 'Operations', 'Sql', 'Retail', 'Html', 'Agile', 'Asset management', 'Technical skills', 'Mortgage', 'Technical', 'Windows', 'Email', 'Reports', 'Ios', 'Updates', 'Sdlc', 'Project planning']['Workflow', 'Migration', 'Presentation', 'Parser', 'Governance', 'Metrics', 'Linux', 'Documentation', 'Coding', 'Communication', 'Data quality', 'Excel', 'Oracle', 'Policies', 'Unix', 'Testing', 'Test plans', 'Debugging', 'Logging', 'Visio', 'Database', 'Reporting', 'Etl', 'Business stakeholders', 'Conversion', 'Modeling', 'Specifications', 'Shell', 'Schedule', 'Quality assurance', 'Db2', 'Process', 'Project management skills', 'System', 'Bottle', 'Plan', 'Sql', 'Engineering', 'Html', 'Agile', 'Program development', 'Design', 'Access', 'Profiling', 'Queries', 'Technical', 'C', 'Analysis', 'Writing', 'Strategy', 'Schedules', 'Workflows', 'Microsoft visio', 'Healthcare', 'Xml', 'Visual', 'Windows', 'Salesforce', 'Scripting', 'Installation', 'Warehouse', 'Hadoop', 'Reports', 'Research', 'Troubleshooting', 'Hive', 'Sql server', 'Sales', 'Information technology', 'Pl/sql', 'Java']['Workflow', 'Css', 'Migration', 'Documentation', 'Presentation', 'Metrics', 'Linux', 'Administration', 'Controls', 'Communication', 'Operating systems', 'Cloud', 'Scrum', 'Testing', 'Html5', 'Rest', 'Database', 'Lighting', 'Reporting', 'Apex', 'Crm', 'Js', 'Ui', 'Customer service', 'Interactive', 'Process', 'Training', 'Payments', 'Web services', 'Jsp', 'Security', 'System', 'Hardware', 'Sql', 'Html', 'Javascript', 'Agile', 'Github', 'Design', 'Client services', 'Api', 'Access', 'Programming', 'Analysis', 'Technical', 'Queries', 'Workflows', 'Technical skills', 'Case management', 'Marketing', 'Visual', 'Windows', 'Architecture', 'Salesforce', 'Soap', 'Mysql', 'Installation', 'Health', 'Email', 'Reports', 'Troubleshooting', 'Jira', 'Pl/sql', 'Analyze', 'Sales', 'Updates', 'Pharmacy', 'Sdlc', 'Java']['Css', 'Compliance', 'Metrics', 'Presentation', 'Usability', 'Java', 'Coding', 'Sketch', 'Mobile', 'Communication', 'Coaching', 'Excel', 'Controls', 'Consulting', 'Oracle', 'Scrum', 'Word', 'Editing', 'Testing', 'Html5', 'Policies', 'Debugging', 'Recruiting', 'Visio', 'Illustrator', 'Reporting', 'Intranet', 'Money', 'Js', 'Proposal', 'Ui', 'Financing', 'Quality assurance', 'Interactive', 'Legal', 'Process', 'Audit', 'Training', 'International', 'Inventory', 'System', 'Analytical', 'Html', 'Sql', 'Javascript', 'Website', 'Agile', 'Design', 'Retail', 'Ms project', 'Mock', 'Technical', 'Adobe creative suite', 'Prototyping', 'Project management', 'Presentations', 'Marketing', 'Visual', 'Architecture', 'Tablets', 'Windows', 'Facebook', 'Photography', 'Ux', 'Email', 'Ms excel', 'Research', 'Reports', 'Finance', 'Scheduling', 'Powerpoint', 'Sales', 'Photoshop', 'Information technology', 'Sdlc', 'Adobe']['Documentation', 'Administration', 'Communication', 'Controls', 'Policies', 'Testing', 'Servers', 'Database', 'Reporting', 'Automation', 'Etl', 'Physics', 'Specifications', 'Process', 'International', 'Security', 'System', 'Hardware', 'Analytical', 'Plan', 'Sql', 'Design', 'Access', 'Analysis', 'Technical', 'Queries', 'Schedules', 'Vmware', 'Windows', 'Scripting', 'Installation', 'Health', 'Troubleshooting', 'Scheduling', 'Analyze', 'Sql server']['Presentation', 'Sourcing', 'Administration', 'Cloud', 'Reporting', 'Automation', 'Forecasts', 'Schedule', 'Audit', 'Cisco', 'Engineering', 'Design', 'Access', 'Analysis', 'Queries', 'Microsoft visio', 'Strategy', 'Xml', 'Visual', 'Sap', 'Internal controls', 'Troubleshooting', 'Reconciliation', 'Pl/sql', 'Workflow', 'Financial reporting', 'Benchmark', 'Linux', 'Oracle', 'Unix', 'Risk management', 'Servers', 'Logging', 'Prototype', 'Requests', 'Process', 'Security', 'Business plans', 'Sharepoint', 'Writing', 'Budget', 'Electronics', 'Architecture', 'Warehouse', 'Due diligence', 'Content', 'Sales', 'Improvement', 'Communication', 'Redhat', 'Consulting', 'Visio', 'Database', 'Etl', 'Certification', 'Proposal', 'Modeling', 'Vendors', 'System', 'Solaris', 'Auditing', 'Api', 'Analytics', 'Scripting', 'Installation', 'Budgeting', 'Compliance', 'Forecasting', 'Migration', 'Documentation', 'Controls', 'Excel', 'Testing', 'Statistics', 'Specifications', 'Shell', 'Interactive', 'Training', 'Operations', 'Plan', 'Sql', 'Retail', 'Technical', 'Root cause', 'Windows', 'Email', 'Reports', 'Kpi', 'Finance', 'Erp', 'Updates', 'Project planning']['C++', 'Compliance', 'Telecom', 'Migration', 'Perl', 'Linux', 'Administration', 'Communication', 'Redhat', 'Oracle', 'Unix', 'Testing', 'Servers', 'Database', 'Intranet', 'Automation', 'Shell', 'Training', 'System', 'Hardware', 'Plan', 'Sql', 'Solaris', 'Banking', 'Analysis', 'Technical', 'Strategy', 'Vmware', 'Architecture', 'Windows', 'Visual', 'Scripting', 'Os', 'Ux', 'System administration', 'Dns', 'Emacs', 'Sql server', 'Ibm', 'Java']['C++', 'Responses', 'Microsoft office', 'Linux', 'Mobile', 'Selenium', 'Communication', 'Excel', 'Operating systems', 'Oracle', 'Scrum', 'Cloud', 'Aws', 'Testing', 'Word', 'Test plans', 'Robot', 'Rest', 'Database', 'Automation', 'Requests', 'Etl', 'Matrix', 'Publishing', 'Specifications', 'Python', 'Ui', 'Iphone', 'Process', 'Test cases', 'System', 'Sql', 'Retail', 'Javascript', 'Agile', 'Engineering', 'Design', 'Web services', 'Api', 'Banking', 'C', 'Access', 'Technical', 'Android', 'Analysis', 'Writing', 'Programming', 'Strategy', 'Queries', 'Schedules', 'Xml', 'Windows', 'Architecture', 'Tablets', 'Visual', 'Soap', 'Os', 'Ux', 'Small business', 'Ms excel', 'Reports', 'Ios', 'Jira', 'Pl/sql', 'Analyze', 'Test case', 'Powerpoint', 'Sql server', 'C#', 'Sdlc', 'Java']['Migration', 'Presentation', 'Documentation', 'Perl', 'Linux', 'Administration', 'Communication', 'Redhat', 'Oracle', 'Unix', 'Testing', 'Servers', 'P', 'Database', 'Automation', 'Requests', 'Network design', 'Shell', 'Quality assurance', 'Db2', 'Software installation', 'Security', 'System', 'Hardware', 'Analytical', 'Operations', 'Engineering', 'Solaris', 'Design', 'Auditing', 'C', 'Analysis', 'Technical', 'Cola', 'Networking', 'Vmware', 'Itil', 'Windows', 'Sap', 'Resource management', 'Scripting', 'Os', 'Installation', 'Ux', 'Health', 'Troubleshooting', 'Scheduling', 'Dns', 'Java', 'Ibm', 'Dhcp']['Workflow', 'Css', 'C++', 'Electrical', 'Migration', 'Documentation', 'Coding', 'Linux', 'Controls', 'Communication', 'Excel', 'Oracle', 'Cloud', 'Unix', 'Scrum', 'Testing', 'Database', 'Business analysis', 'Apex', 'Certification', 'Crm', 'Process', 'Web services', 'Security', 'System', 'Analytical', 'Plan', 'Sql', 'Html', 'Javascript', 'Agile', 'Engineering', 'Design', 'Saas', 'Api', 'Access', 'Programming', 'Queries', 'Workflows', 'Technical', 'C', 'Writing', 'Analysis', 'Case management', 'Xml', 'Visual', 'Windows', 'Electronics', 'Marketing', 'Salesforce', 'Mysql', 'Health', 'Email', 'Reports', 'Construction', 'Updates', 'Sales', 'Java']['Administration', 'Cloud', 'Reporting', 'Automation', 'Vb script', 'Hardware', 'Cisco', 'Web services', 'Design', 'Access', 'Programming', 'Analysis', 'Strategy', 'Itil', 'Xml', 'Ux', 'System administration', 'Troubleshooting', 'Sql server', 'Telecom', 'Microsoft office', 'Linux', 'Oracle', 'Policies', 'Unix', 'Servers', 'Process', 'Security', 'Startup', 'Writing', 'Sharepoint', 'Vmware', 'Health', 'Research', 'Content', 'Dns', 'Improvement', 'Ibm', 'Business continuity', 'Metrics', 'Openstack', 'Operating systems', 'Protocols', 'Active directory', 'Debugging', 'Database', 'Standardization', 'Vendors', 'Software installation', 'System', 'C', 'Routing', 'Lan', 'Scripting', 'Os', 'Installation', 'Scheduling', 'Java', 'Ubuntu', 'Compliance', 'Migration', 'Documentation', 'Perl', 'Controls', 'Excel', 'Testing', 'Publishing', 'Specifications', 'Shell', 'Training', 'Operations', 'Plan', 'Sql', 'Technical', 'Networking', 'Windows', 'Fabric', 'Reports', 'Finance', 'Updates', 'Dhcp']['Administration', 'Cloud', 'Reporting', 'Automation', 'Vb script', 'Hardware', 'Cisco', 'Web services', 'Design', 'Access', 'Programming', 'Analysis', 'Strategy', 'Itil', 'Xml', 'Ux', 'System administration', 'Troubleshooting', 'Sql server', 'Telecom', 'Microsoft office', 'Linux', 'Oracle', 'Policies', 'Unix', 'Servers', 'Process', 'Security', 'Startup', 'Writing', 'Sharepoint', 'Vmware', 'Health', 'Research', 'Content', 'Dns', 'Improvement', 'Ibm', 'Business continuity', 'Metrics', 'Openstack', 'Operating systems', 'Protocols', 'Active directory', 'Debugging', 'Database', 'Standardization', 'Vendors', 'Software installation', 'System', 'C', 'Routing', 'Lan', 'Scripting', 'Os', 'Installation', 'Scheduling', 'Java', 'Ubuntu', 'Compliance', 'Migration', 'Documentation', 'Perl', 'Controls', 'Excel', 'Testing', 'Publishing', 'Specifications', 'Shell', 'Training', 'Operations', 'Plan', 'Sql', 'Technical', 'Networking', 'Windows', 'Fabric', 'Reports', 'Finance', 'Updates', 'Dhcp']['Css', 'Scrum', 'Cloud', 'Html5', 'Automation', 'Json', 'Nosql', 'Hardware', 'Engineering', 'Design', 'Access', 'Programming', 'Analysis', 'Queries', 'Xml', 'Mysql', 'Django', 'Investigate', 'Troubleshooting', 'Linux', 'Selenium', 'Analytical skills', 'Oracle', 'Unix', 'Aws', 'Risk management', 'Servers', 'Process', 'Jsp', 'Security', 'Analytical', 'Website', 'Banking', 'Writing', 'Architecture', 'Hotel', 'Soap', 'Datasets', 'Research', 'Jira', 'Ibm', 'C++', 'Sublime', 'Openstack', 'Coding', 'Debugging', 'Database', 'Apis', 'Broadcast', 'Vendors', 'Db2', 'System', 'Javascript', 'Solaris', 'Api', 'C', 'Scripting', 'Pyqt', 'Analyze', 'Java', 'Ubuntu', 'Lifecycle', 'Testing', 'Test plans', 'Lxml', 'Rest', 'Shell', 'Ui', 'Interactive', 'Test cases', 'Sql', 'Retail', 'Html', 'Agile', 'Technical', 'Windows', 'Reports', 'Finance', 'Sdlc']['Migration', 'Linux', 'Administration', 'Redhat', 'Protocols', 'Communication', 'Operating systems', 'Cloud', 'Servers', 'Intranet', 'Logistics', 'Vendors', 'Process', 'Training', 'Computer science', 'Security', 'System', 'Hardware', 'Cisco', 'Operations', 'Plan', 'Sql', 'Design', 'Access', 'C', 'Analysis', 'Technical', 'Technical skills', 'Strategy', 'Networking', 'Vmware', 'Project management', 'Routing', 'Windows', 'Architecture', 'Lan', 'Os', 'Installation', 'Reports', 'Troubleshooting', 'Analyze', 'Dns', 'Updates', 'Architectures', 'Dhcp']['Workflow', 'Compliance', 'Mvp', 'Responses', 'Regulatory requirements', 'Migration', 'Documentation', 'Gap analysis', 'Lifecycle', 'Regulatory', 'Controls', 'Software development life cycle', 'Protocols', 'Excel', 'Unix', 'Risk management', 'Testing', 'Test plans', 'Transactions', 'Investigations', 'Visio', 'Database', 'Pharmaceutical', 'Reporting', 'Investigation', 'Drafting', 'Matrix', 'Specifications', 'Process', 'Audit', 'Inventory', 'Training', 'International', 'Test cases', 'Iso', 'System', 'Analytical', 'Regulations', 'Fda', 'Plan', 'Engineering', 'Sql', 'Process development', 'Agile', 'Design', 'Auditing', 'Access', 'Programming', 'Analysis', 'Technical', 'Workflows', 'Root cause', 'Writing', 'Sops', 'Windows', 'Sap', 'Installation', 'Standard operating procedures', 'Email', 'Reports', 'Research', 'Powerpoint', 'Risk assessments', 'Improvement', 'Sdlc', 'Word']['C++', 'Ubuntu', 'Metrics', 'Documentation', 'Lifecycle', 'Linux', 'Perl', 'Administration', 'Redhat', 'Oracle', 'Scrum', 'Aws', 'Unix', 'Cloud', 'Testing', 'Servers', 'Policies', 'Application support', 'Prototype', 'Database', 'Automation', 'Intranet', 'Nosql', 'Ruby', 'Ansible', 'Python', 'Shell', 'Hbase', 'Vendors', 'Db2', 'Process', 'Jsp', 'Security', 'System', 'Hardware', 'Config', 'Operations', 'Sql', 'Html', 'Agile', 'Github', 'Solaris', 'Design', 'Access', 'Docker', 'Analysis', 'Technical', 'C', 'Technical skills', 'Writing', 'Networking', 'Vmware', 'Xml', 'Windows', 'Architecture', 'Mysql', 'Scripting', 'Os', 'Installation', 'Ux', 'Research', 'Troubleshooting', 'Scheduling', 'Dns', 'Sql server', 'Updates', 'Java', 'Sdlc', 'Dhcp']['Jad', 'Workflow', 'Presentation', 'Documentation', 'Gap analysis', 'Technical skills', 'Strong analytical skills', 'Project planning', 'Partnerships', 'Administration', 'Excel', 'Communication', 'Oracle', 'Cloud', 'Aws', 'Pivot', 'Testing', 'Test plans', 'Visio', 'Database', 'Reporting', 'Requests', 'Etl', 'Specifications', 'Ui', 'Interactive', 'Process', 'Test cases', 'Data analysis', 'System', 'Analytical', 'Plan', 'Sql', 'Ms project', 'Agile', 'Design', 'Asset management', 'Tableau', 'Healthcare', 'Banking', 'Access', 'Negotiation', 'Analysis', 'Queries', 'Technical', 'Strategy', 'Writing', 'Tax', 'Microsoft visio', 'Windows', 'Pivot tables', 'Warehouse', 'Ms excel', 'Reports', 'Kpi', 'Jira', 'Construction', 'Sql server', 'Sdlc', 'Word']['Ubuntu', 'Migration', 'Documentation', 'Linux', 'Software development life cycle', 'Administration', 'Communication', 'Redhat', 'Policies', 'Cloud', 'Unix', 'Aws', 'Oracle', 'Editing', 'Servers', 'Testing', 'Postgresql', 'Active directory', 'Rest', 'Database', 'Automation', 'Json', 'Requests', 'Apis', 'Python', 'Customer requirements', 'Shell', 'Quality assurance', 'Security', 'System', 'Hardware', 'Sql', 'Engineering', 'Startup', 'Agile', 'Design', 'Auditing', 'Api', 'Access', 'Docker', 'Technical', 'Ibm', 'Strategy', 'Root cause', 'Networking', 'Architecture', 'Windows', 'Mysql', 'Scripting', 'Os', 'Installation', 'Change management', 'Health', 'Email', 'System administration', 'Troubleshooting', 'Jira', 'Dns', 'Updates', 'Sdlc', 'Java']['Compliance', 'Migration', 'Microsoft office', 'Linux', 'Mobile', 'Administration', 'Policies', 'Cloud', 'Cms', 'Servers', 'Active directory', 'Reporting', 'Certification', 'Customer requirements', 'Vendors', 'Process', 'International', 'Training', 'Security', 'System', 'Analytical', 'Hardware', 'Operations', 'Plan', 'Sql', 'Engineering', 'Cisco', 'Access', 'Analysis', 'Technical', 'Android', 'Queries', 'Schedules', 'Microsoft sql', 'Networking', 'Vmware', 'Electronics', 'Windows', 'Sap', 'Scripting', 'Installation', 'Ux', 'Email', 'Reports', 'End user', 'Troubleshooting', 'Distribution', 'Ios', 'Analyze', 'Dns', 'Sql server', 'Phone calls', 'Dhcp']['Jad', 'Workflow', 'Recruitment', 'Migration', 'Presentation', 'Metrics', 'Mobile', 'Communication', 'Excel', 'Oracle', 'Word', 'Risk management', 'Testing', 'Test plans', 'Visio', 'Account management', 'Requests', 'Business analysis', 'Apex', 'Crm', 'Matrix', 'Modeling', 'Specifications', 'Conversion', 'Ui', 'Process', 'Training', 'Test cases', 'Security', 'System', 'Operations', 'Plan', 'Sql', 'Html', 'Javascript', 'Ms project', 'Design', 'Tax', 'Access', 'Programming', 'Analysis', 'Workflows', 'Technical', 'C', 'Prototyping', 'Writing', 'Banking', 'Case management', 'User stories', 'Marketing', 'Xml', 'Call center', 'Salesforce', 'Installation', 'Health', 'Email', 'Ms excel', 'Reports', 'Asp', 'Content', 'Distribution', 'Analyze', 'Powerpoint', 'Sales', 'Updates', 'Java']['Css', 'Presentation', 'Big data', 'Cloud', 'Html5', 'Quality control', 'Reporting', 'Json', 'Nosql', 'Js', 'Threading', 'Audit', 'Scala', 'Information security', 'Engineering', 'Web services', 'Design', 'Access', 'Programming', 'Analysis', 'Queries', 'Xml', 'Visual', 'Mysql', 'Sql server', 'Pl/sql', 'Linux', 'Selenium', 'Oracle', 'Aws', 'Servers', 'Logging', 'Requests', 'Life cycle', 'Pattern', 'Process', 'Jsp', 'Iso', 'Security', 'Analytical', 'Banking', 'Mock', 'Writing', 'Architecture', 'Soap', 'Datasets', 'Health', 'Content', 'Jira', 'Hive', 'Improvement', 'Ibm', 'Php', 'Mobile', 'Communication', 'Debugging', 'Database', 'Certification', 'Ruby', 'Modeling', 'Apis', 'Db2', 'System', 'Javascript', 'Api', 'Analytics', 'Cactus', 'Hadoop', 'Java', 'Compliance', 'Migration', 'Testing', 'Transactions', 'Rest', 'Pdf', 'Ui', 'International', 'Test cases', 'Operations', 'Sql', 'Html', 'Agile', 'Asset management', 'Healthcare', 'Technical skills', 'Technical', 'Windows', 'Email', 'Reports', 'Finance', 'Photoshop', 'Sdlc', 'Adobe']['Workflow', 'Css', 'Benchmark', 'Migration', 'Documentation', 'Presentation', 'Mobile', 'Communication', 'Administration', 'Correspondence', 'Consulting', 'Oracle', 'Cms', 'Testing', 'Human resource', 'Servers', 'Logging', 'English', 'Rest', 'Recruiting', 'Database', 'Reporting', 'Intranet', 'Requests', 'Crm', 'Matrix', 'Publishing', 'Apis', 'Specifications', 'Db2', 'Process', 'Software engineering', 'Training', 'Jsp', 'Security', 'System', 'Analytical', 'Html', 'Sql', 'Javascript', 'Engineering', 'Web services', 'Design', 'Tax', 'Access', 'Programming', 'Analysis', 'Technical', 'Workflows', 'Technical skills', 'Writing', 'Networking', 'Xml', 'Architecture', 'Hotel', 'Mysql', 'Payroll', 'Health', 'Email', 'Reports', 'Content', 'Finance', 'Analyze', 'Erp', 'Sql server', 'Ibm', 'Java']['Workflow', 'Emea', 'Compliance', 'Telecom', 'Migration', 'Documentation', 'Metrics', 'Presentation', 'Lifecycle', 'Administration', 'Protocols', 'Consulting', 'Policies', 'Cloud', 'Aws', 'Testing', 'Sas', 'Servers', 'Debugging', 'Logging', 'Visio', 'Database', 'Reporting', 'Certification', 'Transport', 'Data center', 'Schedule', 'Process', 'Contracts', 'Security', 'System', 'Hardware', 'Config', 'Cisco', 'Operations', 'Engineering', 'Design', 'Access', 'Analysis', 'Negotiation', 'Technical', 'Networking', 'Circuits', 'Routing', 'Itil', 'Electronics', 'Architecture', 'Lan', 'Fabric', 'Windows', 'Licensing', 'Os', 'Installation', 'Change management', 'Email', 'Troubleshooting', 'Jira', 'Ios', 'Distribution', 'Dns', 'Content', 'Analyze', 'Updates', 'Improvement', 'Dhcp']['C++', 'Css', 'Ubuntu', 'Responses', 'Wordpress', 'Documentation', 'Cloud management', 'Coding', 'Coaching', 'Mobile', 'Communication', 'Oracle', 'Cloud', 'Scrum', 'Unix', 'Testing', 'Aws', 'Servers', 'Product development', 'Logging', 'Prototype', 'Rest', 'Recruiting', 'Database', 'Json', 'Front-end', 'Js', 'Physics', 'Modeling', 'Shell', 'Interactive', 'Db2', 'Rfp', 'Algorithms', 'Training', 'Web services', 'Computer science', 'Security', 'System', 'Hardware', 'Cisco', 'Plan', 'Engineering', 'Html', 'Javascript', 'Sql', 'Github', 'Design', 'Agile', 'Api', 'Website', 'C', 'Analysis', 'Technical', 'Programming', 'Strategy', 'Profiling', 'Xml', 'Visual', 'Architecture', 'Windows', 'Mysql', 'Procurement', 'Soap', 'Scripting', 'Email', 'Content', 'Jira', 'Sql server', 'Sales', 'Mathematics', 'Ibm', 'Java']['Responses', 'Electrical', 'Metrics', 'Microsoft office', 'Linux', 'Mobile', 'Communication', 'Controls', 'Protocols', 'Administration', 'Cloud', 'Unix', 'Aws', 'Servers', 'Investigation', 'Dhcp', 'Crm', 'Python', 'Vendors', 'Payments', 'Computer science', 'Security', 'System', 'Hardware', 'Information security', 'Operations', 'Cisco', 'Engineering', 'Html', 'Javascript', 'Solaris', 'Programming', 'Analysis', 'Technical', 'Adobe creative suite', 'Networking', 'Vmware', 'Routing', 'Windows', 'Lan', 'Os', 'Installation', 'Research', 'Troubleshooting', 'Dns', 'Php', 'Adobe']['Workflow', 'Compliance', 'Mvp', 'Responses', 'Regulatory requirements', 'Migration', 'Documentation', 'Gap analysis', 'Lifecycle', 'Regulatory', 'Controls', 'Software development life cycle', 'Protocols', 'Excel', 'Unix', 'Risk management', 'Testing', 'Test plans', 'Transactions', 'Investigations', 'Visio', 'Database', 'Pharmaceutical', 'Reporting', 'Investigation', 'Drafting', 'Matrix', 'Specifications', 'Process', 'Audit', 'Inventory', 'Training', 'International', 'Test cases', 'Iso', 'System', 'Analytical', 'Regulations', 'Fda', 'Plan', 'Engineering', 'Sql', 'Process development', 'Agile', 'Design', 'Auditing', 'Access', 'Programming', 'Analysis', 'Technical', 'Workflows', 'Root cause', 'Writing', 'Sops', 'Windows', 'Sap', 'Installation', 'Standard operating procedures', 'Reports', 'Research', 'Powerpoint', 'Risk assessments', 'Improvement', 'Sdlc', 'Word']['Css', 'Scrum', 'Cms', 'Html5', 'Json', 'Automation', 'Js', 'Audit', 'Data management', 'Web services', 'Github', 'Design', 'Access', 'Programming', 'Queries', 'Analysis', 'Xml', 'Visual', 'Mysql', 'Asp', 'Sql server', 'Workflow', 'Underwriting', 'Oracle', 'Process', 'Security', 'Website', 'Workflows', 'Sharepoint', 'Writing', 'Architecture', 'Soap', 'Content', 'Jira', 'Usability', 'Coding', 'Debugging', 'Visio', 'Database', 'Hospital', 'Modeling', 'Apis', 'System', 'Javascript', 'Api', 'C', 'Routing', '.net', 'Marketing', 'Scripting', 'Analyze', 'C#', 'Tfs', 'Java', 'Migration', 'Documentation', 'Perl', 'Controls', 'Excel', 'Testing', 'Transactions', 'Python', 'Ui', 'Shell', 'Interactive', 'Training', 'Plan', 'Operations', 'Html', 'Sql', 'Agile', 'Healthcare', 'Technical', 'Windows', 'Email', 'Reports', 'Adobe']['C++', 'Css', 'Migration', 'Documentation', 'Linux', 'Administration', 'Redhat', 'Excel', 'Oracle', 'Pivot', 'Postgresql', 'Testing', 'Servers', 'Debugging', 'Logging', 'C#', 'Visio', 'Database', 'Reporting', 'Etl', 'Business analysis', 'Modeling', 'Spreadsheets', 'Db2', 'Process', 'Security', 'System', 'Analytical', 'Sql', 'Engineering', 'Html', 'Design', 'Access', 'C', 'Analysis', 'Technical', 'Queries', 'Profiling', 'Writing', 'Technical skills', 'Microsoft visio', 'Vmware', '.net', 'Xml', 'Architecture', 'Windows', 'Visual', 'Mysql', 'Warehouse', 'Reports', 'Pl/sql', 'Sql server', 'Information technology', 'Sdlc', 'Java']['C++', 'Compliance', 'Migration', 'Documentation', 'Linux', 'Administration', 'Redhat', 'Communication', 'Peoplesoft', 'Data quality', 'Oracle', 'Policies', 'Unix', 'Testing', 'Sas', 'Servers', 'Database', 'Automation', 'Shell', 'Vendors', 'Db2', 'Audit', 'Inventory', 'Jsp', 'Software installation', 'Security', 'System', 'Hardware', 'Config', 'Operations', 'Cisco', 'Html', 'Sql', 'Javascript', 'Engineering', 'Solaris', 'Design', 'Access', 'C', 'Analysis', 'Technical', 'Strategy', 'Networking', 'Vmware', 'Xml', 'Architecture', 'Windows', 'Lan', 'Sap', 'Os', 'Installation', 'Ux', 'Health', 'Reports', 'Troubleshooting', 'Scheduling', 'Dns', 'Java', 'Architectures', 'Ibm', 'Dhcp']['Workflow', 'Compliance', 'Wordpress', 'Migration', 'Documentation', 'Lifecycle', 'Linux', 'Mobile', 'Controls', 'Cisco', 'Policies', 'Oracle', 'Aws', 'Cloud', 'Postgresql', 'Html5', 'Servers', 'Testing', 'Cms', 'Scrum', 'Database', 'Reporting', 'Automation', 'Json', 'Nosql', 'Seo', 'Network design', 'Conversion', 'Ansible', 'Ui', 'Training', 'Security', 'Operations', 'Plan', 'Sql', 'Engineering', 'Javascript', 'Agile', 'Website', 'Design', 'Saas', 'Adobe', 'Access', 'Programming', 'Pyramid', 'Technical', 'Analysis', 'Strategy', 'Android', 'Adobe creative suite', 'Analytics', 'Vmware', 'Networking', 'Xml', 'Architecture', 'Windows', 'Electronics', 'Mysql', 'Scripting', 'Small business', 'Jira', 'Dns', 'Sales', 'Php', 'Java']['Css', 'C++', 'Electrical', 'Forecasting', 'Documentation', 'Presentation', 'Perl', 'Coding', 'Linux', 'Mobile', 'Communication', 'Strong analytical skills', 'Software development life cycle', 'Oracle', 'Scrum', 'Unix', 'Testing', 'Servers', 'Test plans', 'Debugging', 'Prototype', 'Rest', 'Logging', 'Database', 'Visio', 'Reporting', 'Audio', 'Requests', 'Nosql', 'Specifications', 'Apis', 'Pattern', 'Ui', 'Vendors', 'Db2', 'Threading', 'Process', 'Training', 'Test cases', 'Jsp', 'System', 'Analytical', 'Hardware', 'Engineering', 'Html', 'Javascript', 'Sql', 'Agile', 'Design', 'Web services', 'Api', 'Access', 'Programming', 'Analysis', 'Technical', 'C', 'Queries', 'Writing', 'Xml', 'Windows', 'Visual', 'Architecture', 'Mysql', 'Soap', 'Scripting', 'Reports', 'Content', 'Construction', 'Jira', 'Analyze', 'Pl/sql', 'Video', 'Sql server', 'Tfs', 'Ibm', 'Java']['Css', 'Big data', 'Postgresql', 'Reporting', 'Nosql', 'Conversion', 'Matrix', 'Engineering', 'Ms project', 'Design', 'Access', 'Programming', 'Analysis', 'Queries', 'Strategy', 'Xml', 'Visual', 'Sap', 'Mysql', 'Ms excel', 'Sql server', 'Reconciliation', 'Pl/sql', 'Linux', 'Analytical skills', 'Oracle', 'Aws', 'Unix', 'Sas', 'Servers', 'Logging', 'Process', 'Security', 'Analytical', 'Writing', 'Architecture', 'Warehouse', 'Health', 'Hive', 'Improvement', 'R', 'Governance', 'Coding', 'Communication', 'Redhat', 'Data quality', 'Operating systems', 'Filing', 'Visio', 'Database', 'Etl', 'Modeling', 'Hbase', 'Db2', 'Data analysis', 'System', 'Scripting', 'Installation', 'Hadoop', 'Analyze', 'Architectures', 'Java', 'Jad', 'Compliance', 'Migration', 'Documentation', 'Gap analysis', 'Lifecycle', 'Excel', 'Testing', 'Test plans', 'Specifications', 'Spreadsheets', 'Test cases', 'Sql', 'Html', 'Tableau', 'Profiling', 'Technical', 'Windows', 'Email', 'Reports', 'Distribution']['Jad', 'Css', 'C++', 'Workflow', 'Compliance', 'Swot analysis', 'Electrical', 'Migration', 'Documentation', 'Presentation', 'Gap analysis', 'Lifecycle', 'Linux', 'Analytical skills', 'Communication', 'Excel', 'Policies', 'Scrum', 'Unix', 'Testing', 'Status reports', 'Visio', 'Database', 'Etl', 'Matrix', 'Modeling', 'Specifications', 'Apis', 'Schedule', 'Process', 'Ecommerce', 'Payments', 'Test cases', 'Business process', 'System', 'Analytical', 'Regulations', 'Plan', 'Technical issues', 'Engineering', 'Sql', 'Html', 'Agile', 'Retail', 'Design', 'Website', 'Access', 'Mock', 'Analysis', 'Technical', 'C', 'Queries', 'Writing', 'Schedules', 'Sharepoint', 'Banking', 'User stories', 'Presentations', '.net', 'Xml', 'Windows', 'Visual', 'Sap', 'Architecture', 'Change management', 'Warehouse', 'Ms excel', 'Reports', 'Research', 'Content', 'Analyze', 'Scheduling', 'Powerpoint', 'Java', 'Sdlc', 'Word']['Jad', 'Css', 'C++', 'Workflow', 'Compliance', 'Swot analysis', 'Electrical', 'Migration', 'Documentation', 'Presentation', 'Gap analysis', 'Lifecycle', 'Linux', 'Analytical skills', 'Communication', 'Excel', 'Policies', 'Scrum', 'Unix', 'Testing', 'Status reports', 'Visio', 'Database', 'Etl', 'Matrix', 'Modeling', 'Specifications', 'Apis', 'Schedule', 'Process', 'Ecommerce', 'Payments', 'Test cases', 'Business process', 'System', 'Analytical', 'Regulations', 'Plan', 'Technical issues', 'Engineering', 'Sql', 'Html', 'Agile', 'Retail', 'Design', 'Website', 'Access', 'Mock', 'Analysis', 'Technical', 'C', 'Queries', 'Writing', 'Schedules', 'Sharepoint', 'Banking', 'User stories', 'Presentations', '.net', 'Xml', 'Windows', 'Visual', 'Sap', 'Architecture', 'Change management', 'Warehouse', 'Ms excel', 'Reports', 'Research', 'Content', 'Analyze', 'Scheduling', 'Powerpoint', 'Java', 'Sdlc', 'Word']['Css', 'Software development life cycle', 'Administration', 'Cloud', 'Scrum', 'Reporting', 'Js', 'Schedule', 'Engineering', 'Web services', 'Design', 'Access', 'Programming', 'Queries', 'Analysis', 'Microsoft sql', 'Xml', 'Visual', 'Mysql', 'Troubleshooting', 'Sql server', 'Workflow', 'Oracle', 'Unix', 'Servers', 'Requests', 'Pattern', 'Process', 'Security', 'Website', 'Workflows', 'Sharepoint', 'Writing', 'Architecture', 'Datasets', 'Soap', 'Sales', 'Coding', 'Communication', 'Operating systems', 'Active directory', 'Debugging', 'Database', 'Crm', 'System', 'Javascript', 'Auditing', 'Api', 'C', '.net', 'Marketing', 'Scripting', 'Installation', 'Analyze', 'C#', 'Tfs', 'Java', 'Migration', 'Gap analysis', 'Lifecycle', 'Controls', 'Testing', 'Rest', 'Shell', 'Interactive', 'Plan', 'Sql', 'Html', 'Agile', 'Healthcare', 'Technical', 'Windows', 'Fabric', 'Reports', 'Finance', 'Updates', 'Photoshop', 'Sdlc', 'Adobe']['Css', 'Presentation', 'Spark', 'Software development life cycle', 'Administration', 'Cloud', 'Scrum', 'Postgresql', 'Html5', 'Automation', 'Json', 'Nosql', 'Js', 'Threading', 'Ecommerce', 'Audit', 'Scala', 'Hardware', 'Web services', 'Design', 'Access', 'Programming', 'Xml', 'Mysql', 'Sql server', 'Pl/sql', 'E-commerce', 'Linux', 'Oracle', 'Aws', 'Unix', 'Servers', 'Logging', 'Prototype', 'Requests', 'Pattern', 'Process', 'Inventory', 'Jsp', 'Security', 'Analytical', 'Website', 'Writing', 'Architecture', 'Soap', 'Jira', 'Ibm', 'Php', 'C++', 'R', 'Coding', 'Mobile', 'Communication', 'Fitness', 'Visio', 'Database', 'Ruby', 'Modeling', 'Apis', 'Vendors', 'Db2', 'Payments', 'System', 'Javascript', 'Api', 'C', 'Docker', 'Routing', 'Scripting', 'Installation', 'Java', 'Migration', 'Lifecycle', 'Controls', 'Testing', 'Transactions', 'Rest', 'Ansible', 'Ui', 'Computer science', 'Operations', 'Html', 'Sql', 'Retail', 'Agile', 'Technical skills', 'Technical', 'Windows', 'Diesel', 'Photoshop', 'Sdlc', 'Lean', 'Adobe']['Regulatory', 'Software development life cycle', 'Scrum', 'Swift', 'Reporting', 'Automation', 'Business process re-engineering', 'Money', 'Conversion', 'Matrix', 'Engineering', 'Ms project', 'Design', 'Business systems', 'Access', 'Analysis', 'Queries', 'Microsoft sql', 'Xml', 'Deposits', 'Investigate', 'Sql server', 'Reconciliation', 'Internal customers', 'Pl/sql', 'Workflow', 'Responses', 'Underwriting', 'Coaching', 'Oracle', 'Risk management', 'Requests', 'Process', 'Risk assessment', 'Banking', 'Workflows', 'Schedules', 'Sharepoint', 'Writing', 'Project management', 'Architecture', 'Warehouse', 'Research', 'Jira', 'Powerpoint', 'Sales', 'Metrics', 'Communication', 'Data quality', 'Visio', 'Database', 'Etl', 'Modeling', 'Quality assurance', 'Vendors', 'Data analysis', 'System', 'Solaris', 'User stories', 'Analytics', 'Marketing', 'Scheduling', 'Analyze', 'Accounting', 'Information technology', 'Java', 'Jad', 'Word', 'Compliance', 'Migration', 'Documentation', 'Gap analysis', 'Excel', 'Testing', 'Test plans', 'Transactions', 'Illustrator', 'Publishing', 'Specifications', 'Training', 'Test cases', 'Regulations', 'Operations', 'Sql', 'Retail', 'Agile', 'Asset management', 'Technical', 'Windows', 'Industry experience', 'Email', 'Reports', 'Finance', 'Updates', 'Photoshop', 'Sdlc', 'Adobe']['Kpis', 'Digital marketing', 'Presentation', 'Administration', 'Scrum', 'Pivot', 'Swift', 'Reporting', 'Automation', 'Money', 'Conversion', 'Schedule', 'Audit', 'Engineering', 'Ms project', 'Design', 'Invoices', 'Access', 'Analysis', 'Microsoft sql', 'Strategy', 'Prototyping', 'Operations management', 'Retention', 'Itil', 'Xml', 'Sap', 'Mysql', 'Troubleshooting', 'Sql server', 'Vendor management', 'Workflow', 'Process improvement', 'Linux', 'Coaching', 'Oracle', 'Servers', 'Requests', 'Process', 'Rfp', 'Security', 'Startup', 'Website', 'Risk assessment', 'Banking', 'Workflows', 'Sharepoint', 'Schedules', 'Writing', 'Budget', 'Project management', 'Architecture', 'Salesforce', 'Warehouse', 'Health', 'Content', 'Jira', 'Sales', 'Improvement', 'Ibm', 'User experience', 'Metrics', 'Usability', 'Coding', 'Mobile', 'Communication', 'Redhat', 'Engagement', 'Consulting', 'Transportation', 'Brand', 'Visio', 'Database', 'Status reports', 'Standardization', 'Etl', 'Logistics', 'Business analysis', 'Certification', 'Crm', 'Modeling', 'System', 'C', 'User stories', 'Analytics', 'Business intelligence', 'Marketing', 'Pivot tables', 'Installation', 'Scheduling', 'Analyze', 'Video', 'Java', 'Jad', 'Compliance', 'Migration', 'Documentation', 'Excel', 'Testing', 'Transactions', 'Publishing', 'Marketing strategy', 'Specifications', 'Python', 'Ui', 'International', 'Training', 'Operations', 'Plan', 'Sql', 'Project delivery', 'Agile', 'Tableau', 'Healthcare', 'Technical', 'Case management', 'Windows', 'Email', 'Reports', 'Updates', 'Sdlc']['Regulatory', 'Administration', 'P', 'Reporting', 'Conversion', 'Matrix', 'Ms project', 'Design', 'Access', 'Analysis', 'Sops', 'Visual', 'Sap', 'Xml', 'Sql server', 'Pharmacy', 'Pl/sql', 'Six sigma', 'Workflow', 'Regulatory requirements', 'Oracle', 'Policies', 'Unix', 'Process', 'Inventory', 'Iso', 'Security', 'Analytical', 'Writing', 'Sharepoint', 'Schedules', 'Architecture', 'Soap', 'Warehouse', 'Health', 'Powerpoint', 'Sales', 'C++', 'Billing', 'Communication', 'Engagement', 'Status reports', 'Visio', 'Business analysis', 'Modeling', 'Vendors', 'System', 'Fda', 'Javascript', 'C', 'Marketing', 'Installation', 'Analyze', 'Word', 'Jad', 'Java', 'Compliance', 'Documentation', 'Lifecycle', 'Project plan', 'Excel', 'Testing', 'Test plans', 'Transactions', 'Pharmaceutical', 'International', 'Test cases', 'Business process', 'Regulations', 'Plan', 'Operations', 'Sql', 'Html', 'Agile', 'Healthcare', 'Technical skills', 'Technical', 'Presentations', 'Windows', 'Reports', 'Distribution', 'Sdlc']['Regulatory', 'Administration', 'P', 'Reporting', 'Conversion', 'Matrix', 'Ms project', 'Design', 'Access', 'Analysis', 'Sops', 'Visual', 'Sap', 'Xml', 'Sql server', 'Pharmacy', 'Pl/sql', 'Six sigma', 'Workflow', 'Regulatory requirements', 'Oracle', 'Policies', 'Unix', 'Process', 'Inventory', 'Iso', 'Security', 'Analytical', 'Writing', 'Sharepoint', 'Schedules', 'Architecture', 'Soap', 'Warehouse', 'Health', 'Powerpoint', 'Sales', 'C++', 'Billing', 'Communication', 'Engagement', 'Status reports', 'Visio', 'Business analysis', 'Modeling', 'Vendors', 'System', 'Fda', 'Javascript', 'C', 'Marketing', 'Installation', 'Analyze', 'Word', 'Jad', 'Java', 'Compliance', 'Documentation', 'Lifecycle', 'Project plan', 'Excel', 'Testing', 'Test plans', 'Transactions', 'Pharmaceutical', 'International', 'Test cases', 'Business process', 'Regulations', 'Plan', 'Operations', 'Sql', 'Html', 'Agile', 'Healthcare', 'Technical skills', 'Technical', 'Presentations', 'Windows', 'Reports', 'Distribution', 'Sdlc']['Compliance', 'Migration', 'Documentation', 'Presentation', 'Perl', 'Linux', 'Lifecycle', 'Mobile', 'Communication', 'Administration', 'Protocols', 'Operating systems', 'Policies', 'Cloud', 'Aws', 'Unix', 'Help desk', 'Servers', 'Ordering', 'Logging', 'Visio', 'Reporting', 'Automation', 'Requests', 'Network design', 'Apis', 'Python', 'Shell', 'Schedule', 'Computer science', 'Network configuration', 'Security', 'System', 'Hardware', 'Supervising', 'Cisco', 'Operations', 'Engineering', 'Website', 'Solaris', 'Design', 'Access', 'Programming', 'Analysis', 'Technical', 'Negotiation', 'C', 'Writing', 'Technical skills', 'Networking', 'Vmware', 'Circuits', 'Routing', 'Presentations', 'Microsoft visio', 'Lan', 'Windows', 'Fabric', 'Technical knowledge', 'Scripting', 'Os', 'Installation', 'Health', 'Reports', 'Troubleshooting', 'Ios', 'Content', 'Analyze', 'Dns', 'Updates', 'Php', 'Commissioning', 'Dhcp']['Kpis', 'Presentation', 'Spark', 'Statistical analysis', 'Click', 'Pivot', 'Reporting', 'Engineering', 'Ms project', 'Key performance indicators', 'Design', 'Access', 'Programming', 'Analysis', 'Queries', 'Mining', 'Retention', 'Xml', 'Ms excel', 'Sql server', 'Pl/sql', 'Matplotlib', 'Linux', 'Oracle', 'Unix', 'Servers', 'Pattern', 'Process', 'Analytical', 'Banking', 'Microsoft word', 'Writing', 'Sharepoint', 'Datasets', 'Health', 'Research', 'Social media', 'Hive', 'Powerpoint', 'Sales', 'Ibm', 'Seaborn', 'R', 'Metrics', 'Communication', 'Data quality', 'Peoplesoft', 'Brand', 'Visio', 'Pyspark', 'Database', 'Lighting', 'Machine learning', 'Etl', 'Modeling', 'Hbase', 'Db2', 'Algorithms', 'Data analysis', 'System', 'Analytics', 'Business intelligence', 'Marketing', 'Pivot tables', 'Hadoop', 'Analyze', 'Scheduling', 'Word', 'Forecasting', 'Documentation', 'Excel', 'Testing', 'Segmentation', 'Python', 'Interactive', 'Training', 'Business process', 'Plan', 'Sql', 'Retail', 'Tableau', 'Technical skills', 'Profiling', 'Technical', 'Presentations', 'Windows', 'Email', 'Reports']['Migration', 'Analytical skills', 'Data quality', 'Excel', 'Big data', 'Oracle', 'Cloud', 'Risk management', 'Testing', 'Database', 'Reporting', 'Automation', 'Requests', 'Etl', 'Pharmaceutical', 'Certification', 'Python', 'Process improvements', 'Process', 'International', 'Training', 'Pandas', 'System', 'Analytical', 'Plan', 'Sql', 'Engineering', 'Design', 'Tableau', 'Access', 'Analysis', 'Technical', 'Queries', 'Radar', 'Sap', 'Health', 'Reports', 'Troubleshooting', 'Scheduling', 'Powerpoint', 'Updates', 'Sql server', 'Ibm']['Administration', 'Cloud', 'Scrum', 'P', 'Automation', 'Nosql', 'Schedule', 'Hardware', 'Engineering', 'Github', 'Access', 'Programming', 'Analysis', 'Queries', 'Mysql', 'Ux', 'System administration', 'Troubleshooting', 'Sql server', 'Linux', 'Policies', 'Oracle', 'Aws', 'Unix', 'Servers', 'Process', 'Security', 'Startup', 'Workflows', 'Writing', 'Vmware', 'Architecture', 'Jira', 'Dns', 'Ibm', 'Commissioning', 'Openstack', 'Communication', 'Redhat', 'Protocols', 'Operating systems', 'Active directory', 'Database', 'Certification', 'Ruby', 'Db2', 'System', 'Solaris', 'Auditing', 'Api', 'C', 'Docker', 'Scripting', 'Os', 'Installation', 'Analyze', 'Scheduling', 'Java', 'Ubuntu', 'Compliance', 'Migration', 'Documentation', 'Perl', 'Controls', 'Testing', 'Transactions', 'Ansible', 'Python', 'Shell', 'Network configuration', 'Operations', 'Sql', 'Agile', 'Healthcare', 'Technical', 'Networking', 'Presentations', 'Windows', 'Reports', 'Updates', 'Dhcp']['C++', 'Css', 'Mvp', 'Documentation', 'Presentation', 'Project planning', 'Coding', 'Software development life cycle', 'Controls', 'Communication', 'Excel', 'Oracle', 'Testing', 'Html5', 'Test plans', 'C#', 'Transactions', 'Rest', 'Visio', 'Database', 'Prototype', 'Reporting', 'Json', 'Requests', 'Js', 'Modeling', 'Specifications', 'Ui', 'Payments', 'Computer science', 'System', 'Analytical', 'Html', 'Sql', 'Javascript', 'Agile', 'Web services', 'Design', 'Api', 'Access', 'C', 'Analysis', 'Programming', 'Queries', 'Technical', 'Sharepoint', 'Technical skills', '.net', 'Xml', 'Architecture', 'Windows', 'Visual', 'Soap', 'Scripting', 'Health', 'Ms excel', 'Reports', 'Pl/sql', 'Powerpoint', 'Sql server', 'Java', 'Tfs', 'Sdlc', 'Word']['C++', 'Css', 'Mvp', 'Documentation', 'Presentation', 'Project planning', 'Coding', 'Software development life cycle', 'Controls', 'Communication', 'Excel', 'Oracle', 'Testing', 'Html5', 'Test plans', 'C#', 'Transactions', 'Rest', 'Visio', 'Database', 'Prototype', 'Reporting', 'Json', 'Requests', 'Js', 'Modeling', 'Specifications', 'Ui', 'Payments', 'Computer science', 'System', 'Analytical', 'Html', 'Sql', 'Javascript', 'Agile', 'Web services', 'Design', 'Api', 'Access', 'C', 'Analysis', 'Programming', 'Queries', 'Technical', 'Sharepoint', 'Technical skills', '.net', 'Xml', 'Visual', 'Architecture', 'Windows', 'Soap', 'Scripting', 'Health', 'Ms excel', 'Reports', 'Pl/sql', 'Powerpoint', 'Sql server', 'Java', 'Tfs', 'Sdlc', 'Word']['Css', 'C++', 'Compliance', 'Underwriting', 'Governance', 'Coding', 'Mobile', 'Regulatory', 'Excel', 'Correspondence', 'Oracle', 'Unix', 'Word', 'Testing', 'Html5', 'Servers', 'Debugging', 'Transactions', 'Visio', 'Database', 'Requests', 'Ui', 'Interactive', 'Process', 'Test cases', 'Jsp', 'Security', 'System', 'Analytical', 'Sql', 'Html', 'Engineering', 'Agile', 'Javascript', 'Design', 'Auditing', 'Api', 'C', 'Analysis', 'Technical', 'Workflows', 'Queries', 'Writing', 'Support services', 'Routing', 'Xml', 'Windows', 'Architecture', 'Mysql', 'Soap', 'Procurement', 'Installation', 'Email', 'Ms excel', 'Reports', 'Troubleshooting', 'Jira', 'Scheduling', 'Analyze', 'Sql server', 'Updates', 'Pl/sql', 'Java']['Workflow', 'C++', 'Css', 'Documentation', 'Linux', 'Coding', 'Communication', 'Administration', 'Protocols', 'Oracle', 'Cloud', 'Unix', 'Testing', 'Servers', 'Rest', 'Visio', 'Database', 'Business analysis', 'Apex', 'Sdlc', 'Crm', 'Modeling', 'Apis', 'Schedule', 'Ui', 'Process', 'Jsp', 'Security', 'System', 'Sql', 'Html', 'Javascript', 'Agile', 'Web services', 'Design', 'Api', 'Access', 'Programming', 'Queries', 'Analysis', 'Technical', 'C', 'Workflows', 'Writing', 'Networking', 'Technical skills', 'Project management', 'Routing', 'Xml', 'Architecture', 'Windows', 'Sap', 'Visual', 'Mysql', 'Soap', 'Scripting', 'Salesforce', 'Email', 'Reports', 'Pl/sql', 'Sql server', 'Sales', 'Updates', 'Architectures', 'Ibm', 'Php', 'Java']['Css', 'Spark', 'Cloud', 'Html5', 'Nosql', 'Matrix', 'Design', 'Access', 'Programming', 'Analysis', 'Queries', 'Mining', 'Itil', 'Caffe', 'Visual', 'Xml', 'Mysql', 'Django', 'Ms excel', 'Troubleshooting', 'Construction', 'Sql server', 'Pl/sql', 'Linux', 'Oracle', 'Unix', 'Aws', 'Process', 'Analytical', 'Ggplot', 'Schedules', 'Vmware', 'Electronics', 'Architecture', 'Warehouse', 'Research', 'Ibm', 'C++', 'R', 'Pmp', 'Visio', 'Database', 'Machine learning', 'Etl', 'Modeling', 'Hbase', 'Algorithms', 'Data analysis', 'System', 'Javascript', 'Solaris', 'C', '.net', 'Marketing', 'Hypothesis', 'Scripting', 'Hadoop', 'Positioning', 'Analyze', 'C#', 'Java', 'Forecasting', 'Lifecycle', 'Flask', 'Excel', 'Testing', 'Statistics', 'Segmentation', 'Pdf', 'Python', 'Shell', 'Plan', 'Sql', 'Html', 'Agile', 'Tableau', 'Technical skills', 'Technical', 'Windows', 'Analyze data', 'Reports', 'Mathematics']['Css', 'Scrum', 'Click', 'Html5', 'Reporting', 'Json', 'Automation', 'Money', 'Js', 'Matrix', 'Web services', 'Design', 'Access', 'Programming', 'Queries', 'Prototyping', 'Twitter', 'Retention', 'Xml', 'Visual', 'Mysql', 'Ux', 'Troubleshooting', 'Asp', 'Sql server', 'E-commerce', 'Linux', 'Oracle', 'Unix', 'Servers', 'Prototype', 'Requests', 'Process', 'Jsp', 'Security', 'Analytical', 'Website', 'Workflows', 'Android', 'Writing', 'Tablets', 'Soap', 'Health', 'Php', 'Usability', 'Sublime', 'Coding', 'Mobile', 'Engagement', 'Communication', 'Debugging', 'Visio', 'Database', 'Apis', 'System', 'Javascript', 'Branding', 'Api', 'C', 'Scripting', 'Installation', 'Positioning', 'C#', 'Architectures', 'Java', 'Compliance', 'Documentation', 'Lifecycle', 'Controls', 'Testing', 'Ordering', 'Rest', 'Illustrator', 'Ui', 'Interactive', 'Operations', 'Html', 'Sql', 'Agile', 'Presentations', 'Windows', 'Payroll', 'Ios', 'Photoshop', 'Adobe']['Css', 'Scrum', 'Click', 'Html5', 'Reporting', 'Json', 'Automation', 'Money', 'Js', 'Matrix', 'Web services', 'Design', 'Access', 'Programming', 'Queries', 'Prototyping', 'Twitter', 'Retention', 'Xml', 'Visual', 'Mysql', 'Ux', 'Troubleshooting', 'Asp', 'Sql server', 'E-commerce', 'Linux', 'Oracle', 'Unix', 'Servers', 'Prototype', 'Requests', 'Process', 'Jsp', 'Security', 'Analytical', 'Website', 'Workflows', 'Android', 'Writing', 'Tablets', 'Soap', 'Health', 'Php', 'Usability', 'Sublime', 'Coding', 'Mobile', 'Engagement', 'Communication', 'Debugging', 'Visio', 'Database', 'Apis', 'System', 'Javascript', 'Branding', 'Api', 'C', 'Scripting', 'Installation', 'Positioning', 'C#', 'Architectures', 'Java', 'Compliance', 'Documentation', 'Lifecycle', 'Controls', 'Testing', 'Ordering', 'Rest', 'Illustrator', 'Ui', 'Interactive', 'Operations', 'Html', 'Sql', 'Agile', 'Presentations', 'Windows', 'Payroll', 'Ios', 'Photoshop', 'Adobe']['Workflow', 'Css', 'C++', 'Engineering', 'Coding', 'Software development life cycle', 'Controls', 'Excel', 'Oracle', 'Testing', 'Html5', 'Active directory', 'Debugging', 'C#', 'Rest', 'Database', 'Reporting', 'Intranet', 'Json', 'Logistics', 'Crm', 'Publishing', 'Js', 'Specifications', 'Apis', 'Ui', 'Process', 'Audit', 'Web services', 'System', 'Sql', 'Html', 'Javascript', 'Agile', 'Website', 'Design', 'Auditing', 'Api', 'Access', 'C', 'Analysis', 'Programming', 'Queries', 'Technical', 'Workflows', 'Sharepoint', 'Writing', 'Technical skills', '.net', 'Xml', 'Architecture', 'Windows', 'Visual', 'Soap', 'Installation', 'Reports', 'Asp', 'Pl/sql', 'Erp', 'Updates', 'Sql server', 'Tfs', 'Sdlc', 'Java']['Regulatory', 'Administration', 'Cloud', 'Investigation', 'Reporting', 'Audit', 'Information security', 'Cisco', 'Engineering', 'Design', 'Access', 'Programming', 'Analysis', 'Itil', 'Xml', 'Mysql', 'System administration', 'Sql server', 'Reconciliation', 'Responses', 'Linux', 'Oracle', 'Policies', 'Aws', 'Servers', 'Logging', 'Investigations', 'Continuous improvement', 'Process', 'Iso', 'Security', 'Website', 'Android', 'Sharepoint', 'Writing', 'Vmware', 'Architecture', 'Health', 'Research', 'Content', 'Dns', 'Improvement', 'Ibm', 'C++', 'Mobile', 'Communication', 'Quality standards', 'Brand', 'Database', 'Vendors', 'Algorithms', 'System', 'Technical issues', 'Auditing', 'C', 'Lan', 'Scripting', 'Installation', 'Analyze', 'Architectures', 'Compliance', 'Migration', 'Documentation', 'Lifecycle', 'Controls', 'Testing', 'Mis', 'Pdf', 'Python', 'Training', 'Computer science', 'Plan', 'Operations', 'Sql', 'Html', 'Technical', 'Windows', 'Standard operating procedures', 'Email', 'Reports', 'Ios', 'Cryptography', 'Updates', 'Dhcp']['Css', 'Software development life cycle', 'Pivot', 'Html5', 'Json', 'Conversion', 'Js', 'Threading', 'Web services', 'Design', 'Invoices', 'Access', 'Programming', 'Analysis', 'Queries', 'Strategy', 'Xml', 'Visual', 'Mysql', 'Pl/sql', 'Workflow', 'Parser', 'Linux', 'Oracle', 'Unix', 'Servers', 'Logging', 'Requests', 'Vim', 'Pattern', 'Process', 'Inventory', 'Jsp', 'Security', 'Workflows', 'Writing', 'Architecture', 'Soap', 'Warehouse', 'Research', 'Jira', 'Ibm', 'Billing', 'Communication', 'Editing', 'Visio', 'Database', 'Etl', 'Modeling', 'Vendors', 'Db2', 'System', 'Javascript', 'Api', 'Routing', 'Scripting', 'Information technology', 'Tfs', 'Java', 'Migration', 'Documentation', 'Perl', 'Lifecycle', 'Testing', 'Rest', 'Pdf', 'Supervisor', 'Ui', 'Operations', 'Sql', 'Html', 'Agile', 'Mortgage', 'Technical', 'Windows', 'Reports', 'Sdlc']['Css', 'Regulatory', 'Administration', 'Software development life cycle', 'Scrum', 'Cloud', 'Html5', 'Json', 'Automation', 'Threading', 'Hardware', 'Engineering', 'Github', 'Design', 'Access', 'Programming', 'Analysis', 'Queries', 'Xml', 'Django', 'Troubleshooting', 'Sql server', 'Pl/sql', 'Workflow', 'Linux', 'Oracle', 'Unix', 'Servers', 'Requests', 'Pattern', 'Process', 'Inventory', 'Security', 'Mock', 'Android', 'Writing', 'Architecture', 'Soap', 'Jira', 'Sales', 'Ibm', 'C++', 'Metrics', 'Coding', 'Mobile', 'Communication', 'Operating systems', 'Protocols', 'Debugging', 'Database', 'Vendors', 'Db2', 'Algorithms', 'Data analysis', 'System', 'Javascript', 'Solaris', 'Api', 'C', 'Scripting', 'Os', 'Java', 'Ubuntu', 'Compliance', 'Migration', 'Documentation', 'Perl', 'Lifecycle', 'Testing', 'Rest', 'Python', 'Shell', 'Ui', 'Interactive', 'Sql', 'Html', 'Agile', 'Technical skills', 'Technical', 'Networking', 'Email', 'Reports', 'Emacs', 'Sdlc']['Css', 'Regulatory', 'Administration', 'Software development life cycle', 'Scrum', 'Cloud', 'Html5', 'Json', 'Automation', 'Threading', 'Hardware', 'Engineering', 'Github', 'Design', 'Access', 'Programming', 'Analysis', 'Queries', 'Xml', 'Django', 'Troubleshooting', 'Sql server', 'Pl/sql', 'Workflow', 'Linux', 'Oracle', 'Unix', 'Servers', 'Requests', 'Pattern', 'Process', 'Inventory', 'Security', 'Mock', 'Android', 'Writing', 'Architecture', 'Soap', 'Jira', 'Sales', 'Ibm', 'C++', 'Metrics', 'Coding', 'Mobile', 'Communication', 'Operating systems', 'Protocols', 'Debugging', 'Database', 'Vendors', 'Db2', 'Algorithms', 'Data analysis', 'System', 'Javascript', 'Solaris', 'Api', 'C', 'Scripting', 'Os', 'Java', 'Ubuntu', 'Compliance', 'Migration', 'Documentation', 'Perl', 'Lifecycle', 'Testing', 'Rest', 'Python', 'Shell', 'Ui', 'Interactive', 'Sql', 'Html', 'Agile', 'Technical skills', 'Technical', 'Networking', 'Email', 'Reports', 'Emacs', 'Sdlc']['Workflow', 'Supply chain management', 'Migration', 'Linux', 'Administration', 'Communication', 'Oracle', 'Cloud', 'Unix', 'Testing', 'Servers', 'Logging', 'Database', 'Reporting', 'Requests', 'Etl', 'Hospital', 'Specifications', 'Shell', 'Db2', 'Interactive', 'Audit', 'Training', 'Payments', 'Security', 'System', 'Hardware', 'Plan', 'Operations', 'Sql', 'Engineering', 'Web services', 'Agile', 'Design', 'Access', 'C', 'Analysis', 'Technical', 'Queries', 'Strategy', 'Writing', 'Technical skills', '.net', 'Xml', 'Visual', 'Architecture', 'Windows', 'Sap', 'Falcon', 'Scripting', 'Installation', 'Ux', 'Health', 'Email', 'Hadoop', 'Warehouse', 'Reports', 'Troubleshooting', 'Scheduling', 'Analyze', 'Erp', 'Sql server', 'Ibm']\""
      ]
     },
     "execution_count": 14,
     "metadata": {},
     "output_type": "execute_result"
    }
   ],
   "source": [
    "X= final_df[\"skills\"]\n",
    "str1 = ''.join(str(e) for e in X)\n",
    "str1"
   ]
  },
  {
   "cell_type": "code",
   "execution_count": 15,
   "metadata": {},
   "outputs": [
    {
     "name": "stderr",
     "output_type": "stream",
     "text": [
      "[nltk_data] Downloading package stopwords to\n",
      "[nltk_data]     C:\\Users\\HP\\AppData\\Roaming\\nltk_data...\n",
      "[nltk_data]   Package stopwords is already up-to-date!\n"
     ]
    }
   ],
   "source": [
    "import re\n",
    "import nltk\n",
    "nltk.download('stopwords')\n",
    "from nltk.corpus import stopwords\n",
    "from nltk.stem.porter import PorterStemmer\n",
    "corpus= []\n",
    "for i in range(1,98):\n",
    "    row_d=re.sub('[^a-zA-Z]',' ',str(X[i])) #non letter will be replace by space\n",
    "    row_d=row_d.lower()\n",
    "    row_d=row_d.split()\n",
    "    #ps= PorterStemmer()\n",
    "    all_stopwords= stopwords.words('english')\n",
    "    #all_stopwords.remove('not') #it will remove not word from the stopword\n",
    "    row_d= [(word) for word in row_d if word not in all_stopwords]\n",
    "    review= ' '.join(row_d)\n",
    "    corpus.append(review)"
   ]
  },
  {
   "cell_type": "code",
   "execution_count": 16,
   "metadata": {
    "scrolled": false
   },
   "outputs": [],
   "source": [
    "#corpus"
   ]
  },
  {
   "cell_type": "code",
   "execution_count": 17,
   "metadata": {},
   "outputs": [
    {
     "data": {
      "text/html": [
       "<div>\n",
       "<style scoped>\n",
       "    .dataframe tbody tr th:only-of-type {\n",
       "        vertical-align: middle;\n",
       "    }\n",
       "\n",
       "    .dataframe tbody tr th {\n",
       "        vertical-align: top;\n",
       "    }\n",
       "\n",
       "    .dataframe thead th {\n",
       "        text-align: right;\n",
       "    }\n",
       "</style>\n",
       "<table border=\"1\" class=\"dataframe\">\n",
       "  <thead>\n",
       "    <tr style=\"text-align: right;\">\n",
       "      <th></th>\n",
       "      <th>access</th>\n",
       "      <th>account</th>\n",
       "      <th>accounting</th>\n",
       "      <th>acquisition</th>\n",
       "      <th>active</th>\n",
       "      <th>administration</th>\n",
       "      <th>adobe</th>\n",
       "      <th>advertising</th>\n",
       "      <th>agile</th>\n",
       "      <th>ai</th>\n",
       "      <th>...</th>\n",
       "      <th>wifi</th>\n",
       "      <th>windows</th>\n",
       "      <th>word</th>\n",
       "      <th>wordpress</th>\n",
       "      <th>workflow</th>\n",
       "      <th>workflows</th>\n",
       "      <th>writing</th>\n",
       "      <th>wxpython</th>\n",
       "      <th>xml</th>\n",
       "      <th>yaml</th>\n",
       "    </tr>\n",
       "  </thead>\n",
       "  <tbody>\n",
       "    <tr>\n",
       "      <th>1</th>\n",
       "      <td>0.069143</td>\n",
       "      <td>0.0</td>\n",
       "      <td>0.0</td>\n",
       "      <td>0.0</td>\n",
       "      <td>0.0</td>\n",
       "      <td>0.106534</td>\n",
       "      <td>0.0</td>\n",
       "      <td>0.0</td>\n",
       "      <td>0.080927</td>\n",
       "      <td>0.0</td>\n",
       "      <td>...</td>\n",
       "      <td>0.0</td>\n",
       "      <td>0.000000</td>\n",
       "      <td>0.0</td>\n",
       "      <td>0.0</td>\n",
       "      <td>0.109258</td>\n",
       "      <td>0.128860</td>\n",
       "      <td>0.083590</td>\n",
       "      <td>0.0</td>\n",
       "      <td>0.080927</td>\n",
       "      <td>0.0</td>\n",
       "    </tr>\n",
       "    <tr>\n",
       "      <th>2</th>\n",
       "      <td>0.076014</td>\n",
       "      <td>0.0</td>\n",
       "      <td>0.0</td>\n",
       "      <td>0.0</td>\n",
       "      <td>0.0</td>\n",
       "      <td>0.117122</td>\n",
       "      <td>0.0</td>\n",
       "      <td>0.0</td>\n",
       "      <td>0.088970</td>\n",
       "      <td>0.0</td>\n",
       "      <td>...</td>\n",
       "      <td>0.0</td>\n",
       "      <td>0.071470</td>\n",
       "      <td>0.0</td>\n",
       "      <td>0.0</td>\n",
       "      <td>0.000000</td>\n",
       "      <td>0.000000</td>\n",
       "      <td>0.091898</td>\n",
       "      <td>0.0</td>\n",
       "      <td>0.088970</td>\n",
       "      <td>0.0</td>\n",
       "    </tr>\n",
       "    <tr>\n",
       "      <th>3</th>\n",
       "      <td>0.058253</td>\n",
       "      <td>0.0</td>\n",
       "      <td>0.0</td>\n",
       "      <td>0.0</td>\n",
       "      <td>0.0</td>\n",
       "      <td>0.089755</td>\n",
       "      <td>0.0</td>\n",
       "      <td>0.0</td>\n",
       "      <td>0.000000</td>\n",
       "      <td>0.0</td>\n",
       "      <td>...</td>\n",
       "      <td>0.0</td>\n",
       "      <td>0.054771</td>\n",
       "      <td>0.0</td>\n",
       "      <td>0.0</td>\n",
       "      <td>0.092050</td>\n",
       "      <td>0.000000</td>\n",
       "      <td>0.000000</td>\n",
       "      <td>0.0</td>\n",
       "      <td>0.000000</td>\n",
       "      <td>0.0</td>\n",
       "    </tr>\n",
       "    <tr>\n",
       "      <th>4</th>\n",
       "      <td>0.000000</td>\n",
       "      <td>0.0</td>\n",
       "      <td>0.0</td>\n",
       "      <td>0.0</td>\n",
       "      <td>0.0</td>\n",
       "      <td>0.000000</td>\n",
       "      <td>0.0</td>\n",
       "      <td>0.0</td>\n",
       "      <td>0.000000</td>\n",
       "      <td>0.0</td>\n",
       "      <td>...</td>\n",
       "      <td>0.0</td>\n",
       "      <td>0.102209</td>\n",
       "      <td>0.0</td>\n",
       "      <td>0.0</td>\n",
       "      <td>0.171777</td>\n",
       "      <td>0.000000</td>\n",
       "      <td>0.000000</td>\n",
       "      <td>0.0</td>\n",
       "      <td>0.127235</td>\n",
       "      <td>0.0</td>\n",
       "    </tr>\n",
       "    <tr>\n",
       "      <th>5</th>\n",
       "      <td>0.000000</td>\n",
       "      <td>0.0</td>\n",
       "      <td>0.0</td>\n",
       "      <td>0.0</td>\n",
       "      <td>0.0</td>\n",
       "      <td>0.000000</td>\n",
       "      <td>0.0</td>\n",
       "      <td>0.0</td>\n",
       "      <td>0.000000</td>\n",
       "      <td>0.0</td>\n",
       "      <td>...</td>\n",
       "      <td>0.0</td>\n",
       "      <td>0.112759</td>\n",
       "      <td>0.0</td>\n",
       "      <td>0.0</td>\n",
       "      <td>0.189507</td>\n",
       "      <td>0.000000</td>\n",
       "      <td>0.000000</td>\n",
       "      <td>0.0</td>\n",
       "      <td>0.000000</td>\n",
       "      <td>0.0</td>\n",
       "    </tr>\n",
       "    <tr>\n",
       "      <th>...</th>\n",
       "      <td>...</td>\n",
       "      <td>...</td>\n",
       "      <td>...</td>\n",
       "      <td>...</td>\n",
       "      <td>...</td>\n",
       "      <td>...</td>\n",
       "      <td>...</td>\n",
       "      <td>...</td>\n",
       "      <td>...</td>\n",
       "      <td>...</td>\n",
       "      <td>...</td>\n",
       "      <td>...</td>\n",
       "      <td>...</td>\n",
       "      <td>...</td>\n",
       "      <td>...</td>\n",
       "      <td>...</td>\n",
       "      <td>...</td>\n",
       "      <td>...</td>\n",
       "      <td>...</td>\n",
       "      <td>...</td>\n",
       "      <td>...</td>\n",
       "    </tr>\n",
       "    <tr>\n",
       "      <th>93</th>\n",
       "      <td>0.048318</td>\n",
       "      <td>0.0</td>\n",
       "      <td>0.0</td>\n",
       "      <td>0.0</td>\n",
       "      <td>0.0</td>\n",
       "      <td>0.148896</td>\n",
       "      <td>0.0</td>\n",
       "      <td>0.0</td>\n",
       "      <td>0.000000</td>\n",
       "      <td>0.0</td>\n",
       "      <td>...</td>\n",
       "      <td>0.0</td>\n",
       "      <td>0.045430</td>\n",
       "      <td>0.0</td>\n",
       "      <td>0.0</td>\n",
       "      <td>0.000000</td>\n",
       "      <td>0.000000</td>\n",
       "      <td>0.058414</td>\n",
       "      <td>0.0</td>\n",
       "      <td>0.056553</td>\n",
       "      <td>0.0</td>\n",
       "    </tr>\n",
       "    <tr>\n",
       "      <th>94</th>\n",
       "      <td>0.056457</td>\n",
       "      <td>0.0</td>\n",
       "      <td>0.0</td>\n",
       "      <td>0.0</td>\n",
       "      <td>0.0</td>\n",
       "      <td>0.000000</td>\n",
       "      <td>0.0</td>\n",
       "      <td>0.0</td>\n",
       "      <td>0.066080</td>\n",
       "      <td>0.0</td>\n",
       "      <td>...</td>\n",
       "      <td>0.0</td>\n",
       "      <td>0.053082</td>\n",
       "      <td>0.0</td>\n",
       "      <td>0.0</td>\n",
       "      <td>0.089213</td>\n",
       "      <td>0.105219</td>\n",
       "      <td>0.068254</td>\n",
       "      <td>0.0</td>\n",
       "      <td>0.066080</td>\n",
       "      <td>0.0</td>\n",
       "    </tr>\n",
       "    <tr>\n",
       "      <th>95</th>\n",
       "      <td>0.060544</td>\n",
       "      <td>0.0</td>\n",
       "      <td>0.0</td>\n",
       "      <td>0.0</td>\n",
       "      <td>0.0</td>\n",
       "      <td>0.093285</td>\n",
       "      <td>0.0</td>\n",
       "      <td>0.0</td>\n",
       "      <td>0.070862</td>\n",
       "      <td>0.0</td>\n",
       "      <td>...</td>\n",
       "      <td>0.0</td>\n",
       "      <td>0.000000</td>\n",
       "      <td>0.0</td>\n",
       "      <td>0.0</td>\n",
       "      <td>0.095670</td>\n",
       "      <td>0.000000</td>\n",
       "      <td>0.073194</td>\n",
       "      <td>0.0</td>\n",
       "      <td>0.070862</td>\n",
       "      <td>0.0</td>\n",
       "    </tr>\n",
       "    <tr>\n",
       "      <th>96</th>\n",
       "      <td>0.060544</td>\n",
       "      <td>0.0</td>\n",
       "      <td>0.0</td>\n",
       "      <td>0.0</td>\n",
       "      <td>0.0</td>\n",
       "      <td>0.093285</td>\n",
       "      <td>0.0</td>\n",
       "      <td>0.0</td>\n",
       "      <td>0.070862</td>\n",
       "      <td>0.0</td>\n",
       "      <td>...</td>\n",
       "      <td>0.0</td>\n",
       "      <td>0.000000</td>\n",
       "      <td>0.0</td>\n",
       "      <td>0.0</td>\n",
       "      <td>0.095670</td>\n",
       "      <td>0.000000</td>\n",
       "      <td>0.073194</td>\n",
       "      <td>0.0</td>\n",
       "      <td>0.070862</td>\n",
       "      <td>0.0</td>\n",
       "    </tr>\n",
       "    <tr>\n",
       "      <th>97</th>\n",
       "      <td>0.066100</td>\n",
       "      <td>0.0</td>\n",
       "      <td>0.0</td>\n",
       "      <td>0.0</td>\n",
       "      <td>0.0</td>\n",
       "      <td>0.101846</td>\n",
       "      <td>0.0</td>\n",
       "      <td>0.0</td>\n",
       "      <td>0.077366</td>\n",
       "      <td>0.0</td>\n",
       "      <td>...</td>\n",
       "      <td>0.0</td>\n",
       "      <td>0.062149</td>\n",
       "      <td>0.0</td>\n",
       "      <td>0.0</td>\n",
       "      <td>0.104450</td>\n",
       "      <td>0.000000</td>\n",
       "      <td>0.079912</td>\n",
       "      <td>0.0</td>\n",
       "      <td>0.077366</td>\n",
       "      <td>0.0</td>\n",
       "    </tr>\n",
       "  </tbody>\n",
       "</table>\n",
       "<p>97 rows × 464 columns</p>\n",
       "</div>"
      ],
      "text/plain": [
       "      access  account  accounting  acquisition  active  administration  adobe  \\\n",
       "1   0.069143      0.0         0.0          0.0     0.0        0.106534    0.0   \n",
       "2   0.076014      0.0         0.0          0.0     0.0        0.117122    0.0   \n",
       "3   0.058253      0.0         0.0          0.0     0.0        0.089755    0.0   \n",
       "4   0.000000      0.0         0.0          0.0     0.0        0.000000    0.0   \n",
       "5   0.000000      0.0         0.0          0.0     0.0        0.000000    0.0   \n",
       "..       ...      ...         ...          ...     ...             ...    ...   \n",
       "93  0.048318      0.0         0.0          0.0     0.0        0.148896    0.0   \n",
       "94  0.056457      0.0         0.0          0.0     0.0        0.000000    0.0   \n",
       "95  0.060544      0.0         0.0          0.0     0.0        0.093285    0.0   \n",
       "96  0.060544      0.0         0.0          0.0     0.0        0.093285    0.0   \n",
       "97  0.066100      0.0         0.0          0.0     0.0        0.101846    0.0   \n",
       "\n",
       "    advertising     agile   ai  ...  wifi   windows  word  wordpress  \\\n",
       "1           0.0  0.080927  0.0  ...   0.0  0.000000   0.0        0.0   \n",
       "2           0.0  0.088970  0.0  ...   0.0  0.071470   0.0        0.0   \n",
       "3           0.0  0.000000  0.0  ...   0.0  0.054771   0.0        0.0   \n",
       "4           0.0  0.000000  0.0  ...   0.0  0.102209   0.0        0.0   \n",
       "5           0.0  0.000000  0.0  ...   0.0  0.112759   0.0        0.0   \n",
       "..          ...       ...  ...  ...   ...       ...   ...        ...   \n",
       "93          0.0  0.000000  0.0  ...   0.0  0.045430   0.0        0.0   \n",
       "94          0.0  0.066080  0.0  ...   0.0  0.053082   0.0        0.0   \n",
       "95          0.0  0.070862  0.0  ...   0.0  0.000000   0.0        0.0   \n",
       "96          0.0  0.070862  0.0  ...   0.0  0.000000   0.0        0.0   \n",
       "97          0.0  0.077366  0.0  ...   0.0  0.062149   0.0        0.0   \n",
       "\n",
       "    workflow  workflows   writing  wxpython       xml  yaml  \n",
       "1   0.109258   0.128860  0.083590       0.0  0.080927   0.0  \n",
       "2   0.000000   0.000000  0.091898       0.0  0.088970   0.0  \n",
       "3   0.092050   0.000000  0.000000       0.0  0.000000   0.0  \n",
       "4   0.171777   0.000000  0.000000       0.0  0.127235   0.0  \n",
       "5   0.189507   0.000000  0.000000       0.0  0.000000   0.0  \n",
       "..       ...        ...       ...       ...       ...   ...  \n",
       "93  0.000000   0.000000  0.058414       0.0  0.056553   0.0  \n",
       "94  0.089213   0.105219  0.068254       0.0  0.066080   0.0  \n",
       "95  0.095670   0.000000  0.073194       0.0  0.070862   0.0  \n",
       "96  0.095670   0.000000  0.073194       0.0  0.070862   0.0  \n",
       "97  0.104450   0.000000  0.079912       0.0  0.077366   0.0  \n",
       "\n",
       "[97 rows x 464 columns]"
      ]
     },
     "execution_count": 17,
     "metadata": {},
     "output_type": "execute_result"
    }
   ],
   "source": [
    "from sklearn.feature_extraction.text import TfidfVectorizer\n",
    "\n",
    "T_vectorizer = TfidfVectorizer(stop_words='english')\n",
    "Tf = T_vectorizer.fit_transform(corpus)\n",
    "\n",
    "#print the scores\n",
    "df1 = pd.DataFrame(Tf.todense(),columns=T_vectorizer.get_feature_names(),index=range(1,98))\n",
    "df1"
   ]
  },
  {
   "cell_type": "code",
   "execution_count": 18,
   "metadata": {},
   "outputs": [
    {
     "data": {
      "text/plain": [
       "[<matplotlib.lines.Line2D at 0x214471e1508>]"
      ]
     },
     "execution_count": 18,
     "metadata": {},
     "output_type": "execute_result"
    },
    {
     "data": {
      "image/png": "[encoded data removed]",
      "text/plain": [
       "<Figure size 432x288 with 1 Axes>"
      ]
     },
     "metadata": {
      "needs_background": "light"
     },
     "output_type": "display_data"
    }
   ],
   "source": [
    "from sklearn.cluster import KMeans\n",
    "import matplotlib.pyplot as plt\n",
    "wcss= []\n",
    "for i in range(1,11):\n",
    "    kmeans= KMeans(n_clusters=i,init=\"k-means++\", random_state=42)\n",
    "    kmeans.fit(df1)\n",
    "    wcss.append(kmeans.inertia_)\n",
    "plt.plot(range(1,11),wcss)"
   ]
  },
  {
   "cell_type": "code",
   "execution_count": 19,
   "metadata": {},
   "outputs": [
    {
     "data": {
      "text/plain": [
       "array([1, 1, 0, 1, 1, 0, 1, 1, 1, 2, 1, 2, 2, 1, 1, 1, 1, 1, 1, 1, 1, 1,\n",
       "       1, 1, 0, 1, 0, 2, 0, 1, 0, 2, 0, 0, 0, 0, 2, 2, 1, 0, 0, 0, 1, 0,\n",
       "       2, 0, 2, 0, 2, 1, 2, 2, 1, 2, 0, 2, 0, 2, 2, 0, 1, 1, 2, 1, 2, 0,\n",
       "       1, 1, 2, 2, 1, 0, 0, 0, 1, 1, 0, 0, 0, 0, 2, 0, 0, 2, 1, 1, 1, 1,\n",
       "       0, 1, 1, 1, 2, 1, 1, 1, 2])"
      ]
     },
     "execution_count": 19,
     "metadata": {},
     "output_type": "execute_result"
    }
   ],
   "source": [
    "kmeans= KMeans(n_clusters=3,init=\"k-means++\", random_state=42)\n",
    "y_kmeans = kmeans.fit_predict(df1)\n",
    "y_kmeans"
   ]
  },
  {
   "cell_type": "code",
   "execution_count": 20,
   "metadata": {},
   "outputs": [
    {
     "data": {
      "text/html": [
       "<div>\n",
       "<style scoped>\n",
       "    .dataframe tbody tr th:only-of-type {\n",
       "        vertical-align: middle;\n",
       "    }\n",
       "\n",
       "    .dataframe tbody tr th {\n",
       "        vertical-align: top;\n",
       "    }\n",
       "\n",
       "    .dataframe thead th {\n",
       "        text-align: right;\n",
       "    }\n",
       "</style>\n",
       "<table border=\"1\" class=\"dataframe\">\n",
       "  <thead>\n",
       "    <tr style=\"text-align: right;\">\n",
       "      <th></th>\n",
       "      <th>0</th>\n",
       "      <th>skills</th>\n",
       "      <th>Cluster</th>\n",
       "    </tr>\n",
       "  </thead>\n",
       "  <tbody>\n",
       "    <tr>\n",
       "      <th>1</th>\n",
       "      <td>04-Swamy_Sarnala.docx</td>\n",
       "      <td>[Workflow, C++, Css, Electrical, Migration, Li...</td>\n",
       "      <td>1</td>\n",
       "    </tr>\n",
       "    <tr>\n",
       "      <th>2</th>\n",
       "      <td>07-VamsiManoharBojjaResume java (1).docx</td>\n",
       "      <td>[Css, Documentation, Governance, Presentation,...</td>\n",
       "      <td>1</td>\n",
       "    </tr>\n",
       "    <tr>\n",
       "      <th>3</th>\n",
       "      <td>09-Sultana shaik-SAP Native HANA.docx</td>\n",
       "      <td>[Workflow, C++, Css, Compliance, Data analytic...</td>\n",
       "      <td>0</td>\n",
       "    </tr>\n",
       "    <tr>\n",
       "      <th>4</th>\n",
       "      <td>1.1.1.1 Solutions - Application Delivery - Sol...</td>\n",
       "      <td>[Workflow, Css, Documentation, Communication, ...</td>\n",
       "      <td>1</td>\n",
       "    </tr>\n",
       "    <tr>\n",
       "      <th>5</th>\n",
       "      <td>1.1.1.1 Solutions - Application Delivery - Sol...</td>\n",
       "      <td>[Workflow, Documentation, Communication, Testi...</td>\n",
       "      <td>1</td>\n",
       "    </tr>\n",
       "    <tr>\n",
       "      <th>...</th>\n",
       "      <td>...</td>\n",
       "      <td>...</td>\n",
       "      <td>...</td>\n",
       "    </tr>\n",
       "    <tr>\n",
       "      <th>93</th>\n",
       "      <td>Abhilash_Cyber Security.docx</td>\n",
       "      <td>[Regulatory, Administration, Cloud, Investigat...</td>\n",
       "      <td>2</td>\n",
       "    </tr>\n",
       "    <tr>\n",
       "      <th>94</th>\n",
       "      <td>Abhilash_Drools.docx</td>\n",
       "      <td>[Css, Software development life cycle, Pivot, ...</td>\n",
       "      <td>1</td>\n",
       "    </tr>\n",
       "    <tr>\n",
       "      <th>95</th>\n",
       "      <td>Abhilash_G (1).docx</td>\n",
       "      <td>[Css, Regulatory, Administration, Software dev...</td>\n",
       "      <td>1</td>\n",
       "    </tr>\n",
       "    <tr>\n",
       "      <th>96</th>\n",
       "      <td>Abhilash_G.docx</td>\n",
       "      <td>[Css, Regulatory, Administration, Software dev...</td>\n",
       "      <td>1</td>\n",
       "    </tr>\n",
       "    <tr>\n",
       "      <th>97</th>\n",
       "      <td>Abhi_DB2_DBA (1).docx</td>\n",
       "      <td>[Workflow, Supply chain management, Migration,...</td>\n",
       "      <td>2</td>\n",
       "    </tr>\n",
       "  </tbody>\n",
       "</table>\n",
       "<p>97 rows × 3 columns</p>\n",
       "</div>"
      ],
      "text/plain": [
       "                                                    0  \\\n",
       "1                               04-Swamy_Sarnala.docx   \n",
       "2            07-VamsiManoharBojjaResume java (1).docx   \n",
       "3               09-Sultana shaik-SAP Native HANA.docx   \n",
       "4   1.1.1.1 Solutions - Application Delivery - Sol...   \n",
       "5   1.1.1.1 Solutions - Application Delivery - Sol...   \n",
       "..                                                ...   \n",
       "93                       Abhilash_Cyber Security.docx   \n",
       "94                               Abhilash_Drools.docx   \n",
       "95                                Abhilash_G (1).docx   \n",
       "96                                    Abhilash_G.docx   \n",
       "97                              Abhi_DB2_DBA (1).docx   \n",
       "\n",
       "                                               skills  Cluster  \n",
       "1   [Workflow, C++, Css, Electrical, Migration, Li...        1  \n",
       "2   [Css, Documentation, Governance, Presentation,...        1  \n",
       "3   [Workflow, C++, Css, Compliance, Data analytic...        0  \n",
       "4   [Workflow, Css, Documentation, Communication, ...        1  \n",
       "5   [Workflow, Documentation, Communication, Testi...        1  \n",
       "..                                                ...      ...  \n",
       "93  [Regulatory, Administration, Cloud, Investigat...        2  \n",
       "94  [Css, Software development life cycle, Pivot, ...        1  \n",
       "95  [Css, Regulatory, Administration, Software dev...        1  \n",
       "96  [Css, Regulatory, Administration, Software dev...        1  \n",
       "97  [Workflow, Supply chain management, Migration,...        2  \n",
       "\n",
       "[97 rows x 3 columns]"
      ]
     },
     "execution_count": 20,
     "metadata": {},
     "output_type": "execute_result"
    }
   ],
   "source": [
    "final_df[\"Cluster\"]=  y_kmeans\n",
    "final_df"
   ]
  },
  {
   "cell_type": "code",
   "execution_count": 21,
   "metadata": {},
   "outputs": [],
   "source": [
    "from sklearn.decomposition import PCA\n",
    "pca= PCA(n_components=2)\n",
    "X= pca.fit_transform(df1)[:,0]\n",
    "Y=pca.fit_transform(df1)[:,1]"
   ]
  },
  {
   "cell_type": "code",
   "execution_count": 22,
   "metadata": {},
   "outputs": [],
   "source": [
    "final_df[\"X\"]= X\n",
    "final_df[\"Y\"] = Y"
   ]
  },
  {
   "cell_type": "code",
   "execution_count": 23,
   "metadata": {},
   "outputs": [
    {
     "data": {
      "text/html": [
       "<div>\n",
       "<style scoped>\n",
       "    .dataframe tbody tr th:only-of-type {\n",
       "        vertical-align: middle;\n",
       "    }\n",
       "\n",
       "    .dataframe tbody tr th {\n",
       "        vertical-align: top;\n",
       "    }\n",
       "\n",
       "    .dataframe thead th {\n",
       "        text-align: right;\n",
       "    }\n",
       "</style>\n",
       "<table border=\"1\" class=\"dataframe\">\n",
       "  <thead>\n",
       "    <tr style=\"text-align: right;\">\n",
       "      <th></th>\n",
       "      <th>0</th>\n",
       "      <th>skills</th>\n",
       "      <th>Cluster</th>\n",
       "      <th>X</th>\n",
       "      <th>Y</th>\n",
       "    </tr>\n",
       "  </thead>\n",
       "  <tbody>\n",
       "    <tr>\n",
       "      <th>1</th>\n",
       "      <td>04-Swamy_Sarnala.docx</td>\n",
       "      <td>[Workflow, C++, Css, Electrical, Migration, Li...</td>\n",
       "      <td>1</td>\n",
       "      <td>-0.046783</td>\n",
       "      <td>0.160638</td>\n",
       "    </tr>\n",
       "    <tr>\n",
       "      <th>2</th>\n",
       "      <td>07-VamsiManoharBojjaResume java (1).docx</td>\n",
       "      <td>[Css, Documentation, Governance, Presentation,...</td>\n",
       "      <td>1</td>\n",
       "      <td>-0.033366</td>\n",
       "      <td>0.286860</td>\n",
       "    </tr>\n",
       "    <tr>\n",
       "      <th>3</th>\n",
       "      <td>09-Sultana shaik-SAP Native HANA.docx</td>\n",
       "      <td>[Workflow, C++, Css, Compliance, Data analytic...</td>\n",
       "      <td>0</td>\n",
       "      <td>-0.027900</td>\n",
       "      <td>-0.153128</td>\n",
       "    </tr>\n",
       "    <tr>\n",
       "      <th>4</th>\n",
       "      <td>1.1.1.1 Solutions - Application Delivery - Sol...</td>\n",
       "      <td>[Workflow, Css, Documentation, Communication, ...</td>\n",
       "      <td>1</td>\n",
       "      <td>-0.084645</td>\n",
       "      <td>0.051311</td>\n",
       "    </tr>\n",
       "    <tr>\n",
       "      <th>5</th>\n",
       "      <td>1.1.1.1 Solutions - Application Delivery - Sol...</td>\n",
       "      <td>[Workflow, Documentation, Communication, Testi...</td>\n",
       "      <td>1</td>\n",
       "      <td>-0.061938</td>\n",
       "      <td>-0.029910</td>\n",
       "    </tr>\n",
       "    <tr>\n",
       "      <th>...</th>\n",
       "      <td>...</td>\n",
       "      <td>...</td>\n",
       "      <td>...</td>\n",
       "      <td>...</td>\n",
       "      <td>...</td>\n",
       "    </tr>\n",
       "    <tr>\n",
       "      <th>93</th>\n",
       "      <td>Abhilash_Cyber Security.docx</td>\n",
       "      <td>[Regulatory, Administration, Cloud, Investigat...</td>\n",
       "      <td>2</td>\n",
       "      <td>0.194895</td>\n",
       "      <td>-0.187982</td>\n",
       "    </tr>\n",
       "    <tr>\n",
       "      <th>94</th>\n",
       "      <td>Abhilash_Drools.docx</td>\n",
       "      <td>[Css, Software development life cycle, Pivot, ...</td>\n",
       "      <td>1</td>\n",
       "      <td>-0.063339</td>\n",
       "      <td>0.275358</td>\n",
       "    </tr>\n",
       "    <tr>\n",
       "      <th>95</th>\n",
       "      <td>Abhilash_G (1).docx</td>\n",
       "      <td>[Css, Regulatory, Administration, Software dev...</td>\n",
       "      <td>1</td>\n",
       "      <td>0.172308</td>\n",
       "      <td>0.255681</td>\n",
       "    </tr>\n",
       "    <tr>\n",
       "      <th>96</th>\n",
       "      <td>Abhilash_G.docx</td>\n",
       "      <td>[Css, Regulatory, Administration, Software dev...</td>\n",
       "      <td>1</td>\n",
       "      <td>0.172308</td>\n",
       "      <td>0.255681</td>\n",
       "    </tr>\n",
       "    <tr>\n",
       "      <th>97</th>\n",
       "      <td>Abhi_DB2_DBA (1).docx</td>\n",
       "      <td>[Workflow, Supply chain management, Migration,...</td>\n",
       "      <td>2</td>\n",
       "      <td>0.072217</td>\n",
       "      <td>-0.074302</td>\n",
       "    </tr>\n",
       "  </tbody>\n",
       "</table>\n",
       "<p>97 rows × 5 columns</p>\n",
       "</div>"
      ],
      "text/plain": [
       "                                                    0  \\\n",
       "1                               04-Swamy_Sarnala.docx   \n",
       "2            07-VamsiManoharBojjaResume java (1).docx   \n",
       "3               09-Sultana shaik-SAP Native HANA.docx   \n",
       "4   1.1.1.1 Solutions - Application Delivery - Sol...   \n",
       "5   1.1.1.1 Solutions - Application Delivery - Sol...   \n",
       "..                                                ...   \n",
       "93                       Abhilash_Cyber Security.docx   \n",
       "94                               Abhilash_Drools.docx   \n",
       "95                                Abhilash_G (1).docx   \n",
       "96                                    Abhilash_G.docx   \n",
       "97                              Abhi_DB2_DBA (1).docx   \n",
       "\n",
       "                                               skills  Cluster         X  \\\n",
       "1   [Workflow, C++, Css, Electrical, Migration, Li...        1 -0.046783   \n",
       "2   [Css, Documentation, Governance, Presentation,...        1 -0.033366   \n",
       "3   [Workflow, C++, Css, Compliance, Data analytic...        0 -0.027900   \n",
       "4   [Workflow, Css, Documentation, Communication, ...        1 -0.084645   \n",
       "5   [Workflow, Documentation, Communication, Testi...        1 -0.061938   \n",
       "..                                                ...      ...       ...   \n",
       "93  [Regulatory, Administration, Cloud, Investigat...        2  0.194895   \n",
       "94  [Css, Software development life cycle, Pivot, ...        1 -0.063339   \n",
       "95  [Css, Regulatory, Administration, Software dev...        1  0.172308   \n",
       "96  [Css, Regulatory, Administration, Software dev...        1  0.172308   \n",
       "97  [Workflow, Supply chain management, Migration,...        2  0.072217   \n",
       "\n",
       "           Y  \n",
       "1   0.160638  \n",
       "2   0.286860  \n",
       "3  -0.153128  \n",
       "4   0.051311  \n",
       "5  -0.029910  \n",
       "..       ...  \n",
       "93 -0.187982  \n",
       "94  0.275358  \n",
       "95  0.255681  \n",
       "96  0.255681  \n",
       "97 -0.074302  \n",
       "\n",
       "[97 rows x 5 columns]"
      ]
     },
     "execution_count": 23,
     "metadata": {},
     "output_type": "execute_result"
    }
   ],
   "source": [
    "final_df"
   ]
  },
  {
   "cell_type": "code",
   "execution_count": 24,
   "metadata": {},
   "outputs": [
    {
     "data": {
      "text/html": [
       "        <script type=\"text/javascript\">\n",
       "        window.PlotlyConfig = {MathJaxConfig: 'local'};\n",
       "        if (window.MathJax) {MathJax.Hub.Config({SVG: {font: \"STIX-Web\"}});}\n",
       "        if (typeof require !== 'undefined') {\n",
       "        require.undef(\"plotly\");\n",
       "        requirejs.config({\n",
       "            paths: {\n",
       "                'plotly': ['https://cdn.plot.ly/plotly-latest.min']\n",
       "            }\n",
       "        });\n",
       "        require(['plotly'], function(Plotly) {\n",
       "            window._Plotly = Plotly;\n",
       "        });\n",
       "        }\n",
       "        </script>\n",
       "        "
      ]
     },
     "metadata": {},
     "output_type": "display_data"
    },
    {
     "data": {
      "text/html": [
       "        <script type=\"text/javascript\">\n",
       "        window.PlotlyConfig = {MathJaxConfig: 'local'};\n",
       "        if (window.MathJax) {MathJax.Hub.Config({SVG: {font: \"STIX-Web\"}});}\n",
       "        if (typeof require !== 'undefined') {\n",
       "        require.undef(\"plotly\");\n",
       "        requirejs.config({\n",
       "            paths: {\n",
       "                'plotly': ['https://cdn.plot.ly/plotly-latest.min']\n",
       "            }\n",
       "        });\n",
       "        require(['plotly'], function(Plotly) {\n",
       "            window._Plotly = Plotly;\n",
       "        });\n",
       "        }\n",
       "        </script>\n",
       "        "
      ]
     },
     "metadata": {},
     "output_type": "display_data"
    }
   ],
   "source": [
    "import plotly as py \n",
    "import cufflinks as cf\n",
    "import nbformat\n",
    "import plotly.graph_objs as go\n",
    "from plotly.offline import download_plotlyjs,init_notebook_mode,iplot\n",
    "init_notebook_mode(connected=True)\n",
    "\n",
    "cf.go_offline()"
   ]
  },
  {
   "cell_type": "code",
   "execution_count": 27,
   "metadata": {
    "scrolled": true
   },
   "outputs": [
    {
     "data": {
      "application/vnd.plotly.v1+json": {
       "config": {
        "linkText": "Export to plot.ly",
        "plotlyServerURL": "https://plot.ly",
        "showLink": false
       },
       "data": [
        {
         "marker": {
          "color": "rgba(180,18,155,0.5)",
          "line": {
           "color": "red",
           "width": 1
          },
          "size": 10
         },
         "mode": "markers",
         "name": "Technical",
         "text": [
          "04-Swamy_Sarnala.docx",
          "07-VamsiManoharBojjaResume java (1).docx",
          "09-Sultana shaik-SAP Native HANA.docx",
          "1.1.1.1 Solutions - Application Delivery - Solution Architect (GC&E).docx",
          "1.1.1.1 Solutions - Application Delivery - Solution Architect.docx",
          "1.docx",
          "123Mallareddy_Mulesoft123.docx",
          "1495020666795.RSO - Full Stack Developer.docx",
          "1BhanuChandher_Sr MSCRM_Developer_ASP.NET.docx",
          "2017Resume.docx",
          "2188845-JD_CA_Java_Middleware_Developer-Sunnyvale.docx",
          "4 SARAVANA_SAP_Security_SSK.docx",
          "4+years Devops -Ramakrishna.docx",
          "4677_22924_1507756493Satish-resume.docx",
          "4677_26682_1511900071Bhavani.docx",
          "4677_3230_1508178703Bharath.docx",
          "4677_36061_1500470836Mohammed-Iliyaz.docx",
          "4677_46627_1509645130PraveenAEM.docx",
          "4677_53845_1509634820Mohammed-Iliyaz-10-1-.docx",
          "4677_61557_1502988985John-Dasari-Resume.docx",
          "4677_69769_1501530283John-Dasari-Resume.docx",
          "4677_74370_1500996506Saimanoha-Bhavandla-Pyth.docx",
          "4677_94364_1509987384Bhavani.docx",
          "4677_97275_1505144970Abhilash-Python-Resume.docx",
          "6xjvs8s944h9yei6 (1)2.docx",
          "8cem7jz2gxjch2at33.docx",
          "8fxtv3yqzxqdedmy.docx",
          "9064_15190_1514388232VishwaS.docx",
          "9064_26328_1512150968QA-Manager-Lead.docx",
          "9064_32864_1511203501Bhavana_ETL-Developer.docx",
          "9064_51695_1512077399QA-Manager-Lead.docx",
          "9064_70157_1511808439VishwaS.docx",
          "a.docx",
          "Aakanksha Jaiman-Data Science Resume2.docx",
          "Aakash Mayur Shiva Kumar.docx",
          "Aakash_BA.docx",
          "Aalap Desai.docx",
          "Aalap Desai_Resume.docx",
          "Aalok Resume.docx",
          "AARTI PATHAK.docx",
          "Aarzoo Sharma.docx",
          "AASHRITH REDDY_Resume.docx",
          "Aashrith_Sr.SFDC.docx",
          "Aayisha_Designer.docx",
          "Abayomi Ajuwon.docx",
          "Abbas Ali Akbar Shaikh.docx",
          "abbas syed resume.docx",
          "Abbas_Jafari RESUME 21.docx",
          "Abdul Adil.docx",
          "Abdul Aleem Mohammed_Salesforce Developer with Marketing Cloud .docx",
          "Abdul Hameed Syed.docx",
          "Abdul Hameed.docx",
          "Abdul Khadeer - Java.docx",
          "Abdul Mohammed,s Resume.docx",
          "Abdul Mohammed.docx",
          "Abdul Nabi Mohammad.docx",
          "Abdul Rawoof Mohammed_BA.docx",
          "Abdul Samad.docx",
          "Abdul Shaikh_Microsoft Exchange Server  Admin.docx",
          "Abdul Wahed Quraishi.docx",
          "Abdul.docx",
          "AbdulHameed_JAVA-US_CV.docx",
          "Abdullah Ahmed.docx",
          "Abdul_H_Hyath_Resume.docx",
          "Abdul_Johnson_Resume_H.docx",
          "Abdul_Mohammed_Validation_Engineer.docx",
          "Abdul_SitecoreDev.docx",
          "Abdur Rafay Mohammed_Pentaho Developer.docx",
          "Abdus Sami Abedi   resume.docx",
          "Abeer Khan - AWS Solutions Architect.docx",
          "Abel Fuentes Garza.docx",
          "Abhay_Sr_DataArchitect_Modeler.docx",
          "Abheeshta Gone Resume (2).docx",
          "Abheeshta Gone Resume.docx",
          "Abhi CRM  Resume.docx",
          "Abhigna-J2EE_Developer.docx",
          "Abhijeet.docx",
          "Abhijeeth_G resume.docx",
          "Abhijit Dhoat BA.docx",
          "Abhijit Dhoat resume.docx",
          "Abhijit Panchal resume.docx",
          "Abhijit Pramanik.docx",
          "Abhijit Santosh Kulkarni_Business Analyst with Outage Management.docx",
          "AbhijitChowd_Singamaneni.docx",
          "ABHIJITH REDDY_.Net Developer  (2).docx",
          "ABHIJITH REDDY_.Net Developer.docx",
          "Abhilash (2).docx",
          "Abhilash Baredu_MuleSoft Developer.docx",
          "Abhilash.docx",
          "Abhilash.UI HTML.docx",
          "Abhilash.UI.docx",
          "Abhilash_CRM.docx",
          "Abhilash_Cyber Security.docx",
          "Abhilash_Drools.docx",
          "Abhilash_G (1).docx",
          "Abhilash_G.docx",
          "Abhi_DB2_DBA (1).docx"
         ],
         "type": "scatter",
         "x": [
          -0.027899917147354986,
          -0.21917571469078478,
          -0.20200068542010693,
          -0.16750754832497086,
          -0.1526671792415717,
          -0.15266717924157175,
          -0.18893436118591173,
          -0.04341877681779085,
          -0.2923508092906968,
          -0.3034953335339627,
          -0.24741695526715893,
          -0.19982450444911806,
          -0.1798571416971311,
          -0.1528401336874851,
          -0.02934049449460547,
          -0.1679781582169695,
          -0.22611227065962244,
          -0.33572984179497956,
          -0.33570099118268726,
          -0.22803781435424142,
          -0.19794364835327005,
          -0.3704558294836876,
          -0.3704558294836876,
          -0.2824248517858722,
          -0.1623840556078193,
          -0.36981306882922665,
          -0.36981306882922665,
          -0.21401190681227247,
          -0.089581953251948,
          -0.07890175942181052
         ],
         "y": [
          -0.153127689944062,
          -0.03357102365642486,
          -0.09668357361533085,
          -0.10516598476197427,
          -0.1512945163838617,
          -0.15129451638386165,
          -0.24664072436984705,
          -0.06963247009586247,
          -0.23038731516783337,
          -0.2368963143186597,
          -0.22511476457812382,
          -0.08401661711916614,
          -0.10922598360499727,
          -0.08564179095929264,
          -0.1992746963622089,
          -0.06411000507658052,
          -0.24885258889467235,
          -0.21416006663192474,
          -0.21822166830009246,
          -0.2505398081647675,
          -0.17698262238927015,
          -0.25648097202204856,
          -0.25648097202204845,
          -0.241595461455164,
          -0.2611697211986829,
          -0.30813326067153574,
          -0.30813326067153574,
          -0.2159516866522568,
          -0.21067538192549187,
          -0.05312149934635654
         ]
        },
        {
         "marker": {
          "color": "rgba(15,820,152,0.5)",
          "line": {
           "color": "rgb(0,0,0)",
           "width": 1
          },
          "size": 10
         },
         "mode": "markers",
         "name": "Non-Technical",
         "text": [
          "04-Swamy_Sarnala.docx",
          "07-VamsiManoharBojjaResume java (1).docx",
          "09-Sultana shaik-SAP Native HANA.docx",
          "1.1.1.1 Solutions - Application Delivery - Solution Architect (GC&E).docx",
          "1.1.1.1 Solutions - Application Delivery - Solution Architect.docx",
          "1.docx",
          "123Mallareddy_Mulesoft123.docx",
          "1495020666795.RSO - Full Stack Developer.docx",
          "1BhanuChandher_Sr MSCRM_Developer_ASP.NET.docx",
          "2017Resume.docx",
          "2188845-JD_CA_Java_Middleware_Developer-Sunnyvale.docx",
          "4 SARAVANA_SAP_Security_SSK.docx",
          "4+years Devops -Ramakrishna.docx",
          "4677_22924_1507756493Satish-resume.docx",
          "4677_26682_1511900071Bhavani.docx",
          "4677_3230_1508178703Bharath.docx",
          "4677_36061_1500470836Mohammed-Iliyaz.docx",
          "4677_46627_1509645130PraveenAEM.docx",
          "4677_53845_1509634820Mohammed-Iliyaz-10-1-.docx",
          "4677_61557_1502988985John-Dasari-Resume.docx",
          "4677_69769_1501530283John-Dasari-Resume.docx",
          "4677_74370_1500996506Saimanoha-Bhavandla-Pyth.docx",
          "4677_94364_1509987384Bhavani.docx",
          "4677_97275_1505144970Abhilash-Python-Resume.docx",
          "6xjvs8s944h9yei6 (1)2.docx",
          "8cem7jz2gxjch2at33.docx",
          "8fxtv3yqzxqdedmy.docx",
          "9064_15190_1514388232VishwaS.docx",
          "9064_26328_1512150968QA-Manager-Lead.docx",
          "9064_32864_1511203501Bhavana_ETL-Developer.docx",
          "9064_51695_1512077399QA-Manager-Lead.docx",
          "9064_70157_1511808439VishwaS.docx",
          "a.docx",
          "Aakanksha Jaiman-Data Science Resume2.docx",
          "Aakash Mayur Shiva Kumar.docx",
          "Aakash_BA.docx",
          "Aalap Desai.docx",
          "Aalap Desai_Resume.docx",
          "Aalok Resume.docx",
          "AARTI PATHAK.docx",
          "Aarzoo Sharma.docx",
          "AASHRITH REDDY_Resume.docx",
          "Aashrith_Sr.SFDC.docx",
          "Aayisha_Designer.docx",
          "Abayomi Ajuwon.docx",
          "Abbas Ali Akbar Shaikh.docx",
          "abbas syed resume.docx",
          "Abbas_Jafari RESUME 21.docx",
          "Abdul Adil.docx",
          "Abdul Aleem Mohammed_Salesforce Developer with Marketing Cloud .docx",
          "Abdul Hameed Syed.docx",
          "Abdul Hameed.docx",
          "Abdul Khadeer - Java.docx",
          "Abdul Mohammed,s Resume.docx",
          "Abdul Mohammed.docx",
          "Abdul Nabi Mohammad.docx",
          "Abdul Rawoof Mohammed_BA.docx",
          "Abdul Samad.docx",
          "Abdul Shaikh_Microsoft Exchange Server  Admin.docx",
          "Abdul Wahed Quraishi.docx",
          "Abdul.docx",
          "AbdulHameed_JAVA-US_CV.docx",
          "Abdullah Ahmed.docx",
          "Abdul_H_Hyath_Resume.docx",
          "Abdul_Johnson_Resume_H.docx",
          "Abdul_Mohammed_Validation_Engineer.docx",
          "Abdul_SitecoreDev.docx",
          "Abdur Rafay Mohammed_Pentaho Developer.docx",
          "Abdus Sami Abedi   resume.docx",
          "Abeer Khan - AWS Solutions Architect.docx",
          "Abel Fuentes Garza.docx",
          "Abhay_Sr_DataArchitect_Modeler.docx",
          "Abheeshta Gone Resume (2).docx",
          "Abheeshta Gone Resume.docx",
          "Abhi CRM  Resume.docx",
          "Abhigna-J2EE_Developer.docx",
          "Abhijeet.docx",
          "Abhijeeth_G resume.docx",
          "Abhijit Dhoat BA.docx",
          "Abhijit Dhoat resume.docx",
          "Abhijit Panchal resume.docx",
          "Abhijit Pramanik.docx",
          "Abhijit Santosh Kulkarni_Business Analyst with Outage Management.docx",
          "AbhijitChowd_Singamaneni.docx",
          "ABHIJITH REDDY_.Net Developer  (2).docx",
          "ABHIJITH REDDY_.Net Developer.docx",
          "Abhilash (2).docx",
          "Abhilash Baredu_MuleSoft Developer.docx",
          "Abhilash.docx",
          "Abhilash.UI HTML.docx",
          "Abhilash.UI.docx",
          "Abhilash_CRM.docx",
          "Abhilash_Cyber Security.docx",
          "Abhilash_Drools.docx",
          "Abhilash_G (1).docx",
          "Abhilash_G.docx",
          "Abhi_DB2_DBA (1).docx"
         ],
         "type": "scatter",
         "x": [
          -0.04678271912344947,
          -0.03336595050996373,
          -0.08464463794142718,
          -0.06193839344623675,
          -0.08881250631966156,
          -0.021954072305587505,
          -0.15980655173713224,
          -0.004325816561638361,
          0.07504502841526785,
          -0.16190280802707366,
          -0.07973916252971869,
          0.0410024599963541,
          0.03380167812366929,
          0.06562754405428539,
          -0.021265290761688677,
          -0.021265290761688597,
          0.048321610241823756,
          -0.1619028080270736,
          0.0940174620211699,
          -0.09481781691056615,
          -0.024545284613036657,
          -0.044659204394481435,
          -0.03201264788775824,
          -0.12862884644319775,
          0.017908522177947632,
          -0.07917006648540005,
          -0.0019531212873171297,
          0.0700915499096379,
          -0.07957467544909011,
          -0.08679516186597604,
          -0.11674503931362361,
          0.02454209428924862,
          0.08617802197379745,
          -0.32992835701911366,
          -0.32992835701911366,
          -0.14371024973941207,
          -0.05300403016440073,
          -0.015099306973042516,
          -0.015099306973042513,
          -0.07234909004250029,
          -0.06333928025450068,
          0.1723077519891352,
          0.17230775198913514
         ],
         "y": [
          0.160638265118123,
          0.28686017743593495,
          0.051311059520148375,
          -0.029909956706273232,
          0.3114950320471441,
          0.09532093113204132,
          0.10980790520421473,
          0.032742538986456474,
          0.3929114000969649,
          0.20093051620044103,
          -0.0661038669636811,
          0.3272447913097632,
          0.3139964707345476,
          0.39499550079269824,
          0.3833466933449252,
          0.38334669334492527,
          0.2513705147131305,
          0.200930516200441,
          0.37752044293443926,
          0.01625692036711026,
          -0.07114429718757025,
          0.2902983619576126,
          0.18401349444581036,
          0.0699114028094917,
          0.21154819295389007,
          0.2400593443250636,
          0.0806609820298641,
          0.19605951555014053,
          0.23965555079414025,
          -0.030647340515764857,
          0.30763866432961395,
          0.201316812629203,
          0.3704523342910891,
          0.25034845601930145,
          0.2503484560193015,
          0.08253654218839578,
          0.19781128145010285,
          0.2693110821826378,
          0.26931108218263783,
          0.285286884897926,
          0.27535825375548295,
          0.25568112907322194,
          0.25568112907322205
         ]
        }
       ],
       "layout": {
        "template": {
         "data": {
          "bar": [
           {
            "error_x": {
             "color": "#2a3f5f"
            },
            "error_y": {
             "color": "#2a3f5f"
            },
            "marker": {
             "line": {
              "color": "#E5ECF6",
              "width": 0.5
             }
            },
            "type": "bar"
           }
          ],
          "barpolar": [
           {
            "marker": {
             "line": {
              "color": "#E5ECF6",
              "width": 0.5
             }
            },
            "type": "barpolar"
           }
          ],
          "carpet": [
           {
            "aaxis": {
             "endlinecolor": "#2a3f5f",
             "gridcolor": "white",
             "linecolor": "white",
             "minorgridcolor": "white",
             "startlinecolor": "#2a3f5f"
            },
            "baxis": {
             "endlinecolor": "#2a3f5f",
             "gridcolor": "white",
             "linecolor": "white",
             "minorgridcolor": "white",
             "startlinecolor": "#2a3f5f"
            },
            "type": "carpet"
           }
          ],
          "choropleth": [
           {
            "colorbar": {
             "outlinewidth": 0,
             "ticks": ""
            },
            "type": "choropleth"
           }
          ],
          "contour": [
           {
            "colorbar": {
             "outlinewidth": 0,
             "ticks": ""
            },
            "colorscale": [
             [
              0,
              "#0d0887"
             ],
             [
              0.1111111111111111,
              "#46039f"
             ],
             [
              0.2222222222222222,
              "#7201a8"
             ],
             [
              0.3333333333333333,
              "#9c179e"
             ],
             [
              0.4444444444444444,
              "#bd3786"
             ],
             [
              0.5555555555555556,
              "#d8576b"
             ],
             [
              0.6666666666666666,
              "#ed7953"
             ],
             [
              0.7777777777777778,
              "#fb9f3a"
             ],
             [
              0.8888888888888888,
              "#fdca26"
             ],
             [
              1,
              "#f0f921"
             ]
            ],
            "type": "contour"
           }
          ],
          "contourcarpet": [
           {
            "colorbar": {
             "outlinewidth": 0,
             "ticks": ""
            },
            "type": "contourcarpet"
           }
          ],
          "heatmap": [
           {
            "colorbar": {
             "outlinewidth": 0,
             "ticks": ""
            },
            "colorscale": [
             [
              0,
              "#0d0887"
             ],
             [
              0.1111111111111111,
              "#46039f"
             ],
             [
              0.2222222222222222,
              "#7201a8"
             ],
             [
              0.3333333333333333,
              "#9c179e"
             ],
             [
              0.4444444444444444,
              "#bd3786"
             ],
             [
              0.5555555555555556,
              "#d8576b"
             ],
             [
              0.6666666666666666,
              "#ed7953"
             ],
             [
              0.7777777777777778,
              "#fb9f3a"
             ],
             [
              0.8888888888888888,
              "#fdca26"
             ],
             [
              1,
              "#f0f921"
             ]
            ],
            "type": "heatmap"
           }
          ],
          "heatmapgl": [
           {
            "colorbar": {
             "outlinewidth": 0,
             "ticks": ""
            },
            "colorscale": [
             [
              0,
              "#0d0887"
             ],
             [
              0.1111111111111111,
              "#46039f"
             ],
             [
              0.2222222222222222,
              "#7201a8"
             ],
             [
              0.3333333333333333,
              "#9c179e"
             ],
             [
              0.4444444444444444,
              "#bd3786"
             ],
             [
              0.5555555555555556,
              "#d8576b"
             ],
             [
              0.6666666666666666,
              "#ed7953"
             ],
             [
              0.7777777777777778,
              "#fb9f3a"
             ],
             [
              0.8888888888888888,
              "#fdca26"
             ],
             [
              1,
              "#f0f921"
             ]
            ],
            "type": "heatmapgl"
           }
          ],
          "histogram": [
           {
            "marker": {
             "colorbar": {
              "outlinewidth": 0,
              "ticks": ""
             }
            },
            "type": "histogram"
           }
          ],
          "histogram2d": [
           {
            "colorbar": {
             "outlinewidth": 0,
             "ticks": ""
            },
            "colorscale": [
             [
              0,
              "#0d0887"
             ],
             [
              0.1111111111111111,
              "#46039f"
             ],
             [
              0.2222222222222222,
              "#7201a8"
             ],
             [
              0.3333333333333333,
              "#9c179e"
             ],
             [
              0.4444444444444444,
              "#bd3786"
             ],
             [
              0.5555555555555556,
              "#d8576b"
             ],
             [
              0.6666666666666666,
              "#ed7953"
             ],
             [
              0.7777777777777778,
              "#fb9f3a"
             ],
             [
              0.8888888888888888,
              "#fdca26"
             ],
             [
              1,
              "#f0f921"
             ]
            ],
            "type": "histogram2d"
           }
          ],
          "histogram2dcontour": [
           {
            "colorbar": {
             "outlinewidth": 0,
             "ticks": ""
            },
            "colorscale": [
             [
              0,
              "#0d0887"
             ],
             [
              0.1111111111111111,
              "#46039f"
             ],
             [
              0.2222222222222222,
              "#7201a8"
             ],
             [
              0.3333333333333333,
              "#9c179e"
             ],
             [
              0.4444444444444444,
              "#bd3786"
             ],
             [
              0.5555555555555556,
              "#d8576b"
             ],
             [
              0.6666666666666666,
              "#ed7953"
             ],
             [
              0.7777777777777778,
              "#fb9f3a"
             ],
             [
              0.8888888888888888,
              "#fdca26"
             ],
             [
              1,
              "#f0f921"
             ]
            ],
            "type": "histogram2dcontour"
           }
          ],
          "mesh3d": [
           {
            "colorbar": {
             "outlinewidth": 0,
             "ticks": ""
            },
            "type": "mesh3d"
           }
          ],
          "parcoords": [
           {
            "line": {
             "colorbar": {
              "outlinewidth": 0,
              "ticks": ""
             }
            },
            "type": "parcoords"
           }
          ],
          "pie": [
           {
            "automargin": true,
            "type": "pie"
           }
          ],
          "scatter": [
           {
            "marker": {
             "colorbar": {
              "outlinewidth": 0,
              "ticks": ""
             }
            },
            "type": "scatter"
           }
          ],
          "scatter3d": [
           {
            "line": {
             "colorbar": {
              "outlinewidth": 0,
              "ticks": ""
             }
            },
            "marker": {
             "colorbar": {
              "outlinewidth": 0,
              "ticks": ""
             }
            },
            "type": "scatter3d"
           }
          ],
          "scattercarpet": [
           {
            "marker": {
             "colorbar": {
              "outlinewidth": 0,
              "ticks": ""
             }
            },
            "type": "scattercarpet"
           }
          ],
          "scattergeo": [
           {
            "marker": {
             "colorbar": {
              "outlinewidth": 0,
              "ticks": ""
             }
            },
            "type": "scattergeo"
           }
          ],
          "scattergl": [
           {
            "marker": {
             "colorbar": {
              "outlinewidth": 0,
              "ticks": ""
             }
            },
            "type": "scattergl"
           }
          ],
          "scattermapbox": [
           {
            "marker": {
             "colorbar": {
              "outlinewidth": 0,
              "ticks": ""
             }
            },
            "type": "scattermapbox"
           }
          ],
          "scatterpolar": [
           {
            "marker": {
             "colorbar": {
              "outlinewidth": 0,
              "ticks": ""
             }
            },
            "type": "scatterpolar"
           }
          ],
          "scatterpolargl": [
           {
            "marker": {
             "colorbar": {
              "outlinewidth": 0,
              "ticks": ""
             }
            },
            "type": "scatterpolargl"
           }
          ],
          "scatterternary": [
           {
            "marker": {
             "colorbar": {
              "outlinewidth": 0,
              "ticks": ""
             }
            },
            "type": "scatterternary"
           }
          ],
          "surface": [
           {
            "colorbar": {
             "outlinewidth": 0,
             "ticks": ""
            },
            "colorscale": [
             [
              0,
              "#0d0887"
             ],
             [
              0.1111111111111111,
              "#46039f"
             ],
             [
              0.2222222222222222,
              "#7201a8"
             ],
             [
              0.3333333333333333,
              "#9c179e"
             ],
             [
              0.4444444444444444,
              "#bd3786"
             ],
             [
              0.5555555555555556,
              "#d8576b"
             ],
             [
              0.6666666666666666,
              "#ed7953"
             ],
             [
              0.7777777777777778,
              "#fb9f3a"
             ],
             [
              0.8888888888888888,
              "#fdca26"
             ],
             [
              1,
              "#f0f921"
             ]
            ],
            "type": "surface"
           }
          ],
          "table": [
           {
            "cells": {
             "fill": {
              "color": "#EBF0F8"
             },
             "line": {
              "color": "white"
             }
            },
            "header": {
             "fill": {
              "color": "#C8D4E3"
             },
             "line": {
              "color": "white"
             }
            },
            "type": "table"
           }
          ]
         },
         "layout": {
          "annotationdefaults": {
           "arrowcolor": "#2a3f5f",
           "arrowhead": 0,
           "arrowwidth": 1
          },
          "coloraxis": {
           "colorbar": {
            "outlinewidth": 0,
            "ticks": ""
           }
          },
          "colorscale": {
           "diverging": [
            [
             0,
             "#8e0152"
            ],
            [
             0.1,
             "#c51b7d"
            ],
            [
             0.2,
             "#de77ae"
            ],
            [
             0.3,
             "#f1b6da"
            ],
            [
             0.4,
             "#fde0ef"
            ],
            [
             0.5,
             "#f7f7f7"
            ],
            [
             0.6,
             "#e6f5d0"
            ],
            [
             0.7,
             "#b8e186"
            ],
            [
             0.8,
             "#7fbc41"
            ],
            [
             0.9,
             "#4d9221"
            ],
            [
             1,
             "#276419"
            ]
           ],
           "sequential": [
            [
             0,
             "#0d0887"
            ],
            [
             0.1111111111111111,
             "#46039f"
            ],
            [
             0.2222222222222222,
             "#7201a8"
            ],
            [
             0.3333333333333333,
             "#9c179e"
            ],
            [
             0.4444444444444444,
             "#bd3786"
            ],
            [
             0.5555555555555556,
             "#d8576b"
            ],
            [
             0.6666666666666666,
             "#ed7953"
            ],
            [
             0.7777777777777778,
             "#fb9f3a"
            ],
            [
             0.8888888888888888,
             "#fdca26"
            ],
            [
             1,
             "#f0f921"
            ]
           ],
           "sequentialminus": [
            [
             0,
             "#0d0887"
            ],
            [
             0.1111111111111111,
             "#46039f"
            ],
            [
             0.2222222222222222,
             "#7201a8"
            ],
            [
             0.3333333333333333,
             "#9c179e"
            ],
            [
             0.4444444444444444,
             "#bd3786"
            ],
            [
             0.5555555555555556,
             "#d8576b"
            ],
            [
             0.6666666666666666,
             "#ed7953"
            ],
            [
             0.7777777777777778,
             "#fb9f3a"
            ],
            [
             0.8888888888888888,
             "#fdca26"
            ],
            [
             1,
             "#f0f921"
            ]
           ]
          },
          "colorway": [
           "#636efa",
           "#EF553B",
           "#00cc96",
           "#ab63fa",
           "#FFA15A",
           "#19d3f3",
           "#FF6692",
           "#B6E880",
           "#FF97FF",
           "#FECB52"
          ],
          "font": {
           "color": "#2a3f5f"
          },
          "geo": {
           "bgcolor": "white",
           "lakecolor": "white",
           "landcolor": "#E5ECF6",
           "showlakes": true,
           "showland": true,
           "subunitcolor": "white"
          },
          "hoverlabel": {
           "align": "left"
          },
          "hovermode": "closest",
          "mapbox": {
           "style": "light"
          },
          "paper_bgcolor": "white",
          "plot_bgcolor": "#E5ECF6",
          "polar": {
           "angularaxis": {
            "gridcolor": "white",
            "linecolor": "white",
            "ticks": ""
           },
           "bgcolor": "#E5ECF6",
           "radialaxis": {
            "gridcolor": "white",
            "linecolor": "white",
            "ticks": ""
           }
          },
          "scene": {
           "xaxis": {
            "backgroundcolor": "#E5ECF6",
            "gridcolor": "white",
            "gridwidth": 2,
            "linecolor": "white",
            "showbackground": true,
            "ticks": "",
            "zerolinecolor": "white"
           },
           "yaxis": {
            "backgroundcolor": "#E5ECF6",
            "gridcolor": "white",
            "gridwidth": 2,
            "linecolor": "white",
            "showbackground": true,
            "ticks": "",
            "zerolinecolor": "white"
           },
           "zaxis": {
            "backgroundcolor": "#E5ECF6",
            "gridcolor": "white",
            "gridwidth": 2,
            "linecolor": "white",
            "showbackground": true,
            "ticks": "",
            "zerolinecolor": "white"
           }
          },
          "shapedefaults": {
           "line": {
            "color": "#2a3f5f"
           }
          },
          "ternary": {
           "aaxis": {
            "gridcolor": "white",
            "linecolor": "white",
            "ticks": ""
           },
           "baxis": {
            "gridcolor": "white",
            "linecolor": "white",
            "ticks": ""
           },
           "bgcolor": "#E5ECF6",
           "caxis": {
            "gridcolor": "white",
            "linecolor": "white",
            "ticks": ""
           }
          },
          "title": {
           "x": 0.05
          },
          "xaxis": {
           "automargin": true,
           "gridcolor": "white",
           "linecolor": "white",
           "ticks": "",
           "title": {
            "standoff": 15
           },
           "zerolinecolor": "white",
           "zerolinewidth": 2
          },
          "yaxis": {
           "automargin": true,
           "gridcolor": "white",
           "linecolor": "white",
           "ticks": "",
           "title": {
            "standoff": 15
           },
           "zerolinecolor": "white",
           "zerolinewidth": 2
          }
         }
        }
       }
      },
      "text/html": [
       "<div>\n",
       "        \n",
       "        \n",
       "            <div id=\"39df1a2a-cdfe-4888-bc88-6fb7e7b65e18\" class=\"plotly-graph-div\" style=\"height:525px; width:100%;\"></div>\n",
       "            <script type=\"text/javascript\">\n",
       "                require([\"plotly\"], function(Plotly) {\n",
       "                    window.PLOTLYENV=window.PLOTLYENV || {};\n",
       "                    \n",
       "                if (document.getElementById(\"39df1a2a-cdfe-4888-bc88-6fb7e7b65e18\")) {\n",
       "                    Plotly.newPlot(\n",
       "                        '39df1a2a-cdfe-4888-bc88-6fb7e7b65e18',\n",
       "                        [{\"marker\": {\"color\": \"rgba(180,18,155,0.5)\", \"line\": {\"color\": \"red\", \"width\": 1}, \"size\": 10}, \"mode\": \"markers\", \"name\": \"Technical\", \"text\": [\"04-Swamy_Sarnala.docx\", \"07-VamsiManoharBojjaResume java (1).docx\", \"09-Sultana shaik-SAP Native HANA.docx\", \"1.1.1.1 Solutions - Application Delivery - Solution Architect (GC&E).docx\", \"1.1.1.1 Solutions - Application Delivery - Solution Architect.docx\", \"1.docx\", \"123Mallareddy_Mulesoft123.docx\", \"1495020666795.RSO - Full Stack Developer.docx\", \"1BhanuChandher_Sr MSCRM_Developer_ASP.NET.docx\", \"2017Resume.docx\", \"2188845-JD_CA_Java_Middleware_Developer-Sunnyvale.docx\", \"4 SARAVANA_SAP_Security_SSK.docx\", \"4+years Devops -Ramakrishna.docx\", \"4677_22924_1507756493Satish-resume.docx\", \"4677_26682_1511900071Bhavani.docx\", \"4677_3230_1508178703Bharath.docx\", \"4677_36061_1500470836Mohammed-Iliyaz.docx\", \"4677_46627_1509645130PraveenAEM.docx\", \"4677_53845_1509634820Mohammed-Iliyaz-10-1-.docx\", \"4677_61557_1502988985John-Dasari-Resume.docx\", \"4677_69769_1501530283John-Dasari-Resume.docx\", \"4677_74370_1500996506Saimanoha-Bhavandla-Pyth.docx\", \"4677_94364_1509987384Bhavani.docx\", \"4677_97275_1505144970Abhilash-Python-Resume.docx\", \"6xjvs8s944h9yei6 (1)2.docx\", \"8cem7jz2gxjch2at33.docx\", \"8fxtv3yqzxqdedmy.docx\", \"9064_15190_1514388232VishwaS.docx\", \"9064_26328_1512150968QA-Manager-Lead.docx\", \"9064_32864_1511203501Bhavana_ETL-Developer.docx\", \"9064_51695_1512077399QA-Manager-Lead.docx\", \"9064_70157_1511808439VishwaS.docx\", \"a.docx\", \"Aakanksha Jaiman-Data Science Resume2.docx\", \"Aakash Mayur Shiva Kumar.docx\", \"Aakash_BA.docx\", \"Aalap Desai.docx\", \"Aalap Desai_Resume.docx\", \"Aalok Resume.docx\", \"AARTI PATHAK.docx\", \"Aarzoo Sharma.docx\", \"AASHRITH REDDY_Resume.docx\", \"Aashrith_Sr.SFDC.docx\", \"Aayisha_Designer.docx\", \"Abayomi Ajuwon.docx\", \"Abbas Ali Akbar Shaikh.docx\", \"abbas syed resume.docx\", \"Abbas_Jafari RESUME 21.docx\", \"Abdul Adil.docx\", \"Abdul Aleem Mohammed_Salesforce Developer with Marketing Cloud .docx\", \"Abdul Hameed Syed.docx\", \"Abdul Hameed.docx\", \"Abdul Khadeer - Java.docx\", \"Abdul Mohammed,s Resume.docx\", \"Abdul Mohammed.docx\", \"Abdul Nabi Mohammad.docx\", \"Abdul Rawoof Mohammed_BA.docx\", \"Abdul Samad.docx\", \"Abdul Shaikh_Microsoft Exchange Server  Admin.docx\", \"Abdul Wahed Quraishi.docx\", \"Abdul.docx\", \"AbdulHameed_JAVA-US_CV.docx\", \"Abdullah Ahmed.docx\", \"Abdul_H_Hyath_Resume.docx\", \"Abdul_Johnson_Resume_H.docx\", \"Abdul_Mohammed_Validation_Engineer.docx\", \"Abdul_SitecoreDev.docx\", \"Abdur Rafay Mohammed_Pentaho Developer.docx\", \"Abdus Sami Abedi   resume.docx\", \"Abeer Khan - AWS Solutions Architect.docx\", \"Abel Fuentes Garza.docx\", \"Abhay_Sr_DataArchitect_Modeler.docx\", \"Abheeshta Gone Resume (2).docx\", \"Abheeshta Gone Resume.docx\", \"Abhi CRM  Resume.docx\", \"Abhigna-J2EE_Developer.docx\", \"Abhijeet.docx\", \"Abhijeeth_G resume.docx\", \"Abhijit Dhoat BA.docx\", \"Abhijit Dhoat resume.docx\", \"Abhijit Panchal resume.docx\", \"Abhijit Pramanik.docx\", \"Abhijit Santosh Kulkarni_Business Analyst with Outage Management.docx\", \"AbhijitChowd_Singamaneni.docx\", \"ABHIJITH REDDY_.Net Developer  (2).docx\", \"ABHIJITH REDDY_.Net Developer.docx\", \"Abhilash (2).docx\", \"Abhilash Baredu_MuleSoft Developer.docx\", \"Abhilash.docx\", \"Abhilash.UI HTML.docx\", \"Abhilash.UI.docx\", \"Abhilash_CRM.docx\", \"Abhilash_Cyber Security.docx\", \"Abhilash_Drools.docx\", \"Abhilash_G (1).docx\", \"Abhilash_G.docx\", \"Abhi_DB2_DBA (1).docx\"], \"type\": \"scatter\", \"x\": [-0.027899917147354986, -0.21917571469078478, -0.20200068542010693, -0.16750754832497086, -0.1526671792415717, -0.15266717924157175, -0.18893436118591173, -0.04341877681779085, -0.2923508092906968, -0.3034953335339627, -0.24741695526715893, -0.19982450444911806, -0.1798571416971311, -0.1528401336874851, -0.02934049449460547, -0.1679781582169695, -0.22611227065962244, -0.33572984179497956, -0.33570099118268726, -0.22803781435424142, -0.19794364835327005, -0.3704558294836876, -0.3704558294836876, -0.2824248517858722, -0.1623840556078193, -0.36981306882922665, -0.36981306882922665, -0.21401190681227247, -0.089581953251948, -0.07890175942181052], \"y\": [-0.153127689944062, -0.03357102365642486, -0.09668357361533085, -0.10516598476197427, -0.1512945163838617, -0.15129451638386165, -0.24664072436984705, -0.06963247009586247, -0.23038731516783337, -0.2368963143186597, -0.22511476457812382, -0.08401661711916614, -0.10922598360499727, -0.08564179095929264, -0.1992746963622089, -0.06411000507658052, -0.24885258889467235, -0.21416006663192474, -0.21822166830009246, -0.2505398081647675, -0.17698262238927015, -0.25648097202204856, -0.25648097202204845, -0.241595461455164, -0.2611697211986829, -0.30813326067153574, -0.30813326067153574, -0.2159516866522568, -0.21067538192549187, -0.05312149934635654]}, {\"marker\": {\"color\": \"rgba(15,820,152,0.5)\", \"line\": {\"color\": \"rgb(0,0,0)\", \"width\": 1}, \"size\": 10}, \"mode\": \"markers\", \"name\": \"Non-Technical\", \"text\": [\"04-Swamy_Sarnala.docx\", \"07-VamsiManoharBojjaResume java (1).docx\", \"09-Sultana shaik-SAP Native HANA.docx\", \"1.1.1.1 Solutions - Application Delivery - Solution Architect (GC&E).docx\", \"1.1.1.1 Solutions - Application Delivery - Solution Architect.docx\", \"1.docx\", \"123Mallareddy_Mulesoft123.docx\", \"1495020666795.RSO - Full Stack Developer.docx\", \"1BhanuChandher_Sr MSCRM_Developer_ASP.NET.docx\", \"2017Resume.docx\", \"2188845-JD_CA_Java_Middleware_Developer-Sunnyvale.docx\", \"4 SARAVANA_SAP_Security_SSK.docx\", \"4+years Devops -Ramakrishna.docx\", \"4677_22924_1507756493Satish-resume.docx\", \"4677_26682_1511900071Bhavani.docx\", \"4677_3230_1508178703Bharath.docx\", \"4677_36061_1500470836Mohammed-Iliyaz.docx\", \"4677_46627_1509645130PraveenAEM.docx\", \"4677_53845_1509634820Mohammed-Iliyaz-10-1-.docx\", \"4677_61557_1502988985John-Dasari-Resume.docx\", \"4677_69769_1501530283John-Dasari-Resume.docx\", \"4677_74370_1500996506Saimanoha-Bhavandla-Pyth.docx\", \"4677_94364_1509987384Bhavani.docx\", \"4677_97275_1505144970Abhilash-Python-Resume.docx\", \"6xjvs8s944h9yei6 (1)2.docx\", \"8cem7jz2gxjch2at33.docx\", \"8fxtv3yqzxqdedmy.docx\", \"9064_15190_1514388232VishwaS.docx\", \"9064_26328_1512150968QA-Manager-Lead.docx\", \"9064_32864_1511203501Bhavana_ETL-Developer.docx\", \"9064_51695_1512077399QA-Manager-Lead.docx\", \"9064_70157_1511808439VishwaS.docx\", \"a.docx\", \"Aakanksha Jaiman-Data Science Resume2.docx\", \"Aakash Mayur Shiva Kumar.docx\", \"Aakash_BA.docx\", \"Aalap Desai.docx\", \"Aalap Desai_Resume.docx\", \"Aalok Resume.docx\", \"AARTI PATHAK.docx\", \"Aarzoo Sharma.docx\", \"AASHRITH REDDY_Resume.docx\", \"Aashrith_Sr.SFDC.docx\", \"Aayisha_Designer.docx\", \"Abayomi Ajuwon.docx\", \"Abbas Ali Akbar Shaikh.docx\", \"abbas syed resume.docx\", \"Abbas_Jafari RESUME 21.docx\", \"Abdul Adil.docx\", \"Abdul Aleem Mohammed_Salesforce Developer with Marketing Cloud .docx\", \"Abdul Hameed Syed.docx\", \"Abdul Hameed.docx\", \"Abdul Khadeer - Java.docx\", \"Abdul Mohammed,s Resume.docx\", \"Abdul Mohammed.docx\", \"Abdul Nabi Mohammad.docx\", \"Abdul Rawoof Mohammed_BA.docx\", \"Abdul Samad.docx\", \"Abdul Shaikh_Microsoft Exchange Server  Admin.docx\", \"Abdul Wahed Quraishi.docx\", \"Abdul.docx\", \"AbdulHameed_JAVA-US_CV.docx\", \"Abdullah Ahmed.docx\", \"Abdul_H_Hyath_Resume.docx\", \"Abdul_Johnson_Resume_H.docx\", \"Abdul_Mohammed_Validation_Engineer.docx\", \"Abdul_SitecoreDev.docx\", \"Abdur Rafay Mohammed_Pentaho Developer.docx\", \"Abdus Sami Abedi   resume.docx\", \"Abeer Khan - AWS Solutions Architect.docx\", \"Abel Fuentes Garza.docx\", \"Abhay_Sr_DataArchitect_Modeler.docx\", \"Abheeshta Gone Resume (2).docx\", \"Abheeshta Gone Resume.docx\", \"Abhi CRM  Resume.docx\", \"Abhigna-J2EE_Developer.docx\", \"Abhijeet.docx\", \"Abhijeeth_G resume.docx\", \"Abhijit Dhoat BA.docx\", \"Abhijit Dhoat resume.docx\", \"Abhijit Panchal resume.docx\", \"Abhijit Pramanik.docx\", \"Abhijit Santosh Kulkarni_Business Analyst with Outage Management.docx\", \"AbhijitChowd_Singamaneni.docx\", \"ABHIJITH REDDY_.Net Developer  (2).docx\", \"ABHIJITH REDDY_.Net Developer.docx\", \"Abhilash (2).docx\", \"Abhilash Baredu_MuleSoft Developer.docx\", \"Abhilash.docx\", \"Abhilash.UI HTML.docx\", \"Abhilash.UI.docx\", \"Abhilash_CRM.docx\", \"Abhilash_Cyber Security.docx\", \"Abhilash_Drools.docx\", \"Abhilash_G (1).docx\", \"Abhilash_G.docx\", \"Abhi_DB2_DBA (1).docx\"], \"type\": \"scatter\", \"x\": [-0.04678271912344947, -0.03336595050996373, -0.08464463794142718, -0.06193839344623675, -0.08881250631966156, -0.021954072305587505, -0.15980655173713224, -0.004325816561638361, 0.07504502841526785, -0.16190280802707366, -0.07973916252971869, 0.0410024599963541, 0.03380167812366929, 0.06562754405428539, -0.021265290761688677, -0.021265290761688597, 0.048321610241823756, -0.1619028080270736, 0.0940174620211699, -0.09481781691056615, -0.024545284613036657, -0.044659204394481435, -0.03201264788775824, -0.12862884644319775, 0.017908522177947632, -0.07917006648540005, -0.0019531212873171297, 0.0700915499096379, -0.07957467544909011, -0.08679516186597604, -0.11674503931362361, 0.02454209428924862, 0.08617802197379745, -0.32992835701911366, -0.32992835701911366, -0.14371024973941207, -0.05300403016440073, -0.015099306973042516, -0.015099306973042513, -0.07234909004250029, -0.06333928025450068, 0.1723077519891352, 0.17230775198913514], \"y\": [0.160638265118123, 0.28686017743593495, 0.051311059520148375, -0.029909956706273232, 0.3114950320471441, 0.09532093113204132, 0.10980790520421473, 0.032742538986456474, 0.3929114000969649, 0.20093051620044103, -0.0661038669636811, 0.3272447913097632, 0.3139964707345476, 0.39499550079269824, 0.3833466933449252, 0.38334669334492527, 0.2513705147131305, 0.200930516200441, 0.37752044293443926, 0.01625692036711026, -0.07114429718757025, 0.2902983619576126, 0.18401349444581036, 0.0699114028094917, 0.21154819295389007, 0.2400593443250636, 0.0806609820298641, 0.19605951555014053, 0.23965555079414025, -0.030647340515764857, 0.30763866432961395, 0.201316812629203, 0.3704523342910891, 0.25034845601930145, 0.2503484560193015, 0.08253654218839578, 0.19781128145010285, 0.2693110821826378, 0.26931108218263783, 0.285286884897926, 0.27535825375548295, 0.25568112907322194, 0.25568112907322205]}],\n",
       "                        {\"template\": {\"data\": {\"bar\": [{\"error_x\": {\"color\": \"#2a3f5f\"}, \"error_y\": {\"color\": \"#2a3f5f\"}, \"marker\": {\"line\": {\"color\": \"#E5ECF6\", \"width\": 0.5}}, \"type\": \"bar\"}], \"barpolar\": [{\"marker\": {\"line\": {\"color\": \"#E5ECF6\", \"width\": 0.5}}, \"type\": \"barpolar\"}], \"carpet\": [{\"aaxis\": {\"endlinecolor\": \"#2a3f5f\", \"gridcolor\": \"white\", \"linecolor\": \"white\", \"minorgridcolor\": \"white\", \"startlinecolor\": \"#2a3f5f\"}, \"baxis\": {\"endlinecolor\": \"#2a3f5f\", \"gridcolor\": \"white\", \"linecolor\": \"white\", \"minorgridcolor\": \"white\", \"startlinecolor\": \"#2a3f5f\"}, \"type\": \"carpet\"}], \"choropleth\": [{\"colorbar\": {\"outlinewidth\": 0, \"ticks\": \"\"}, \"type\": \"choropleth\"}], \"contour\": [{\"colorbar\": {\"outlinewidth\": 0, \"ticks\": \"\"}, \"colorscale\": [[0.0, \"#0d0887\"], [0.1111111111111111, \"#46039f\"], [0.2222222222222222, \"#7201a8\"], [0.3333333333333333, \"#9c179e\"], [0.4444444444444444, \"#bd3786\"], [0.5555555555555556, \"#d8576b\"], [0.6666666666666666, \"#ed7953\"], [0.7777777777777778, \"#fb9f3a\"], [0.8888888888888888, \"#fdca26\"], [1.0, \"#f0f921\"]], \"type\": \"contour\"}], \"contourcarpet\": [{\"colorbar\": {\"outlinewidth\": 0, \"ticks\": \"\"}, \"type\": \"contourcarpet\"}], \"heatmap\": [{\"colorbar\": {\"outlinewidth\": 0, \"ticks\": \"\"}, \"colorscale\": [[0.0, \"#0d0887\"], [0.1111111111111111, \"#46039f\"], [0.2222222222222222, \"#7201a8\"], [0.3333333333333333, \"#9c179e\"], [0.4444444444444444, \"#bd3786\"], [0.5555555555555556, \"#d8576b\"], [0.6666666666666666, \"#ed7953\"], [0.7777777777777778, \"#fb9f3a\"], [0.8888888888888888, \"#fdca26\"], [1.0, \"#f0f921\"]], \"type\": \"heatmap\"}], \"heatmapgl\": [{\"colorbar\": {\"outlinewidth\": 0, \"ticks\": \"\"}, \"colorscale\": [[0.0, \"#0d0887\"], [0.1111111111111111, \"#46039f\"], [0.2222222222222222, \"#7201a8\"], [0.3333333333333333, \"#9c179e\"], [0.4444444444444444, \"#bd3786\"], [0.5555555555555556, \"#d8576b\"], [0.6666666666666666, \"#ed7953\"], [0.7777777777777778, \"#fb9f3a\"], [0.8888888888888888, \"#fdca26\"], [1.0, \"#f0f921\"]], \"type\": \"heatmapgl\"}], \"histogram\": [{\"marker\": {\"colorbar\": {\"outlinewidth\": 0, \"ticks\": \"\"}}, \"type\": \"histogram\"}], \"histogram2d\": [{\"colorbar\": {\"outlinewidth\": 0, \"ticks\": \"\"}, \"colorscale\": [[0.0, \"#0d0887\"], [0.1111111111111111, \"#46039f\"], [0.2222222222222222, \"#7201a8\"], [0.3333333333333333, \"#9c179e\"], [0.4444444444444444, \"#bd3786\"], [0.5555555555555556, \"#d8576b\"], [0.6666666666666666, \"#ed7953\"], [0.7777777777777778, \"#fb9f3a\"], [0.8888888888888888, \"#fdca26\"], [1.0, \"#f0f921\"]], \"type\": \"histogram2d\"}], \"histogram2dcontour\": [{\"colorbar\": {\"outlinewidth\": 0, \"ticks\": \"\"}, \"colorscale\": [[0.0, \"#0d0887\"], [0.1111111111111111, \"#46039f\"], [0.2222222222222222, \"#7201a8\"], [0.3333333333333333, \"#9c179e\"], [0.4444444444444444, \"#bd3786\"], [0.5555555555555556, \"#d8576b\"], [0.6666666666666666, \"#ed7953\"], [0.7777777777777778, \"#fb9f3a\"], [0.8888888888888888, \"#fdca26\"], [1.0, \"#f0f921\"]], \"type\": \"histogram2dcontour\"}], \"mesh3d\": [{\"colorbar\": {\"outlinewidth\": 0, \"ticks\": \"\"}, \"type\": \"mesh3d\"}], \"parcoords\": [{\"line\": {\"colorbar\": {\"outlinewidth\": 0, \"ticks\": \"\"}}, \"type\": \"parcoords\"}], \"pie\": [{\"automargin\": true, \"type\": \"pie\"}], \"scatter\": [{\"marker\": {\"colorbar\": {\"outlinewidth\": 0, \"ticks\": \"\"}}, \"type\": \"scatter\"}], \"scatter3d\": [{\"line\": {\"colorbar\": {\"outlinewidth\": 0, \"ticks\": \"\"}}, \"marker\": {\"colorbar\": {\"outlinewidth\": 0, \"ticks\": \"\"}}, \"type\": \"scatter3d\"}], \"scattercarpet\": [{\"marker\": {\"colorbar\": {\"outlinewidth\": 0, \"ticks\": \"\"}}, \"type\": \"scattercarpet\"}], \"scattergeo\": [{\"marker\": {\"colorbar\": {\"outlinewidth\": 0, \"ticks\": \"\"}}, \"type\": \"scattergeo\"}], \"scattergl\": [{\"marker\": {\"colorbar\": {\"outlinewidth\": 0, \"ticks\": \"\"}}, \"type\": \"scattergl\"}], \"scattermapbox\": [{\"marker\": {\"colorbar\": {\"outlinewidth\": 0, \"ticks\": \"\"}}, \"type\": \"scattermapbox\"}], \"scatterpolar\": [{\"marker\": {\"colorbar\": {\"outlinewidth\": 0, \"ticks\": \"\"}}, \"type\": \"scatterpolar\"}], \"scatterpolargl\": [{\"marker\": {\"colorbar\": {\"outlinewidth\": 0, \"ticks\": \"\"}}, \"type\": \"scatterpolargl\"}], \"scatterternary\": [{\"marker\": {\"colorbar\": {\"outlinewidth\": 0, \"ticks\": \"\"}}, \"type\": \"scatterternary\"}], \"surface\": [{\"colorbar\": {\"outlinewidth\": 0, \"ticks\": \"\"}, \"colorscale\": [[0.0, \"#0d0887\"], [0.1111111111111111, \"#46039f\"], [0.2222222222222222, \"#7201a8\"], [0.3333333333333333, \"#9c179e\"], [0.4444444444444444, \"#bd3786\"], [0.5555555555555556, \"#d8576b\"], [0.6666666666666666, \"#ed7953\"], [0.7777777777777778, \"#fb9f3a\"], [0.8888888888888888, \"#fdca26\"], [1.0, \"#f0f921\"]], \"type\": \"surface\"}], \"table\": [{\"cells\": {\"fill\": {\"color\": \"#EBF0F8\"}, \"line\": {\"color\": \"white\"}}, \"header\": {\"fill\": {\"color\": \"#C8D4E3\"}, \"line\": {\"color\": \"white\"}}, \"type\": \"table\"}]}, \"layout\": {\"annotationdefaults\": {\"arrowcolor\": \"#2a3f5f\", \"arrowhead\": 0, \"arrowwidth\": 1}, \"coloraxis\": {\"colorbar\": {\"outlinewidth\": 0, \"ticks\": \"\"}}, \"colorscale\": {\"diverging\": [[0, \"#8e0152\"], [0.1, \"#c51b7d\"], [0.2, \"#de77ae\"], [0.3, \"#f1b6da\"], [0.4, \"#fde0ef\"], [0.5, \"#f7f7f7\"], [0.6, \"#e6f5d0\"], [0.7, \"#b8e186\"], [0.8, \"#7fbc41\"], [0.9, \"#4d9221\"], [1, \"#276419\"]], \"sequential\": [[0.0, \"#0d0887\"], [0.1111111111111111, \"#46039f\"], [0.2222222222222222, \"#7201a8\"], [0.3333333333333333, \"#9c179e\"], [0.4444444444444444, \"#bd3786\"], [0.5555555555555556, \"#d8576b\"], [0.6666666666666666, \"#ed7953\"], [0.7777777777777778, \"#fb9f3a\"], [0.8888888888888888, \"#fdca26\"], [1.0, \"#f0f921\"]], \"sequentialminus\": [[0.0, \"#0d0887\"], [0.1111111111111111, \"#46039f\"], [0.2222222222222222, \"#7201a8\"], [0.3333333333333333, \"#9c179e\"], [0.4444444444444444, \"#bd3786\"], [0.5555555555555556, \"#d8576b\"], [0.6666666666666666, \"#ed7953\"], [0.7777777777777778, \"#fb9f3a\"], [0.8888888888888888, \"#fdca26\"], [1.0, \"#f0f921\"]]}, \"colorway\": [\"#636efa\", \"#EF553B\", \"#00cc96\", \"#ab63fa\", \"#FFA15A\", \"#19d3f3\", \"#FF6692\", \"#B6E880\", \"#FF97FF\", \"#FECB52\"], \"font\": {\"color\": \"#2a3f5f\"}, \"geo\": {\"bgcolor\": \"white\", \"lakecolor\": \"white\", \"landcolor\": \"#E5ECF6\", \"showlakes\": true, \"showland\": true, \"subunitcolor\": \"white\"}, \"hoverlabel\": {\"align\": \"left\"}, \"hovermode\": \"closest\", \"mapbox\": {\"style\": \"light\"}, \"paper_bgcolor\": \"white\", \"plot_bgcolor\": \"#E5ECF6\", \"polar\": {\"angularaxis\": {\"gridcolor\": \"white\", \"linecolor\": \"white\", \"ticks\": \"\"}, \"bgcolor\": \"#E5ECF6\", \"radialaxis\": {\"gridcolor\": \"white\", \"linecolor\": \"white\", \"ticks\": \"\"}}, \"scene\": {\"xaxis\": {\"backgroundcolor\": \"#E5ECF6\", \"gridcolor\": \"white\", \"gridwidth\": 2, \"linecolor\": \"white\", \"showbackground\": true, \"ticks\": \"\", \"zerolinecolor\": \"white\"}, \"yaxis\": {\"backgroundcolor\": \"#E5ECF6\", \"gridcolor\": \"white\", \"gridwidth\": 2, \"linecolor\": \"white\", \"showbackground\": true, \"ticks\": \"\", \"zerolinecolor\": \"white\"}, \"zaxis\": {\"backgroundcolor\": \"#E5ECF6\", \"gridcolor\": \"white\", \"gridwidth\": 2, \"linecolor\": \"white\", \"showbackground\": true, \"ticks\": \"\", \"zerolinecolor\": \"white\"}}, \"shapedefaults\": {\"line\": {\"color\": \"#2a3f5f\"}}, \"ternary\": {\"aaxis\": {\"gridcolor\": \"white\", \"linecolor\": \"white\", \"ticks\": \"\"}, \"baxis\": {\"gridcolor\": \"white\", \"linecolor\": \"white\", \"ticks\": \"\"}, \"bgcolor\": \"#E5ECF6\", \"caxis\": {\"gridcolor\": \"white\", \"linecolor\": \"white\", \"ticks\": \"\"}}, \"title\": {\"x\": 0.05}, \"xaxis\": {\"automargin\": true, \"gridcolor\": \"white\", \"linecolor\": \"white\", \"ticks\": \"\", \"title\": {\"standoff\": 15}, \"zerolinecolor\": \"white\", \"zerolinewidth\": 2}, \"yaxis\": {\"automargin\": true, \"gridcolor\": \"white\", \"linecolor\": \"white\", \"ticks\": \"\", \"title\": {\"standoff\": 15}, \"zerolinecolor\": \"white\", \"zerolinewidth\": 2}}}},\n",
       "                        {\"responsive\": true}\n",
       "                    ).then(function(){\n",
       "                            \n",
       "var gd = document.getElementById('39df1a2a-cdfe-4888-bc88-6fb7e7b65e18');\n",
       "var x = new MutationObserver(function (mutations, observer) {{\n",
       "        var display = window.getComputedStyle(gd).display;\n",
       "        if (!display || display === 'none') {{\n",
       "            console.log([gd, 'removed!']);\n",
       "            Plotly.purge(gd);\n",
       "            observer.disconnect();\n",
       "        }}\n",
       "}});\n",
       "\n",
       "// Listen for the removal of the full notebook cells\n",
       "var notebookContainer = gd.closest('#notebook-container');\n",
       "if (notebookContainer) {{\n",
       "    x.observe(notebookContainer, {childList: true});\n",
       "}}\n",
       "\n",
       "// Listen for the clearing of the current output cell\n",
       "var outputEl = gd.closest('.output');\n",
       "if (outputEl) {{\n",
       "    x.observe(outputEl, {childList: true});\n",
       "}}\n",
       "\n",
       "                        })\n",
       "                };\n",
       "                });\n",
       "            </script>\n",
       "        </div>"
      ]
     },
     "metadata": {},
     "output_type": "display_data"
    }
   ],
   "source": [
    "trace_0 = py.graph_objs.Scatter(x= final_df[final_df.Cluster == 0][\"X\"],\n",
    "                    y= final_df[final_df.Cluster == 0][\"Y\"],text=final_df[0],\n",
    "                    name= \"Technical\",\n",
    "                    mode= 'markers',\n",
    "                    marker= dict(size=10,\n",
    "                                color= \"rgba(180,18,155,0.5)\",\n",
    "                                line= dict(width= 1,color= \"red\")))\n",
    "trace_1 = go.Scatter(x= final_df[final_df.Cluster == 1][\"X\"],\n",
    "                    y= final_df[final_df.Cluster == 1][\"Y\"],text=final_df[0],\n",
    "                    name= \"Non-Technical\",\n",
    "                    mode= 'markers',\n",
    "                    marker= dict(size=10,\n",
    "                                color= \"rgba(15,820,152,0.5)\",\n",
    "                                line= dict(width= 1,color= \"rgb(0,0,0)\")))\n",
    "\n",
    "                               \n",
    "data= [trace_0,trace_1]\n",
    "fig = iplot(data)"
   ]
  },
  {
   "cell_type": "code",
   "execution_count": null,
   "metadata": {},
   "outputs": [],
   "source": []
  }
 ],
 "metadata": {
  "kernelspec": {
   "display_name": "Resume_env",
   "language": "python",
   "name": "resume_env"
  },
  "language_info": {
   "codemirror_mode": {
    "name": "ipython",
    "version": 3
   },
   "file_extension": ".py",
   "mimetype": "text/x-python",
   "name": "python",
   "nbconvert_exporter": "python",
   "pygments_lexer": "ipython3",
   "version": "3.7.8"
  },
  "toc": {
   "base_numbering": 1,
   "nav_menu": {},
   "number_sections": true,
   "sideBar": true,
   "skip_h1_title": false,
   "title_cell": "Table of Contents",
   "title_sidebar": "Contents",
   "toc_cell": false,
   "toc_position": {},
   "toc_section_display": true,
   "toc_window_display": false
  }
 },
 "nbformat": 4,
 "nbformat_minor": 4
}
